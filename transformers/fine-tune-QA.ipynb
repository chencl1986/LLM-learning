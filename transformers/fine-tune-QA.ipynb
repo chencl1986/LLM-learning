{
 "cells": [
  {
   "cell_type": "markdown",
   "metadata": {},
   "source": [
    "# Hugging Face Transformers 微调语言模型-问答任务\n",
    "\n",
    "我们已经学会使用 Pipeline 加载支持问答任务的预训练模型，本教程代码将展示如何微调训练一个支持问答任务的模型。\n",
    "\n",
    "**注意：微调后的模型仍然是通过提取上下文的子串来回答问题的，而不是生成新的文本。**\n",
    "\n",
    "### 模型执行问答效果示例\n",
    "\n",
    "![Widget inference representing the QA task](docs/images/question_answering.png)"
   ]
  },
  {
   "cell_type": "code",
   "execution_count": 18,
   "metadata": {
    "id": "zVvslsfMIrIh"
   },
   "outputs": [],
   "source": [
    "# 根据你使用的模型和GPU资源情况，调整以下关键参数\n",
    "squad_v2 = True\n",
    "model_checkpoint = \"distilbert-base-uncased\"\n",
    "batch_size = 16"
   ]
  },
  {
   "cell_type": "markdown",
   "metadata": {
    "id": "whPRbBNbIrIl"
   },
   "source": [
    "## 下载数据集\n",
    "\n",
    "在本教程中，我们将使用[斯坦福问答数据集(SQuAD）](https://rajpurkar.github.io/SQuAD-explorer/)。\n",
    "\n",
    "### SQuAD 数据集\n",
    "\n",
    "**斯坦福问答数据集(SQuAD)** 是一个阅读理解数据集，由众包工作者在一系列维基百科文章上提出问题组成。每个问题的答案都是相应阅读段落中的文本片段或范围，或者该问题可能无法回答。\n",
    "\n",
    "SQuAD2.0将SQuAD1.1中的10万个问题与由众包工作者对抗性地撰写的5万多个无法回答的问题相结合，使其看起来与可回答的问题类似。要在SQuAD2.0上表现良好，系统不仅必须在可能时回答问题，还必须确定段落中没有支持任何答案，并放弃回答。"
   ]
  },
  {
   "cell_type": "code",
   "execution_count": 19,
   "metadata": {
    "id": "IreSlFmlIrIm"
   },
   "outputs": [],
   "source": [
    "from datasets import load_dataset"
   ]
  },
  {
   "cell_type": "code",
   "execution_count": 20,
   "metadata": {
    "colab": {
     "base_uri": "https://localhost:8080/",
     "height": 270,
     "referenced_widgets": [
      "69caab03d6264fef9fc5649bffff5e20",
      "3f74532faa86412293d90d3952f38c4a",
      "50615aa59c7247c4804ca5cbc7945bd7",
      "fe962391292a413ca55dc932c4279fa7",
      "299f4b4c07654e53a25f8192bd1d7bbd",
      "ad04ed1038154081bbb0c1444784dcc2",
      "7c667ad22b5740d5a6319f1b1e3a8097",
      "46c2b043c0f84806978784a45a4e203b",
      "80e2943be35f46eeb24c8ab13faa6578",
      "de5956b5008d4fdba807bae57509c393",
      "931db1f7a42f4b46b7ff8c2e1262b994",
      "6c1db72efff5476e842c1386fadbbdba",
      "ccd2f37647c547abb4c719b75a26f2de",
      "d30a66df5c0145e79693e09789d96b81",
      "5fa26fc336274073abbd1d550542ee33",
      "2b34de08115d49d285def9269a53f484",
      "d426be871b424affb455aeb7db5e822e",
      "160bf88485f44f5cb6eaeecba5e0901f",
      "745c0d47d672477b9bb0dae77b926364",
      "d22ab78269cd4ccfbcf70c707057c31b",
      "d298eb19eeff453cba51c2804629d3f4",
      "a7204ade36314c86907c562e0a2158b8",
      "e35d42b2d352498ca3fc8530393786b2",
      "75103f83538d44abada79b51a1cec09e",
      "f6253931d90543e9b5fd0bb2d615f73a",
      "051aa783ff9e47e28d1f9584043815f5",
      "0984b2a14115454bbb009df71c1cf36f",
      "8ab9dfce29854049912178941ef1b289",
      "c9de740e007141958545e269372780a4",
      "cbea68b25d6d4ba09b2ce0f27b1726d5",
      "5781fc45cf8d486cb06ed68853b2c644",
      "d2a92143a08a4951b55bab9bc0a6d0d3",
      "a14c3e40e5254d61ba146f6ec88eae25",
      "c4ffe6f624ce4e978a0d9b864544941a",
      "1aca01c1d8c940dfadd3e7144bb35718",
      "9fbbaae50e6743f2aa19342152398186",
      "fea27ca6c9504fc896181bc1ff5730e5",
      "940d00556cb849b3a689d56e274041c2",
      "5cdf9ed939fb42d4bf77301c80b8afca",
      "94b39ccfef0b4b08bf2fb61bb0a657c1",
      "9a55087c85b74ea08b3e952ac1d73cbe",
      "2361ab124daf47cc885ff61f2899b2af",
      "1a65887eb37747ddb75dc4a40f7285f2",
      "3c946e2260704e6c98593136bd32d921",
      "50d325cdb9844f62a9ecc98e768cb5af",
      "aa781f0cfe454e9da5b53b93e9baabd8",
      "6bb68d3887ef43809eb23feb467f9723",
      "7e29a8b952cf4f4ea42833c8bf55342f",
      "dd5997d01d8947e4b1c211433969b89b",
      "2ace4dc78e2f4f1492a181bcd63304e7",
      "bbee008c2791443d8610371d1f16b62b",
      "31b1c8a2e3334b72b45b083688c1a20c",
      "7fb7c36adc624f7dbbcb4a831c1e4f63",
      "0b7c8f1939074794b3d9221244b1344d",
      "a71908883b064e1fbdddb547a8c41743",
      "2f5223f26c8541fc87e91d2205c39995"
     ]
    },
    "id": "s_AY1ATSIrIq",
    "outputId": "fd0578d1-8895-443d-b56f-5908de9f1b6b"
   },
   "outputs": [],
   "source": [
    "datasets = load_dataset(\"squad_v2\" if squad_v2 else \"squad\")"
   ]
  },
  {
   "cell_type": "markdown",
   "metadata": {
    "id": "RzfPtOMoIrIu"
   },
   "source": [
    "The `datasets` object itself is [`DatasetDict`](https://huggingface.co/docs/datasets/package_reference/main_classes.html#datasetdict), which contains one key for the training, validation and test set."
   ]
  },
  {
   "cell_type": "code",
   "execution_count": 21,
   "metadata": {
    "id": "GWiVUF0jIrIv",
    "outputId": "35e3ea43-f397-4a54-c90c-f2cf8d36873e"
   },
   "outputs": [
    {
     "data": {
      "text/plain": [
       "DatasetDict({\n",
       "    train: Dataset({\n",
       "        features: ['id', 'title', 'context', 'question', 'answers'],\n",
       "        num_rows: 130319\n",
       "    })\n",
       "    validation: Dataset({\n",
       "        features: ['id', 'title', 'context', 'question', 'answers'],\n",
       "        num_rows: 11873\n",
       "    })\n",
       "})"
      ]
     },
     "execution_count": 21,
     "metadata": {},
     "output_type": "execute_result"
    }
   ],
   "source": [
    "datasets"
   ]
  },
  {
   "cell_type": "markdown",
   "metadata": {},
   "source": [
    "#### 对比数据集\n",
    "\n",
    "相比快速入门使用的 Yelp 评论数据集，我们可以看到 SQuAD 训练和测试集都新增了用于上下文、问题以及问题答案的列：\n",
    "\n",
    "**YelpReviewFull Dataset：**\n",
    "\n",
    "```json\n",
    "\n",
    "DatasetDict({\n",
    "    train: Dataset({\n",
    "        features: ['label', 'text'],\n",
    "        num_rows: 650000\n",
    "    })\n",
    "    test: Dataset({\n",
    "        features: ['label', 'text'],\n",
    "        num_rows: 50000\n",
    "    })\n",
    "})\n",
    "```"
   ]
  },
  {
   "cell_type": "code",
   "execution_count": 5,
   "metadata": {
    "id": "X6HrpprwIrIz",
    "outputId": "d7670bc0-42e4-4c09-8a6a-5c018ded7d95"
   },
   "outputs": [
    {
     "data": {
      "text/plain": [
       "{'id': '5733be284776f41900661182',\n",
       " 'title': 'University_of_Notre_Dame',\n",
       " 'context': 'Architecturally, the school has a Catholic character. Atop the Main Building\\'s gold dome is a golden statue of the Virgin Mary. Immediately in front of the Main Building and facing it, is a copper statue of Christ with arms upraised with the legend \"Venite Ad Me Omnes\". Next to the Main Building is the Basilica of the Sacred Heart. Immediately behind the basilica is the Grotto, a Marian place of prayer and reflection. It is a replica of the grotto at Lourdes, France where the Virgin Mary reputedly appeared to Saint Bernadette Soubirous in 1858. At the end of the main drive (and in a direct line that connects through 3 statues and the Gold Dome), is a simple, modern stone statue of Mary.',\n",
       " 'question': 'To whom did the Virgin Mary allegedly appear in 1858 in Lourdes France?',\n",
       " 'answers': {'text': ['Saint Bernadette Soubirous'], 'answer_start': [515]}}"
      ]
     },
     "execution_count": 5,
     "metadata": {},
     "output_type": "execute_result"
    }
   ],
   "source": [
    "datasets[\"train\"][0]"
   ]
  },
  {
   "cell_type": "code",
   "execution_count": 22,
   "metadata": {},
   "outputs": [
    {
     "data": {
      "text/plain": [
       "{'id': '56d4d0c32ccc5a1400d83250',\n",
       " 'title': 'Beyoncé',\n",
       " 'context': 'Beyoncé is believed to have first started a relationship with Jay Z after a collaboration on \"\\'03 Bonnie & Clyde\", which appeared on his seventh album The Blueprint 2: The Gift & The Curse (2002). Beyoncé appeared as Jay Z\\'s girlfriend in the music video for the song, which would further fuel speculation of their relationship. On April 4, 2008, Beyoncé and Jay Z were married without publicity. As of April 2014, the couple have sold a combined 300 million records together. The couple are known for their private relationship, although they have appeared to become more relaxed in recent years. Beyoncé suffered a miscarriage in 2010 or 2011, describing it as \"the saddest thing\" she had ever endured. She returned to the studio and wrote music in order to cope with the loss. In April 2011, Beyoncé and Jay Z traveled to Paris in order to shoot the album cover for her 4, and unexpectedly became pregnant in Paris.',\n",
       " 'question': 'How many records combined have Beyoncé and Jay Z sold?',\n",
       " 'answers': {'text': ['300 million'], 'answer_start': [447]}}"
      ]
     },
     "execution_count": 22,
     "metadata": {},
     "output_type": "execute_result"
    }
   ],
   "source": [
    "datasets[\"train\"][333]"
   ]
  },
  {
   "cell_type": "markdown",
   "metadata": {},
   "source": [
    "#### 从上下文中组织回复内容\n",
    "\n",
    "我们可以看到答案是通过它们在文本中的起始位置（这里是第515个字符）以及它们的完整文本表示的，这是上面提到的上下文的子字符串。"
   ]
  },
  {
   "cell_type": "code",
   "execution_count": 6,
   "metadata": {
    "id": "i3j8APAoIrI3"
   },
   "outputs": [],
   "source": [
    "from datasets import ClassLabel, Sequence\n",
    "import random\n",
    "import pandas as pd\n",
    "from IPython.display import display, HTML\n",
    "\n",
    "def show_random_elements(dataset, num_examples=10):\n",
    "    assert num_examples <= len(dataset), \"Can't pick more elements than there are in the dataset.\"\n",
    "    picks = []\n",
    "    for _ in range(num_examples):\n",
    "        pick = random.randint(0, len(dataset)-1)\n",
    "        while pick in picks:\n",
    "            pick = random.randint(0, len(dataset)-1)\n",
    "        picks.append(pick)\n",
    "    \n",
    "    df = pd.DataFrame(dataset[picks])\n",
    "    for column, typ in dataset.features.items():\n",
    "        if isinstance(typ, ClassLabel):\n",
    "            df[column] = df[column].transform(lambda i: typ.names[i])\n",
    "        elif isinstance(typ, Sequence) and isinstance(typ.feature, ClassLabel):\n",
    "            df[column] = df[column].transform(lambda x: [typ.feature.names[i] for i in x])\n",
    "    display(HTML(df.to_html()))"
   ]
  },
  {
   "cell_type": "code",
   "execution_count": 43,
   "metadata": {
    "id": "SZy5tRB_IrI7",
    "outputId": "ba8f2124-e485-488f-8c0c-254f34f24f13"
   },
   "outputs": [
    {
     "data": {
      "text/html": [
       "<table border=\"1\" class=\"dataframe\">\n",
       "  <thead>\n",
       "    <tr style=\"text-align: right;\">\n",
       "      <th></th>\n",
       "      <th>id</th>\n",
       "      <th>title</th>\n",
       "      <th>context</th>\n",
       "      <th>question</th>\n",
       "      <th>answers</th>\n",
       "    </tr>\n",
       "  </thead>\n",
       "  <tbody>\n",
       "    <tr>\n",
       "      <th>0</th>\n",
       "      <td>57267a20708984140094c764</td>\n",
       "      <td>Department_store</td>\n",
       "      <td>All major cities have their distinctive local department stores, which anchored the downtown shopping district until the arrival of the malls in the 1960s. Washington, for example, after 1887 had Woodward &amp; Lothrop and Garfinckel's starting in 1905. Garfield's went bankrupt in 1990, as did Woodward &amp; Lothrop in 1994. Baltimore had four major department stores: Hutzler's was the prestige leader, followed by Hecht's, Hochschild's and Stewart's. They all operated branches in the suburbs, but all closed in the late twentieth century. By 2015, most locally owned department stores around the country had been consolidated into larger chains, or had closed down entirely.</td>\n",
       "      <td>In what year did Garfield's go bankrupt?</td>\n",
       "      <td>{'text': ['1990'], 'answer_start': [278]}</td>\n",
       "    </tr>\n",
       "    <tr>\n",
       "      <th>1</th>\n",
       "      <td>5ad122d9645df0001a2d0eca</td>\n",
       "      <td>Labour_Party_(UK)</td>\n",
       "      <td>Support for the LRC was boosted by the 1901 Taff Vale Case, a dispute between strikers and a railway company that ended with the union being ordered to pay £23,000 damages for a strike. The judgement effectively made strikes illegal since employers could recoup the cost of lost business from the unions. The apparent acquiescence of the Conservative Government of Arthur Balfour to industrial and business interests (traditionally the allies of the Liberal Party in opposition to the Conservative's landed interests) intensified support for the LRC against a government that appeared to have little concern for the industrial proletariat and its problems.</td>\n",
       "      <td>What hurt support for the LRC?</td>\n",
       "      <td>{'text': [], 'answer_start': []}</td>\n",
       "    </tr>\n",
       "    <tr>\n",
       "      <th>2</th>\n",
       "      <td>5ace3e6532bba1001ae4a021</td>\n",
       "      <td>Avicenna</td>\n",
       "      <td>According to his autobiography, Avicenna had memorised the entire Quran by the age of 10. He learned Indian arithmetic from an Indian greengrocer,ءMahmoud Massahi and he began to learn more from a wandering scholar who gained a livelihood by curing the sick and teaching the young. He also studied Fiqh (Islamic jurisprudence) under the Sunni Hanafi scholar Ismail al-Zahid. Avicenna was taught some extent of philosophy books such as Introduction (Isagoge)'s Porphyry (philosopher), Euclid's Elements, Ptolemy's Almagest by an unpopular philosopher, Abu Abdullah Nateli, who claimed philosophizing.</td>\n",
       "      <td>When did Avicenna start studying the Quran?</td>\n",
       "      <td>{'text': [], 'answer_start': []}</td>\n",
       "    </tr>\n",
       "    <tr>\n",
       "      <th>3</th>\n",
       "      <td>5725ce2e271a42140099d20d</td>\n",
       "      <td>Hellenistic_period</td>\n",
       "      <td>The Odrysian Kingdom was a union of Thracian tribes under the kings of the powerful Odrysian tribe centered around the region of Thrace. Various parts of Thrace were under Macedonian rule under Philip II of Macedon, Alexander the Great, Lysimachus, Ptolemy II, and Philip V but were also often ruled by their own kings. The Thracians and Agrianes were widely used by Alexander as peltasts and light cavalry, forming about one fifth of his army. The Diadochi also used Thracian mercenaries in their armies and they were also used as colonists. The Odrysians used Greek as the language of administration and of the nobility. The nobility also adopted Greek fashions in dress, ornament and military equipment, spreading it to the other tribes. Thracian kings were among the first to be Hellenized.</td>\n",
       "      <td>Which kings wre among the first to be Hellenized?</td>\n",
       "      <td>{'text': ['Thracian'], 'answer_start': [741]}</td>\n",
       "    </tr>\n",
       "    <tr>\n",
       "      <th>4</th>\n",
       "      <td>56d97744dc89441400fdb4cb</td>\n",
       "      <td>2008_Summer_Olympics_torch_relay</td>\n",
       "      <td>A Macau resident was arrested on April 26 for posting a message on cyberctm.com encouraging people to disrupt the relay. Both orchidbbs.com and cyberctm.com Internet forums were shut down from May 2 to 4. This fueled speculation that the shutdowns were targeting speeches against the relay. The head of the Bureau of Telecommunications Regulation has denied that the shutdowns of the websites were politically motivated. About 2,200 police were deployed on the streets, there were no interruptions.</td>\n",
       "      <td>In addition to cyberctm.com, what other website was shut down for two days?</td>\n",
       "      <td>{'text': ['orchidbbs.com'], 'answer_start': [126]}</td>\n",
       "    </tr>\n",
       "    <tr>\n",
       "      <th>5</th>\n",
       "      <td>5a68bac68476ee001a58a7cc</td>\n",
       "      <td>Genocide</td>\n",
       "      <td>In 2007 the European Court of Human Rights (ECHR), noted in its judgement on Jorgic v. Germany case that in 1992 the majority of legal scholars took the narrow view that \"intent to destroy\" in the CPPCG meant the intended physical-biological destruction of the protected group and that this was still the majority opinion. But the ECHR also noted that a minority took a broader view and did not consider biological-physical destruction was necessary as the intent to destroy a national, racial, religious or ethnic group was enough to qualify as genocide.</td>\n",
       "      <td>What former case did the European Court of Human Rights draw on in 2002 to further refine qualifiers of genocide?</td>\n",
       "      <td>{'text': [], 'answer_start': []}</td>\n",
       "    </tr>\n",
       "    <tr>\n",
       "      <th>6</th>\n",
       "      <td>5a6fd6388abb0b001a675f9b</td>\n",
       "      <td>Alsace</td>\n",
       "      <td>This situation prevailed until 1639, when most of Alsace was conquered by France so as to keep it out of the hands of the Spanish Habsburgs, who wanted a clear road to their valuable and rebellious possessions in the Spanish Netherlands. Beset by enemies and seeking to gain a free hand in Hungary, the Habsburgs sold their Sundgau territory (mostly in Upper Alsace) to France in 1646, which had occupied it, for the sum of 1.2 million Thalers. When hostilities were concluded in 1648 with the Treaty of Westphalia, most of Alsace was recognized as part of France, although some towns remained independent. The treaty stipulations regarding Alsace were complex; although the French king gained sovereignty, existing rights and customs of the inhabitants were largely preserved. France continued to maintain its customs border along the Vosges mountains where it had been, leaving Alsace more economically oriented to neighbouring German-speaking lands. The German language remained in use in local administration, in schools, and at the (Lutheran) University of Strasbourg, which continued to draw students from other German-speaking lands. The 1685 Edict of Fontainebleau, by which the French king ordered the suppression of French Protestantism, was not applied in Alsace. France did endeavour to promote Catholicism; Strasbourg Cathedral, for example, which had been Lutheran from 1524 to 1681, was returned to the Catholic Church. However, compared to the rest of France, Alsace enjoyed a climate of religious tolerance.</td>\n",
       "      <td>When was Strasbourg Cathedral built?</td>\n",
       "      <td>{'text': [], 'answer_start': []}</td>\n",
       "    </tr>\n",
       "    <tr>\n",
       "      <th>7</th>\n",
       "      <td>56dfbd5e231d4119001abd5b</td>\n",
       "      <td>Internet_service_provider</td>\n",
       "      <td>ISPs provide Internet access, employing a range of technologies to connect users to their network. Available technologies have ranged from computer modems with acoustic couplers to telephone lines, to television cable (CATV), wireless Ethernet (wi-fi), and fiber optics.</td>\n",
       "      <td>what was an earlier technology used to connect to the internet?</td>\n",
       "      <td>{'text': ['telephone lines'], 'answer_start': [182]}</td>\n",
       "    </tr>\n",
       "    <tr>\n",
       "      <th>8</th>\n",
       "      <td>56d2726659d6e41400145ffa</td>\n",
       "      <td>Buddhism</td>\n",
       "      <td>During the period of Late Mahayana Buddhism, four major types of thought developed: Madhyamaka, Yogacara, Tathagatagarbha, and Buddhist Logic as the last and most recent. In India, the two main philosophical schools of the Mahayana were the Madhyamaka and the later Yogacara. According to Dan Lusthaus, Madhyamaka and Yogacara have a great deal in common, and the commonality stems from early Buddhism. There were no great Indian teachers associated with tathagatagarbha thought.</td>\n",
       "      <td>In India the two main philosophical schools of the Mahayana were Madhyamaka and what else?</td>\n",
       "      <td>{'text': ['Yogacara'], 'answer_start': [96]}</td>\n",
       "    </tr>\n",
       "    <tr>\n",
       "      <th>9</th>\n",
       "      <td>56f8f65b9b226e1400dd1202</td>\n",
       "      <td>Near_East</td>\n",
       "      <td>The use of the term Middle East as a region of international affairs apparently began in British and American diplomatic circles quite independently of each other over concern for the security of the same country: Iran, then known to the west as Persia. In 1900 Thomas Edward Gordon published an article, The Problem of the Middle East, which began:</td>\n",
       "      <td>Where did the use of the term Middle East as a region of international affairs begin?</td>\n",
       "      <td>{'text': ['in British and American diplomatic circles'], 'answer_start': [86]}</td>\n",
       "    </tr>\n",
       "  </tbody>\n",
       "</table>"
      ],
      "text/plain": [
       "<IPython.core.display.HTML object>"
      ]
     },
     "metadata": {},
     "output_type": "display_data"
    }
   ],
   "source": [
    "show_random_elements(datasets[\"train\"])"
   ]
  },
  {
   "cell_type": "markdown",
   "metadata": {
    "id": "n9qywopnIrJH"
   },
   "source": [
    "## 预处理数据"
   ]
  },
  {
   "cell_type": "markdown",
   "metadata": {},
   "source": [
    "**Tokenizer（分词器）就像一位「语言拆解专家」**，专门帮计算机理解人类文字。它的核心作用可以用三步说清楚：\n",
    "\n",
    "---\n",
    "\n",
    "### 1️⃣ **拆解文本**  \n",
    "把句子拆成 **模型认识的片段**（词或子词）。  \n",
    "例如：  \n",
    "`\"我爱自然语言处理\"` → `[\"我\", \"爱\", \"自然\", \"语言\", \"处理\"]`  \n",
    "（英文如 `\"Hugging Face\"` → `[\"Hug\", \"##ging\", \"Face\"]`）\n",
    "\n",
    "---\n",
    "\n",
    "### 2️⃣ **添加「暗号」**  \n",
    "插入模型需要的**特殊标记**，比如：  \n",
    "- **`[CLS]`**：开头标记（BERT用）  \n",
    "- **`[SEP]`**：分隔标记（区分句子）  \n",
    "```python\n",
    "\"你好吗？\" → [\"[CLS]\", \"你\", \"好\", \"吗\", \"？\", \"[SEP]\"]\n",
    "```\n",
    "\n",
    "---\n",
    "\n",
    "### 3️⃣ **转成密码数字**  \n",
    "把每个词换成**模型词汇表里的ID号**，类似密码本：  \n",
    "```python\n",
    "[\"[CLS]\", \"你\", \"好\", \"吗\"] → [101, 872, 1962, 3221, 102]\n",
    "```\n",
    "\n",
    "---\n",
    "\n",
    "### 🌰 **实际效果示例**  \n",
    "你输入：`\"今天厦门天气如何？\"`  \n",
    "Tokenizer处理后输出：  \n",
    "```python\n",
    "{\n",
    "  \"input_ids\": [101, 791, 1921, 1762, 1377, 1442, 3221, 102],\n",
    "  \"attention_mask\": [1, 1, 1, 1, 1, 1, 1, 1]  # 标记哪些是有效内容\n",
    "}\n",
    "```\n",
    "模型看到这些数字就能分析语义，生成回答啦！\n",
    "\n",
    "---\n",
    "\n",
    "### 🤖 **不同模型的差异**  \n",
    "- **BERT类**：拆词较细，加`[CLS]`/`[SEP]`  \n",
    "- **GPT类**：按字节拆分，加`<|endoftext|>`  \n",
    "- **多语言模型**：支持中/英/日等混合拆分  \n",
    "\n",
    "一句话总结：**Tokenizer就是把人类语言「翻译」成AI能懂的数字密码！** 😊"
   ]
  },
  {
   "cell_type": "code",
   "execution_count": 23,
   "metadata": {
    "id": "eXNLu_-nIrJI"
   },
   "outputs": [],
   "source": [
    "from transformers import AutoTokenizer\n",
    "    \n",
    "tokenizer = AutoTokenizer.from_pretrained(model_checkpoint)"
   ]
  },
  {
   "cell_type": "markdown",
   "metadata": {},
   "source": [
    "**AutoTokenizer 就像「万能适配器」**  \n",
    "——你只需要告诉它用哪个AI模型（比如BERT、GPT-3），它就会自动匹配对应的文字翻译规则。\n",
    "\n",
    "举个栗子🌰：  \n",
    "- 你想用 **BERT** 模型 → 它自动加载BERT的分词规则  \n",
    "  ```python\n",
    "  tokenizer = AutoTokenizer.from_pretrained(\"bert-base-chinese\")\n",
    "  ```\n",
    "- 你想用 **GPT** 模型 → 它自动切换成GPT的分词方式  \n",
    "  ```python\n",
    "  tokenizer = AutoTokenizer.from_pretrained(\"gpt2\")\n",
    "  ```\n",
    "\n",
    "**好处**：不用记不同模型的分词器名字（比如`BertTokenizer`、`GPT2Tokenizer`），一个`AutoTokenizer`通吃所有模型，就像万能充电器一样方便！\n",
    "\n",
    "---\n",
    "\n",
    "### 对比示例（手动 vs 自动）\n",
    "| 方式          | 手动选择分词器                   | AutoTokenizer                  |\n",
    "|---------------|----------------------------------|---------------------------------|\n",
    "| **BERT模型**  | `from transformers import BertTokenizer`<br>`tokenizer = BertTokenizer.from_pretrained(\"bert-base\")` | `AutoTokenizer.from_pretrained(\"bert-base\")` |\n",
    "| **GPT模型**   | `from transformers import GPT2Tokenizer`<br>`tokenizer = GPT2Tokenizer.from_pretrained(\"gpt2\")` | `AutoTokenizer.from_pretrained(\"gpt2\")` |\n",
    "\n",
    "---\n",
    "\n",
    "⚠️ **注意**：名字要对（比如`bert-base-chinese`不能写成`bert-chinese`），否则这个万能充电器也会找不到插口~"
   ]
  },
  {
   "cell_type": "markdown",
   "metadata": {
    "id": "Vl6IidfdIrJK"
   },
   "source": [
    "以下断言确保我们的 Tokenizers 使用的是 FastTokenizer（Rust 实现，速度和功能性上有一定优势）。"
   ]
  },
  {
   "cell_type": "code",
   "execution_count": 30,
   "metadata": {},
   "outputs": [
    {
     "name": "stdout",
     "output_type": "stream",
     "text": [
      "是否是快速版分词器: True\n",
      "✅ Tokenizer 是快速版 (PreTrainedTokenizerFast)\n"
     ]
    }
   ],
   "source": [
    "import transformers\n",
    "assert isinstance(tokenizer, transformers.PreTrainedTokenizerFast)\n",
    "# 直接打印判断结果\n",
    "print(\"是否是快速版分词器:\", isinstance(tokenizer, transformers.PreTrainedTokenizerFast))\n",
    "\n",
    "# 或更详细的输出\n",
    "if isinstance(tokenizer, transformers.PreTrainedTokenizerFast):\n",
    "    print(\"✅ Tokenizer 是快速版 (PreTrainedTokenizerFast)\")\n",
    "else:\n",
    "    print(\"❌ Tokenizer 是普通版 (PreTrainedTokenizer)\")\n"
   ]
  },
  {
   "cell_type": "markdown",
   "metadata": {},
   "source": [
    "**PreTrainedTokenizer 就像个「文字翻译官」**，专门帮 AI 模型和人类文字打交道。  \n",
    "\n",
    "举个栗子🌰：  \n",
    "你想问 AI \"厦门今天热吗？\"  \n",
    "➡️ **翻译官的工作**：  \n",
    "1. 把这句话切成小块：`[\"厦门\", \"今天\", \"热\", \"吗\"]`  \n",
    "2. 偷偷加暗号：`[开头暗号] 厦门 今天 热 吗 [结尾暗号]`  \n",
    "3. 转成密码数字：`[101, 2345, 567, 8910, 102]`  \n",
    "\n",
    "然后 AI 就能看懂这些数字密码，给出回答啦！  \n",
    "（反过来也会把 AI 的数字密码翻译成人类文字给你看）"
   ]
  },
  {
   "cell_type": "markdown",
   "metadata": {},
   "source": [
    "`assert isinstance(tokenizer, transformers.PreTrainedTokenizerFast)`\n",
    "\n",
    "这个步骤是**可选的安全检查**，主要为了确保你加载的是**快速版分词器（PreTrainedTokenizerFast）**，而不是旧版的慢速分词器（PreTrainedTokenizer）。不检查也能运行，但可能会遇到以下问题：\n",
    "\n",
    "---\n",
    "\n",
    "### 🤔 **为什么要区分 Fast 和普通版？**\n",
    "| 特性                | PreTrainedTokenizerFast（快速版）          | PreTrainedTokenizer（普通版）       |\n",
    "|---------------------|--------------------------------------------|-------------------------------------|\n",
    "| **底层实现**         | Rust语言编写（速度快）                     | Python实现（速度慢）                 |\n",
    "| **批处理支持**       | ✅ 原生支持（如`batch_encode_plus`）        | ❌ 需手动循环处理                    |\n",
    "| **特殊标记处理**     | 自动管理（如填充、截断）                   | 需手动配置                          |\n",
    "| **典型场景**         | 生产环境、大数据处理                        | 教学或兼容旧代码                     |\n",
    "\n",
    "---\n",
    "\n",
    "### 💥 **不检查可能带来的问题**\n",
    "1. **性能下降**：处理1000条文本时，快速版可能比普通版快**5-10倍**。\n",
    "2. **功能缺失**：普通版可能缺少某些API（如`decode`的`skip_special_tokens`参数）。\n",
    "3. **意外错误**：某些库（如Datasets）默认要求快速版分词器。\n",
    "\n",
    "---\n",
    "\n",
    "### 🌰 **实际案例**\n",
    "假设你的`model_checkpoint`意外指向了一个没有快速版的模型：\n",
    "```python\n",
    "model_checkpoint = \"some-old-model\"  # 假设该模型只有普通版分词器\n",
    "tokenizer = AutoTokenizer.from_pretrained(model_checkpoint)\n",
    "# 此时 tokenizer 是 PreTrainedTokenizer 而非 Fast 版\n",
    "# 后续调用 batch_encode_plus 可能报错！\n",
    "```\n",
    "\n",
    "通过`assert`检查，可以**提前发现问题**，避免后续代码崩溃。\n",
    "\n",
    "---\n",
    "\n",
    "### 🔧 **替代方案（如果不做断言）**\n",
    "1. **直接使用**：如果确定模型有快速版，可以跳过检查。\n",
    "2. **降级处理**：捕获异常并改用普通版逻辑：\n",
    "```python\n",
    "if not isinstance(tokenizer, PreTrainedTokenizerFast):\n",
    "    print(\"警告：使用慢速分词器，性能可能受影响！\")\n",
    "    # 手动处理普通版的限制\n",
    "```\n",
    "\n",
    "---\n",
    "\n",
    "总结：这个断言是**防御性编程**的体现，确保代码在性能和功能上按预期运行。对于关键项目建议保留，个人实验可跳过。"
   ]
  },
  {
   "cell_type": "markdown",
   "metadata": {},
   "source": [
    "您可以在大模型表上查看哪种类型的模型具有可用的快速标记器，哪种类型没有。\n",
    "\n",
    "您可以直接在两个句子上调用此标记器（一个用于答案，一个用于上下文）："
   ]
  },
  {
   "cell_type": "code",
   "execution_count": 29,
   "metadata": {
    "id": "a5hBlsrHIrJL",
    "outputId": "acdaa98a-a8cd-4a20-89b8-cc26437bbe90"
   },
   "outputs": [
    {
     "data": {
      "text/plain": [
       "{'input_ids': [101, 2054, 2003, 2115, 2171, 1029, 102, 2026, 2171, 2003, 25353, 22144, 2378, 1012, 102], 'attention_mask': [1, 1, 1, 1, 1, 1, 1, 1, 1, 1, 1, 1, 1, 1, 1]}"
      ]
     },
     "execution_count": 29,
     "metadata": {},
     "output_type": "execute_result"
    }
   ],
   "source": [
    "tokenizer(\"What is your name?\", \"My name is Sylvain.\")"
   ]
  },
  {
   "cell_type": "code",
   "execution_count": 32,
   "metadata": {},
   "outputs": [
    {
     "data": {
      "text/plain": [
       "{'input_ids': [101, 2129, 2024, 2017, 1029, 102], 'attention_mask': [1, 1, 1, 1, 1, 1]}"
      ]
     },
     "execution_count": 32,
     "metadata": {},
     "output_type": "execute_result"
    }
   ],
   "source": [
    " tokenizer(\"How are you?\")"
   ]
  },
  {
   "cell_type": "markdown",
   "metadata": {},
   "source": [
    "### Tokenizer 进阶操作\n",
    "\n",
    "在问答预处理中的一个特定问题是如何处理非常长的文档。\n",
    "\n",
    "在其他任务中，当文档的长度超过模型最大句子长度时，我们通常会截断它们，但在这里，删除上下文的一部分可能会导致我们丢失正在寻找的答案。\n",
    "\n",
    "为了解决这个问题，我们允许数据集中的一个（长）示例生成多个输入特征，每个特征的长度都小于模型的最大长度（或我们设置的超参数）。"
   ]
  },
  {
   "cell_type": "code",
   "execution_count": 33,
   "metadata": {},
   "outputs": [],
   "source": [
    "# The maximum length of a feature (question and context)\n",
    "max_length = 384 \n",
    "# The authorized overlap between two part of the context when splitting it is needed.\n",
    "doc_stride = 128 "
   ]
  },
  {
   "cell_type": "markdown",
   "metadata": {},
   "source": [
    "---\n",
    "\n",
    "### **为何设置 `max_length=384`？**\n",
    "1. **模型限制**  \n",
    "   BERT等模型最大支持 **512 tokens**，需为以下内容留空间：  \n",
    "   - **问题本身**（约20-30 tokens）  \n",
    "   - **特殊标记**（如 `[CLS]`、`[SEP]`，占3-5 tokens）  \n",
    "   - **答案位置**（避免被截断）\n",
    "\n",
    "2. **经验比例**  \n",
    "   可用上下文长度 ≈ 总长的 **75%**（512×0.75≈384），平衡覆盖率和计算效率。\n",
    "\n",
    "3. **分块优化**  \n",
    "   结合 `doc_stride=128`（重叠量），确保答案在至少一个分块中完整出现。\n",
    "\n",
    "---\n",
    "\n",
    "### **实际案例**  \n",
    "- **输入**：问题（20 tokens）+ 上下文（500 tokens）  \n",
    "- **处理**：  \n",
    "  1. 分块1：问题 + 上下文0-363  \n",
    "  2. 分块2：问题 + 上下文236-500（与分块1重叠128 tokens）  \n",
    "- **结果**：即使答案在360-400区间，也能被分块2覆盖。\n",
    "\n",
    "---\n",
    "\n",
    "### **调整建议**\n",
    "- **短文本任务**：直接设为512  \n",
    "- **超长文档**：可降低到256（需更多分块）  \n",
    "- **支持更长模型**：如支持1024，可设为768  \n",
    "\n",
    "一句话总结：**384是平衡模型限制、答案完整性和计算效率的经验值。**"
   ]
  },
  {
   "cell_type": "markdown",
   "metadata": {},
   "source": [
    "`doc_stride=128` 的原理与 `max_length=384` 类似，但关注点不同。以下是简洁清晰的解释：\n",
    "\n",
    "---\n",
    "\n",
    "### **为何设置 `doc_stride=128`？**\n",
    "1. **核心目的**  \n",
    "   **避免答案被切割在分块边界**。通过设置分块间的重叠区域，确保即使答案位于分块边缘，也能被至少一个完整分块覆盖。\n",
    "\n",
    "2. **经验公式**  \n",
    "   `doc_stride` ≈ `max_length` 的 **1/3~1/4**（如 `384/3≈128`），平衡：\n",
    "   - **计算效率**（分块越少越好）\n",
    "   - **答案覆盖率**（重叠越多越安全）\n",
    "\n",
    "---\n",
    "\n",
    "### **分块逻辑示例**\n",
    "- **参数**：\n",
    "  - `max_length=384`（总长度）\n",
    "  - 问题长度 = 20 tokens\n",
    "  - 可用上下文长度 = `384 - 20 - 3（特殊标记）≈ 361 tokens`\n",
    "  - `doc_stride=128`\n",
    "- **分块步长** = `361 - 128 = 233 tokens`\n",
    "\n",
    "| 分块 | 起始位置 | 结束位置 | 覆盖的上下文范围 |\n",
    "|------|----------|----------|------------------|\n",
    "| 1    | 0        | 360      | tokens 0-360     |\n",
    "| 2    | 233      | 593      | tokens 233-593   |\n",
    "| 3    | 466      | 826      | tokens 466-826   |\n",
    "\n",
    "- **假设答案在 tokens 350-370**：\n",
    "  - 分块1：覆盖到360 → 答案部分截断（350-360保留）\n",
    "  - 分块2：从233开始 → 完整覆盖答案（350-370）\n",
    "\n",
    "---\n",
    "\n",
    "### **关键影响**\n",
    "| `doc_stride` 值 | 优点               | 缺点                 |\n",
    "|-----------------|--------------------|----------------------|\n",
    "| **较小（如64）** | 答案覆盖率↑        | 分块数量↑，计算量↑   |\n",
    "| **较大（如192）**| 分块数量↓，速度↑   | 漏答风险↑            |\n",
    "\n",
    "---\n",
    "\n",
    "### **调整建议**\n",
    "- **短答案任务**（如实体抽取）：`doc_stride=64~128`\n",
    "- **长答案任务**（如段落总结）：`doc_stride=128~256`\n",
    "\n",
    "一句话总结：**`doc_stride=128` 是经验性参数，通过分块重叠平衡效率与答案完整性。**"
   ]
  },
  {
   "cell_type": "markdown",
   "metadata": {},
   "source": [
    "假设我们有以下参数：\n",
    "- **`max_length = 10`**（每个片段最多包含10个字符）\n",
    "- **`doc_stride = 4`**（相邻片段重叠4个字符）\n",
    "\n",
    "---\n",
    "\n",
    "### **切割过程**\n",
    "原始文本：`ABCDEFGHIJKLMN`（假设每个字母代表一个token）\n",
    "\n",
    "1. **第一个片段**：  \n",
    "   - 取前10个字符 → `ABCDEFGHIJ`（A到J）\n",
    "   - 结束位置：第10个字符（J）\n",
    "\n",
    "2. **第二个片段**：  \n",
    "   - 起始位置 = 前片段的起始位置 + (`max_length - doc_stride`) = 0 + (10 - 4) = 6  \n",
    "     （即从第7个字符开始，对应字母 `G`）\n",
    "   - 实际字符：`GHIJKLMN`（G到N，共8个字符，不足10个则保留）\n",
    "   - 重叠部分：`GHIJ`（与前一片段的后4个字符重叠）\n",
    "\n",
    "---\n",
    "\n",
    "### **图示切割效果**\n",
    "```\n",
    "原始文本： A B C D E F G H I J K L M N\n",
    "片段1：    [A B C D E F G H I J]          → 长度10\n",
    "片段2：            [G H I J K L M N]      → 起始位置6，重叠4个字符\n",
    "```\n",
    "\n",
    "---\n",
    "\n",
    "### **为什么需要重叠？**\n",
    "假设答案在 `H I J K` 区域：\n",
    "- **无重叠**：可能被截断在片段1末尾或片段2开头\n",
    "- **有重叠**：确保答案完整包含在至少一个片段中\n",
    "\n",
    "---\n",
    "\n",
    "### **实际问答中的参数**\n",
    "当 `max_length=384` 且 `doc_stride=128` 时，逻辑完全一致，只是数值更大。这种滑动窗口切割是处理长文本问答的常用策略！ 😊"
   ]
  },
  {
   "cell_type": "markdown",
   "metadata": {},
   "source": [
    "#### 超出最大长度的文本数据处理\n",
    "\n",
    "下面，我们从训练集中找出一个超过最大长度（384）的文本："
   ]
  },
  {
   "cell_type": "code",
   "execution_count": 34,
   "metadata": {},
   "outputs": [],
   "source": [
    "for i, example in enumerate(datasets[\"train\"]):\n",
    "    if len(tokenizer(example[\"question\"], example[\"context\"])[\"input_ids\"]) > 384:\n",
    "        break\n",
    "# 挑选出来超过384（最大长度）的数据样例\n",
    "example = datasets[\"train\"][i]"
   ]
  },
  {
   "cell_type": "code",
   "execution_count": 35,
   "metadata": {},
   "outputs": [
    {
     "data": {
      "text/plain": [
       "437"
      ]
     },
     "execution_count": 35,
     "metadata": {},
     "output_type": "execute_result"
    }
   ],
   "source": [
    "len(tokenizer(example[\"question\"], example[\"context\"])[\"input_ids\"])"
   ]
  },
  {
   "cell_type": "markdown",
   "metadata": {},
   "source": [
    "#### 截断上下文不保留超出部分"
   ]
  },
  {
   "cell_type": "code",
   "execution_count": 36,
   "metadata": {},
   "outputs": [
    {
     "data": {
      "text/plain": [
       "384"
      ]
     },
     "execution_count": 36,
     "metadata": {},
     "output_type": "execute_result"
    }
   ],
   "source": [
    "len(tokenizer(example[\"question\"],\n",
    "              example[\"context\"],\n",
    "              max_length=max_length,\n",
    "              truncation=\"only_second\")[\"input_ids\"])"
   ]
  },
  {
   "cell_type": "markdown",
   "metadata": {},
   "source": [
    "#### 关于截断的策略\n",
    "\n",
    "- 直接截断超出部分: truncation=`only_second`\n",
    "- 仅截断上下文（context），保留问题（question）：`return_overflowing_tokens=True` & 设置`stride`\n"
   ]
  },
  {
   "cell_type": "code",
   "execution_count": 37,
   "metadata": {},
   "outputs": [],
   "source": [
    "tokenized_example = tokenizer(\n",
    "    example[\"question\"],\n",
    "    example[\"context\"],\n",
    "    max_length=max_length,\n",
    "    truncation=\"only_second\",\n",
    "    return_overflowing_tokens=True,\n",
    "    stride=doc_stride\n",
    ")"
   ]
  },
  {
   "cell_type": "markdown",
   "metadata": {},
   "source": [
    "使用此策略截断后，Tokenizer 将返回多个 `input_ids` 列表。"
   ]
  },
  {
   "cell_type": "code",
   "execution_count": 41,
   "metadata": {},
   "outputs": [
    {
     "data": {
      "text/plain": [
       "[384, 192]"
      ]
     },
     "execution_count": 41,
     "metadata": {},
     "output_type": "execute_result"
    }
   ],
   "source": [
    "[len(x) for x in tokenized_example[\"input_ids\"]]"
   ]
  },
  {
   "cell_type": "markdown",
   "metadata": {},
   "source": [
    "解码两个输入特征，可以看到重叠的部分："
   ]
  },
  {
   "cell_type": "code",
   "execution_count": 42,
   "metadata": {},
   "outputs": [
    {
     "name": "stdout",
     "output_type": "stream",
     "text": [
      "[CLS] beyonce got married in 2008 to whom? [SEP] on april 4, 2008, beyonce married jay z. she publicly revealed their marriage in a video montage at the listening party for her third studio album, i am... sasha fierce, in manhattan's sony club on october 22, 2008. i am... sasha fierce was released on november 18, 2008 in the united states. the album formally introduces beyonce's alter ego sasha fierce, conceived during the making of her 2003 single \" crazy in love \", selling 482, 000 copies in its first week, debuting atop the billboard 200, and giving beyonce her third consecutive number - one album in the us. the album featured the number - one song \" single ladies ( put a ring on it ) \" and the top - five songs \" if i were a boy \" and \" halo \". achieving the accomplishment of becoming her longest - running hot 100 single in her career, \" halo \"'s success in the us helped beyonce attain more top - ten singles on the list than any other woman during the 2000s. it also included the successful \" sweet dreams \", and singles \" diva \", \" ego \", \" broken - hearted girl \" and \" video phone \". the music video for \" single ladies \" has been parodied and imitated around the world, spawning the \" first major dance craze \" of the internet age according to the toronto star. the video has won several awards, including best video at the 2009 mtv europe music awards, the 2009 scottish mobo awards, and the 2009 bet awards. at the 2009 mtv video music awards, the video was nominated for nine awards, ultimately winning three including video of the year. its failure to win the best female video category, which went to american country pop singer taylor swift's \" you belong with me \", led to kanye west interrupting the ceremony and beyonce [SEP]\n",
      "[CLS] beyonce got married in 2008 to whom? [SEP] single ladies \" has been parodied and imitated around the world, spawning the \" first major dance craze \" of the internet age according to the toronto star. the video has won several awards, including best video at the 2009 mtv europe music awards, the 2009 scottish mobo awards, and the 2009 bet awards. at the 2009 mtv video music awards, the video was nominated for nine awards, ultimately winning three including video of the year. its failure to win the best female video category, which went to american country pop singer taylor swift's \" you belong with me \", led to kanye west interrupting the ceremony and beyonce improvising a re - presentation of swift's award during her own acceptance speech. in march 2009, beyonce embarked on the i am... world tour, her second headlining worldwide concert tour, consisting of 108 shows, grossing $ 119. 5 million. [SEP]\n"
     ]
    }
   ],
   "source": [
    "for x in tokenized_example[\"input_ids\"][:2]:\n",
    "    print(tokenizer.decode(x))"
   ]
  },
  {
   "cell_type": "markdown",
   "metadata": {},
   "source": [
    "#### 使用 offsets_mapping 获取原始的 input_ids\n",
    "\n",
    "设置 `return_offsets_mapping=True`，将使得截断分割生成的多个 input_ids 列表中的 token，通过映射保留原始文本的 input_ids。\n",
    "\n",
    "如下所示：第一个标记（[CLS]）的起始和结束字符都是（0, 0），因为它不对应问题/答案的任何部分，然后第二个标记与问题(question)的字符0到3相同."
   ]
  },
  {
   "cell_type": "code",
   "execution_count": 68,
   "metadata": {},
   "outputs": [
    {
     "name": "stdout",
     "output_type": "stream",
     "text": [
      "[(0, 0), (0, 7), (8, 11), (12, 19), (20, 22), (23, 27), (28, 30), (31, 35), (35, 36), (0, 0), (0, 2), (3, 8), (9, 10), (10, 11), (12, 16), (16, 17), (18, 25), (26, 33), (34, 37), (38, 39), (39, 40), (41, 44), (45, 53), (54, 62), (63, 68), (69, 77), (78, 80), (81, 82), (83, 88), (89, 93), (93, 96), (97, 99), (100, 103), (104, 113), (114, 119), (120, 123), (124, 127), (128, 133), (134, 140), (141, 146), (146, 147), (148, 149), (150, 152), (152, 153), (153, 154), (154, 155), (156, 161), (162, 168), (168, 169), (170, 172), (173, 182), (182, 183), (183, 184), (185, 189), (190, 194), (195, 197), (198, 205), (206, 208), (208, 209), (210, 214), (214, 215), (216, 217), (218, 220), (220, 221), (221, 222), (222, 223), (224, 229), (230, 236), (237, 240), (241, 249), (250, 252), (253, 261), (262, 264), (264, 265), (266, 270), (271, 273), (274, 277), (278, 284), (285, 291), (291, 292), (293, 296), (297, 302), (303, 311), (312, 322), (323, 330), (330, 331), (331, 332), (333, 338), (339, 342), (343, 348), (349, 355), (355, 356), (357, 366), (367, 373), (374, 377), (378, 384), (385, 387), (388, 391), (392, 396), (397, 403)]\n"
     ]
    }
   ],
   "source": [
    "tokenized_example = tokenizer(\n",
    "    example[\"question\"],            # 第一个参数：问题文本\n",
    "    example[\"context\"],             # 第二个参数：上下文文本\n",
    "    max_length=max_length,          # 最大输入长度（如384）\n",
    "    truncation=\"only_second\",       # 关键参数1：截断策略\n",
    "    return_overflowing_tokens=True, # 关键参数2：返回分块结果\n",
    "    return_offsets_mapping=True,    # 关键参数3：返回字符级位置映射\n",
    "    return_token_type_ids=True,     # 显式要求返回 token_type_ids\n",
    "    stride=doc_stride               # 分块滑动步长（如128）\n",
    ")\n",
    "print(tokenized_example[\"offset_mapping\"][0][:100])"
   ]
  },
  {
   "cell_type": "markdown",
   "metadata": {},
   "source": [
    "---\n",
    "\n",
    "### **参数详解**\n",
    "#### 1. `truncation=\"only_second\"`\n",
    "- **作用**：**只截断第二个参数（上下文）**，保持第一个参数（问题）完整\n",
    "- **场景**：当 `问题+上下文` 总长度超过 `max_length` 时，优先保留问题完整性\n",
    "- **示例**：\n",
    "  ```python\n",
    "  # 输入：问题长度20，上下文长度400 → 总长度420 > 384\n",
    "  # 处理：截断上下文为 384-20-3（特殊标记）= 361 tokens\n",
    "  ```\n",
    "\n",
    "#### 2. `return_overflowing_tokens=True`\n",
    "- **作用**：**返回分块后的多个输入特征**（当输入过长时自动分割）\n",
    "- **输出字段**：`overflow_to_sample_mapping`（分块对应原始样本的索引）\n",
    "- **分块逻辑**：\n",
    "  - 将长上下文按 `max_length - 问题长度` 切割\n",
    "  - 相邻分块重叠 `stride` tokens（确保答案不被切割）\n",
    "\n",
    "#### 3. `return_offsets_mapping=True`\n",
    "- **作用**：**返回每个 token 在原始文本中的字符位置**（起始和结束索引）\n",
    "- **输出字段**：`offset_mapping`（列表的列表，每个元素是 `(start, end)` 元组）\n",
    "- **关键用途**：将模型预测的 token 位置映射回原始文本（如定位答案）\n",
    "\n",
    "---\n",
    "\n",
    "### **`offset_mapping` 示例解析**\n",
    "```python\n",
    "# 假设打印结果前5个元素：\n",
    "[(0, 0), (0, 3), (4, 7), (8, 11), (12, 15), ...]\n",
    "\n",
    "# 对应含义：\n",
    "# [CLS]  What    is    your   name?  [SEP] ...\n",
    "# (0,0) (0,3) (4,7) (8,11) (12,15)   ...\n",
    "```\n",
    "- **特殊标记**：`[CLS]`、`[SEP]` 等无对应文本 → `(0, 0)`\n",
    "- **问题部分**：字符索引从问题文本的起始位置计算\n",
    "- **上下文部分**：字符索引从上下文文本的起始位置计算（需注意问题文本长度）\n",
    "\n",
    "---\n",
    "\n",
    "### **参数协同作用**\n",
    "| 参数组合                        | 实际效果                                                                 |\n",
    "|---------------------------------|------------------------------------------------------------------------|\n",
    "| `truncation=\"only_second\"` + `return_overflowing_tokens=True` | 将长上下文切割为多个分块，每个分块包含完整问题和部分上下文 |\n",
    "| `return_offsets_mapping=True`   | 提供分块中每个 token 在原始文本中的位置，用于答案位置映射               |\n",
    "\n",
    "---\n",
    "\n",
    "### **应用场景**\n",
    "1. **训练阶段**：将答案的字符位置转换为分块内的 token 位置\n",
    "2. **推理阶段**：将模型预测的 token 位置反向映射到原始上下文\n",
    "3. **数据验证**：检查分块是否覆盖正确答案的原始位置\n",
    "\n",
    "---\n",
    "\n",
    "通过这三个参数，实现了长文本问答任务中 **输入分块处理** 和 **位置精确映射** 的核心需求。"
   ]
  },
  {
   "cell_type": "markdown",
   "metadata": {},
   "source": [
    "因此，我们可以使用这个映射来找到答案在给定特征中的起始和结束标记的位置。\n",
    "\n",
    "我们只需区分偏移的哪些部分对应于问题，哪些部分对应于上下文。"
   ]
  },
  {
   "cell_type": "code",
   "execution_count": 69,
   "metadata": {},
   "outputs": [
    {
     "name": "stdout",
     "output_type": "stream",
     "text": [
      "20773\n",
      "(0, 7)\n",
      "beyonce Beyonce\n"
     ]
    }
   ],
   "source": [
    "first_token_id = tokenized_example[\"input_ids\"][0][1]\n",
    "offsets = tokenized_example[\"offset_mapping\"][0][1]\n",
    "print(first_token_id)\n",
    "print(offsets)\n",
    "print(tokenizer.convert_ids_to_tokens([first_token_id])[0], example[\"question\"][offsets[0]:offsets[1]])"
   ]
  },
  {
   "cell_type": "code",
   "execution_count": 70,
   "metadata": {},
   "outputs": [
    {
     "name": "stdout",
     "output_type": "stream",
     "text": [
      "got got\n"
     ]
    }
   ],
   "source": [
    "second_token_id = tokenized_example[\"input_ids\"][0][2]\n",
    "offsets = tokenized_example[\"offset_mapping\"][0][2]\n",
    "print(tokenizer.convert_ids_to_tokens([second_token_id])[0], example[\"question\"][offsets[0]:offsets[1]])"
   ]
  },
  {
   "cell_type": "code",
   "execution_count": 71,
   "metadata": {},
   "outputs": [
    {
     "name": "stdout",
     "output_type": "stream",
     "text": [
      "3183\n",
      "(31, 35)\n",
      "whom whom\n"
     ]
    }
   ],
   "source": [
    "first_token_id = tokenized_example[\"input_ids\"][0][7]\n",
    "offsets = tokenized_example[\"offset_mapping\"][0][7]\n",
    "print(first_token_id)\n",
    "print(offsets)\n",
    "print(tokenizer.convert_ids_to_tokens([first_token_id])[0], example[\"question\"][offsets[0]:offsets[1]])"
   ]
  },
  {
   "cell_type": "code",
   "execution_count": 72,
   "metadata": {},
   "outputs": [
    {
     "name": "stdout",
     "output_type": "stream",
     "text": [
      "2006\n",
      "(0, 2)\n",
      "on On\n"
     ]
    }
   ],
   "source": [
    "first_token_id = tokenized_example[\"input_ids\"][0][10]\n",
    "offsets = tokenized_example[\"offset_mapping\"][0][10]\n",
    "print(first_token_id)\n",
    "print(offsets)\n",
    "print(tokenizer.convert_ids_to_tokens([first_token_id])[0], example[\"context\"][offsets[0]:offsets[1]])"
   ]
  },
  {
   "cell_type": "code",
   "execution_count": 88,
   "metadata": {
    "scrolled": true
   },
   "outputs": [
    {
     "name": "stdout",
     "output_type": "stream",
     "text": [
      "\n",
      "=== 分块 0 ===\n",
      "0 0\n",
      "Token 0: [CLS] → \n",
      "0 7\n",
      "Token 1: beyonce → Beyonce\n",
      "8 11\n",
      "Token 2: got → got\n",
      "12 19\n",
      "Token 3: married → married\n",
      "20 22\n",
      "Token 4: in → in\n",
      "23 27\n",
      "Token 5: 2008 → 2008\n",
      "28 30\n",
      "Token 6: to → to\n",
      "31 35\n",
      "Token 7: whom → whom\n",
      "35 36\n",
      "Token 8: ? → ?\n",
      "0 0\n",
      "Token 9: [SEP] → \n",
      "0 2\n",
      "Token 10: on → On\n",
      "3 8\n",
      "Token 11: april → April\n",
      "9 10\n",
      "Token 12: 4 → 4\n",
      "10 11\n",
      "Token 13: , → ,\n",
      "12 16\n",
      "Token 14: 2008 → 2008\n",
      "16 17\n",
      "Token 15: , → ,\n",
      "18 25\n",
      "Token 16: beyonce → Beyoncé\n",
      "26 33\n",
      "Token 17: married → married\n",
      "34 37\n",
      "Token 18: jay → Jay\n",
      "38 39\n",
      "Token 19: z → Z\n",
      "39 40\n",
      "Token 20: . → .\n",
      "41 44\n",
      "Token 21: she → She\n",
      "45 53\n",
      "Token 22: publicly → publicly\n",
      "54 62\n",
      "Token 23: revealed → revealed\n",
      "63 68\n",
      "Token 24: their → their\n",
      "69 77\n",
      "Token 25: marriage → marriage\n",
      "78 80\n",
      "Token 26: in → in\n",
      "81 82\n",
      "Token 27: a → a\n",
      "83 88\n",
      "Token 28: video → video\n",
      "89 93\n",
      "Token 29: mont → mont\n",
      "93 96\n",
      "Token 30: ##age → age\n",
      "97 99\n",
      "Token 31: at → at\n",
      "100 103\n",
      "Token 32: the → the\n",
      "104 113\n",
      "Token 33: listening → listening\n",
      "114 119\n",
      "Token 34: party → party\n",
      "120 123\n",
      "Token 35: for → for\n",
      "124 127\n",
      "Token 36: her → her\n",
      "128 133\n",
      "Token 37: third → third\n",
      "134 140\n",
      "Token 38: studio → studio\n",
      "141 146\n",
      "Token 39: album → album\n",
      "146 147\n",
      "Token 40: , → ,\n",
      "148 149\n",
      "Token 41: i → I\n",
      "150 152\n",
      "Token 42: am → Am\n",
      "152 153\n",
      "Token 43: . → .\n",
      "153 154\n",
      "Token 44: . → .\n",
      "154 155\n",
      "Token 45: . → .\n",
      "156 161\n",
      "Token 46: sasha → Sasha\n",
      "162 168\n",
      "Token 47: fierce → Fierce\n",
      "168 169\n",
      "Token 48: , → ,\n",
      "170 172\n",
      "Token 49: in → in\n",
      "173 182\n",
      "Token 50: manhattan → Manhattan\n",
      "182 183\n",
      "Token 51: ' → '\n",
      "183 184\n",
      "Token 52: s → s\n",
      "185 189\n",
      "Token 53: sony → Sony\n",
      "190 194\n",
      "Token 54: club → Club\n",
      "195 197\n",
      "Token 55: on → on\n",
      "198 205\n",
      "Token 56: october → October\n",
      "206 208\n",
      "Token 57: 22 → 22\n",
      "208 209\n",
      "Token 58: , → ,\n",
      "210 214\n",
      "Token 59: 2008 → 2008\n",
      "214 215\n",
      "Token 60: . → .\n",
      "216 217\n",
      "Token 61: i → I\n",
      "218 220\n",
      "Token 62: am → Am\n",
      "220 221\n",
      "Token 63: . → .\n",
      "221 222\n",
      "Token 64: . → .\n",
      "222 223\n",
      "Token 65: . → .\n",
      "224 229\n",
      "Token 66: sasha → Sasha\n",
      "230 236\n",
      "Token 67: fierce → Fierce\n",
      "237 240\n",
      "Token 68: was → was\n",
      "241 249\n",
      "Token 69: released → released\n",
      "250 252\n",
      "Token 70: on → on\n",
      "253 261\n",
      "Token 71: november → November\n",
      "262 264\n",
      "Token 72: 18 → 18\n",
      "264 265\n",
      "Token 73: , → ,\n",
      "266 270\n",
      "Token 74: 2008 → 2008\n",
      "271 273\n",
      "Token 75: in → in\n",
      "274 277\n",
      "Token 76: the → the\n",
      "278 284\n",
      "Token 77: united → United\n",
      "285 291\n",
      "Token 78: states → States\n",
      "291 292\n",
      "Token 79: . → .\n",
      "293 296\n",
      "Token 80: the → The\n",
      "297 302\n",
      "Token 81: album → album\n",
      "303 311\n",
      "Token 82: formally → formally\n",
      "312 322\n",
      "Token 83: introduces → introduces\n",
      "323 330\n",
      "Token 84: beyonce → Beyoncé\n",
      "330 331\n",
      "Token 85: ' → '\n",
      "331 332\n",
      "Token 86: s → s\n",
      "333 338\n",
      "Token 87: alter → alter\n",
      "339 342\n",
      "Token 88: ego → ego\n",
      "343 348\n",
      "Token 89: sasha → Sasha\n",
      "349 355\n",
      "Token 90: fierce → Fierce\n",
      "355 356\n",
      "Token 91: , → ,\n",
      "357 366\n",
      "Token 92: conceived → conceived\n",
      "367 373\n",
      "Token 93: during → during\n",
      "374 377\n",
      "Token 94: the → the\n",
      "378 384\n",
      "Token 95: making → making\n",
      "385 387\n",
      "Token 96: of → of\n",
      "388 391\n",
      "Token 97: her → her\n",
      "392 396\n",
      "Token 98: 2003 → 2003\n",
      "397 403\n",
      "Token 99: single → single\n",
      "404 405\n",
      "Token 100: \" → \"\n",
      "405 410\n",
      "Token 101: crazy → Crazy\n",
      "411 413\n",
      "Token 102: in → in\n",
      "414 418\n",
      "Token 103: love → Love\n",
      "418 419\n",
      "Token 104: \" → \"\n",
      "419 420\n",
      "Token 105: , → ,\n",
      "421 428\n",
      "Token 106: selling → selling\n",
      "429 431\n",
      "Token 107: 48 → 48\n",
      "431 432\n",
      "Token 108: ##2 → 2\n",
      "432 433\n",
      "Token 109: , → ,\n",
      "433 436\n",
      "Token 110: 000 → 000\n",
      "437 443\n",
      "Token 111: copies → copies\n",
      "444 446\n",
      "Token 112: in → in\n",
      "447 450\n",
      "Token 113: its → its\n",
      "451 456\n",
      "Token 114: first → first\n",
      "457 461\n",
      "Token 115: week → week\n",
      "461 462\n",
      "Token 116: , → ,\n",
      "463 471\n",
      "Token 117: debuting → debuting\n",
      "472 476\n",
      "Token 118: atop → atop\n",
      "477 480\n",
      "Token 119: the → the\n",
      "481 490\n",
      "Token 120: billboard → Billboard\n",
      "491 494\n",
      "Token 121: 200 → 200\n",
      "494 495\n",
      "Token 122: , → ,\n",
      "496 499\n",
      "Token 123: and → and\n",
      "500 506\n",
      "Token 124: giving → giving\n",
      "507 514\n",
      "Token 125: beyonce → Beyoncé\n",
      "515 518\n",
      "Token 126: her → her\n",
      "519 524\n",
      "Token 127: third → third\n",
      "525 536\n",
      "Token 128: consecutive → consecutive\n",
      "537 543\n",
      "Token 129: number → number\n",
      "543 544\n",
      "Token 130: - → -\n",
      "544 547\n",
      "Token 131: one → one\n",
      "548 553\n",
      "Token 132: album → album\n",
      "554 556\n",
      "Token 133: in → in\n",
      "557 560\n",
      "Token 134: the → the\n",
      "561 563\n",
      "Token 135: us → US\n",
      "563 564\n",
      "Token 136: . → .\n",
      "565 568\n",
      "Token 137: the → The\n",
      "569 574\n",
      "Token 138: album → album\n",
      "575 583\n",
      "Token 139: featured → featured\n",
      "584 587\n",
      "Token 140: the → the\n",
      "588 594\n",
      "Token 141: number → number\n",
      "594 595\n",
      "Token 142: - → -\n",
      "595 598\n",
      "Token 143: one → one\n",
      "599 603\n",
      "Token 144: song → song\n",
      "604 605\n",
      "Token 145: \" → \"\n",
      "605 611\n",
      "Token 146: single → Single\n",
      "612 618\n",
      "Token 147: ladies → Ladies\n",
      "619 620\n",
      "Token 148: ( → (\n",
      "620 623\n",
      "Token 149: put → Put\n",
      "624 625\n",
      "Token 150: a → a\n",
      "626 630\n",
      "Token 151: ring → Ring\n",
      "631 633\n",
      "Token 152: on → on\n",
      "634 636\n",
      "Token 153: it → It\n",
      "636 637\n",
      "Token 154: ) → )\n",
      "637 638\n",
      "Token 155: \" → \"\n",
      "639 642\n",
      "Token 156: and → and\n",
      "643 646\n",
      "Token 157: the → the\n",
      "647 650\n",
      "Token 158: top → top\n",
      "650 651\n",
      "Token 159: - → -\n",
      "651 655\n",
      "Token 160: five → five\n",
      "656 661\n",
      "Token 161: songs → songs\n",
      "662 663\n",
      "Token 162: \" → \"\n",
      "663 665\n",
      "Token 163: if → If\n",
      "666 667\n",
      "Token 164: i → I\n",
      "668 672\n",
      "Token 165: were → Were\n",
      "673 674\n",
      "Token 166: a → a\n",
      "675 678\n",
      "Token 167: boy → Boy\n",
      "678 679\n",
      "Token 168: \" → \"\n",
      "680 683\n",
      "Token 169: and → and\n",
      "684 685\n",
      "Token 170: \" → \"\n",
      "685 689\n",
      "Token 171: halo → Halo\n",
      "689 690\n",
      "Token 172: \" → \"\n",
      "690 691\n",
      "Token 173: . → .\n",
      "692 701\n",
      "Token 174: achieving → Achieving\n",
      "702 705\n",
      "Token 175: the → the\n",
      "706 720\n",
      "Token 176: accomplishment → accomplishment\n",
      "721 723\n",
      "Token 177: of → of\n",
      "724 732\n",
      "Token 178: becoming → becoming\n",
      "733 736\n",
      "Token 179: her → her\n",
      "737 744\n",
      "Token 180: longest → longest\n",
      "744 745\n",
      "Token 181: - → -\n",
      "745 752\n",
      "Token 182: running → running\n",
      "753 756\n",
      "Token 183: hot → Hot\n",
      "757 760\n",
      "Token 184: 100 → 100\n",
      "761 767\n",
      "Token 185: single → single\n",
      "768 770\n",
      "Token 186: in → in\n",
      "771 774\n",
      "Token 187: her → her\n",
      "775 781\n",
      "Token 188: career → career\n",
      "781 782\n",
      "Token 189: , → ,\n",
      "783 784\n",
      "Token 190: \" → \"\n",
      "784 788\n",
      "Token 191: halo → Halo\n",
      "788 789\n",
      "Token 192: \" → \"\n",
      "789 790\n",
      "Token 193: ' → '\n",
      "790 791\n",
      "Token 194: s → s\n",
      "792 799\n",
      "Token 195: success → success\n",
      "800 802\n",
      "Token 196: in → in\n",
      "803 806\n",
      "Token 197: the → the\n",
      "807 809\n",
      "Token 198: us → US\n",
      "810 816\n",
      "Token 199: helped → helped\n",
      "817 824\n",
      "Token 200: beyonce → Beyoncé\n",
      "825 831\n",
      "Token 201: attain → attain\n",
      "832 836\n",
      "Token 202: more → more\n",
      "837 840\n",
      "Token 203: top → top\n",
      "840 841\n",
      "Token 204: - → -\n",
      "841 844\n",
      "Token 205: ten → ten\n",
      "845 852\n",
      "Token 206: singles → singles\n",
      "853 855\n",
      "Token 207: on → on\n",
      "856 859\n",
      "Token 208: the → the\n",
      "860 864\n",
      "Token 209: list → list\n",
      "865 869\n",
      "Token 210: than → than\n",
      "870 873\n",
      "Token 211: any → any\n",
      "874 879\n",
      "Token 212: other → other\n",
      "880 885\n",
      "Token 213: woman → woman\n",
      "886 892\n",
      "Token 214: during → during\n",
      "893 896\n",
      "Token 215: the → the\n",
      "897 902\n",
      "Token 216: 2000s → 2000s\n",
      "902 903\n",
      "Token 217: . → .\n",
      "904 906\n",
      "Token 218: it → It\n",
      "907 911\n",
      "Token 219: also → also\n",
      "912 920\n",
      "Token 220: included → included\n",
      "921 924\n",
      "Token 221: the → the\n",
      "925 935\n",
      "Token 222: successful → successful\n",
      "936 937\n",
      "Token 223: \" → \"\n",
      "937 942\n",
      "Token 224: sweet → Sweet\n",
      "943 949\n",
      "Token 225: dreams → Dreams\n",
      "949 950\n",
      "Token 226: \" → \"\n",
      "950 951\n",
      "Token 227: , → ,\n",
      "952 955\n",
      "Token 228: and → and\n",
      "956 963\n",
      "Token 229: singles → singles\n",
      "964 965\n",
      "Token 230: \" → \"\n",
      "965 969\n",
      "Token 231: diva → Diva\n",
      "969 970\n",
      "Token 232: \" → \"\n",
      "970 971\n",
      "Token 233: , → ,\n",
      "972 973\n",
      "Token 234: \" → \"\n",
      "973 976\n",
      "Token 235: ego → Ego\n",
      "976 977\n",
      "Token 236: \" → \"\n",
      "977 978\n",
      "Token 237: , → ,\n",
      "979 980\n",
      "Token 238: \" → \"\n",
      "980 986\n",
      "Token 239: broken → Broken\n",
      "986 987\n",
      "Token 240: - → -\n",
      "987 994\n",
      "Token 241: hearted → Hearted\n",
      "995 999\n",
      "Token 242: girl → Girl\n",
      "999 1000\n",
      "Token 243: \" → \"\n",
      "1001 1004\n",
      "Token 244: and → and\n",
      "1005 1006\n",
      "Token 245: \" → \"\n",
      "1006 1011\n",
      "Token 246: video → Video\n",
      "1012 1017\n",
      "Token 247: phone → Phone\n",
      "1017 1018\n",
      "Token 248: \" → \"\n",
      "1018 1019\n",
      "Token 249: . → .\n",
      "1020 1023\n",
      "Token 250: the → The\n",
      "1024 1029\n",
      "Token 251: music → music\n",
      "1030 1035\n",
      "Token 252: video → video\n",
      "1036 1039\n",
      "Token 253: for → for\n",
      "1040 1041\n",
      "Token 254: \" → \"\n",
      "1041 1047\n",
      "Token 255: single → Single\n",
      "1048 1054\n",
      "Token 256: ladies → Ladies\n",
      "1054 1055\n",
      "Token 257: \" → \"\n",
      "1056 1059\n",
      "Token 258: has → has\n",
      "1060 1064\n",
      "Token 259: been → been\n",
      "1065 1068\n",
      "Token 260: par → par\n",
      "1068 1070\n",
      "Token 261: ##od → od\n",
      "1070 1073\n",
      "Token 262: ##ied → ied\n",
      "1074 1077\n",
      "Token 263: and → and\n",
      "1078 1080\n",
      "Token 264: im → im\n",
      "1080 1086\n",
      "Token 265: ##itated → itated\n",
      "1087 1093\n",
      "Token 266: around → around\n",
      "1094 1097\n",
      "Token 267: the → the\n",
      "1098 1103\n",
      "Token 268: world → world\n",
      "1103 1104\n",
      "Token 269: , → ,\n",
      "1105 1113\n",
      "Token 270: spawning → spawning\n",
      "1114 1117\n",
      "Token 271: the → the\n",
      "1118 1119\n",
      "Token 272: \" → \"\n",
      "1119 1124\n",
      "Token 273: first → first\n",
      "1125 1130\n",
      "Token 274: major → major\n",
      "1131 1136\n",
      "Token 275: dance → dance\n",
      "1137 1139\n",
      "Token 276: cr → cr\n",
      "1139 1141\n",
      "Token 277: ##az → az\n",
      "1141 1142\n",
      "Token 278: ##e → e\n",
      "1142 1143\n",
      "Token 279: \" → \"\n",
      "1144 1146\n",
      "Token 280: of → of\n",
      "1147 1150\n",
      "Token 281: the → the\n",
      "1151 1159\n",
      "Token 282: internet → Internet\n",
      "1160 1163\n",
      "Token 283: age → age\n",
      "1164 1173\n",
      "Token 284: according → according\n",
      "1174 1176\n",
      "Token 285: to → to\n",
      "1177 1180\n",
      "Token 286: the → the\n",
      "1181 1188\n",
      "Token 287: toronto → Toronto\n",
      "1189 1193\n",
      "Token 288: star → Star\n",
      "1193 1194\n",
      "Token 289: . → .\n",
      "1195 1198\n",
      "Token 290: the → The\n",
      "1199 1204\n",
      "Token 291: video → video\n",
      "1205 1208\n",
      "Token 292: has → has\n",
      "1209 1212\n",
      "Token 293: won → won\n",
      "1213 1220\n",
      "Token 294: several → several\n",
      "1221 1227\n",
      "Token 295: awards → awards\n",
      "1227 1228\n",
      "Token 296: , → ,\n",
      "1229 1238\n",
      "Token 297: including → including\n",
      "1239 1243\n",
      "Token 298: best → Best\n",
      "1244 1249\n",
      "Token 299: video → Video\n",
      "1250 1252\n",
      "Token 300: at → at\n",
      "1253 1256\n",
      "Token 301: the → the\n",
      "1257 1261\n",
      "Token 302: 2009 → 2009\n",
      "1262 1265\n",
      "Token 303: mtv → MTV\n",
      "1266 1272\n",
      "Token 304: europe → Europe\n",
      "1273 1278\n",
      "Token 305: music → Music\n",
      "1279 1285\n",
      "Token 306: awards → Awards\n",
      "1285 1286\n",
      "Token 307: , → ,\n",
      "1287 1290\n",
      "Token 308: the → the\n",
      "1291 1295\n",
      "Token 309: 2009 → 2009\n",
      "1296 1304\n",
      "Token 310: scottish → Scottish\n",
      "1305 1308\n",
      "Token 311: mob → MOB\n",
      "1308 1309\n",
      "Token 312: ##o → O\n",
      "1310 1316\n",
      "Token 313: awards → Awards\n",
      "1316 1317\n",
      "Token 314: , → ,\n",
      "1318 1321\n",
      "Token 315: and → and\n",
      "1322 1325\n",
      "Token 316: the → the\n",
      "1326 1330\n",
      "Token 317: 2009 → 2009\n",
      "1331 1334\n",
      "Token 318: bet → BET\n",
      "1335 1341\n",
      "Token 319: awards → Awards\n",
      "1341 1342\n",
      "Token 320: . → .\n",
      "1343 1345\n",
      "Token 321: at → At\n",
      "1346 1349\n",
      "Token 322: the → the\n",
      "1350 1354\n",
      "Token 323: 2009 → 2009\n",
      "1355 1358\n",
      "Token 324: mtv → MTV\n",
      "1359 1364\n",
      "Token 325: video → Video\n",
      "1365 1370\n",
      "Token 326: music → Music\n",
      "1371 1377\n",
      "Token 327: awards → Awards\n",
      "1377 1378\n",
      "Token 328: , → ,\n",
      "1379 1382\n",
      "Token 329: the → the\n",
      "1383 1388\n",
      "Token 330: video → video\n",
      "1389 1392\n",
      "Token 331: was → was\n",
      "1393 1402\n",
      "Token 332: nominated → nominated\n",
      "1403 1406\n",
      "Token 333: for → for\n",
      "1407 1411\n",
      "Token 334: nine → nine\n",
      "1412 1418\n",
      "Token 335: awards → awards\n",
      "1418 1419\n",
      "Token 336: , → ,\n",
      "1420 1430\n",
      "Token 337: ultimately → ultimately\n",
      "1431 1438\n",
      "Token 338: winning → winning\n",
      "1439 1444\n",
      "Token 339: three → three\n",
      "1445 1454\n",
      "Token 340: including → including\n",
      "1455 1460\n",
      "Token 341: video → Video\n",
      "1461 1463\n",
      "Token 342: of → of\n",
      "1464 1467\n",
      "Token 343: the → the\n",
      "1468 1472\n",
      "Token 344: year → Year\n",
      "1472 1473\n",
      "Token 345: . → .\n",
      "1474 1477\n",
      "Token 346: its → Its\n",
      "1478 1485\n",
      "Token 347: failure → failure\n",
      "1486 1488\n",
      "Token 348: to → to\n",
      "1489 1492\n",
      "Token 349: win → win\n",
      "1493 1496\n",
      "Token 350: the → the\n",
      "1497 1501\n",
      "Token 351: best → Best\n",
      "1502 1508\n",
      "Token 352: female → Female\n",
      "1509 1514\n",
      "Token 353: video → Video\n",
      "1515 1523\n",
      "Token 354: category → category\n",
      "1523 1524\n",
      "Token 355: , → ,\n",
      "1525 1530\n",
      "Token 356: which → which\n",
      "1531 1535\n",
      "Token 357: went → went\n",
      "1536 1538\n",
      "Token 358: to → to\n",
      "1539 1547\n",
      "Token 359: american → American\n",
      "1548 1555\n",
      "Token 360: country → country\n",
      "1556 1559\n",
      "Token 361: pop → pop\n",
      "1560 1566\n",
      "Token 362: singer → singer\n",
      "1567 1573\n",
      "Token 363: taylor → Taylor\n",
      "1574 1579\n",
      "Token 364: swift → Swift\n",
      "1579 1580\n",
      "Token 365: ' → '\n",
      "1580 1581\n",
      "Token 366: s → s\n",
      "1582 1583\n",
      "Token 367: \" → \"\n",
      "1583 1586\n",
      "Token 368: you → You\n",
      "1587 1593\n",
      "Token 369: belong → Belong\n",
      "1594 1598\n",
      "Token 370: with → with\n",
      "1599 1601\n",
      "Token 371: me → Me\n",
      "1601 1602\n",
      "Token 372: \" → \"\n",
      "1602 1603\n",
      "Token 373: , → ,\n",
      "1604 1607\n",
      "Token 374: led → led\n",
      "1608 1610\n",
      "Token 375: to → to\n",
      "1611 1616\n",
      "Token 376: kanye → Kanye\n",
      "1617 1621\n",
      "Token 377: west → West\n",
      "1622 1634\n",
      "Token 378: interrupting → interrupting\n",
      "1635 1638\n",
      "Token 379: the → the\n",
      "1639 1647\n",
      "Token 380: ceremony → ceremony\n",
      "1648 1651\n",
      "Token 381: and → and\n",
      "1652 1659\n",
      "Token 382: beyonce → Beyoncé\n",
      "0 0\n",
      "Token 383: [SEP] → \n",
      "\n",
      "=== 分块 1 ===\n",
      "0 0\n",
      "Token 0: [CLS] → \n",
      "0 7\n",
      "Token 1: beyonce → Beyonce\n",
      "8 11\n",
      "Token 2: got → got\n",
      "12 19\n",
      "Token 3: married → married\n",
      "20 22\n",
      "Token 4: in → in\n",
      "23 27\n",
      "Token 5: 2008 → 2008\n",
      "28 30\n",
      "Token 6: to → to\n",
      "31 35\n",
      "Token 7: whom → whom\n",
      "35 36\n",
      "Token 8: ? → ?\n",
      "0 0\n",
      "Token 9: [SEP] → \n",
      "1041 1047\n",
      "Token 10: single → Single\n",
      "1048 1054\n",
      "Token 11: ladies → Ladies\n",
      "1054 1055\n",
      "Token 12: \" → \"\n",
      "1056 1059\n",
      "Token 13: has → has\n",
      "1060 1064\n",
      "Token 14: been → been\n",
      "1065 1068\n",
      "Token 15: par → par\n",
      "1068 1070\n",
      "Token 16: ##od → od\n",
      "1070 1073\n",
      "Token 17: ##ied → ied\n",
      "1074 1077\n",
      "Token 18: and → and\n",
      "1078 1080\n",
      "Token 19: im → im\n",
      "1080 1086\n",
      "Token 20: ##itated → itated\n",
      "1087 1093\n",
      "Token 21: around → around\n",
      "1094 1097\n",
      "Token 22: the → the\n",
      "1098 1103\n",
      "Token 23: world → world\n",
      "1103 1104\n",
      "Token 24: , → ,\n",
      "1105 1113\n",
      "Token 25: spawning → spawning\n",
      "1114 1117\n",
      "Token 26: the → the\n",
      "1118 1119\n",
      "Token 27: \" → \"\n",
      "1119 1124\n",
      "Token 28: first → first\n",
      "1125 1130\n",
      "Token 29: major → major\n",
      "1131 1136\n",
      "Token 30: dance → dance\n",
      "1137 1139\n",
      "Token 31: cr → cr\n",
      "1139 1141\n",
      "Token 32: ##az → az\n",
      "1141 1142\n",
      "Token 33: ##e → e\n",
      "1142 1143\n",
      "Token 34: \" → \"\n",
      "1144 1146\n",
      "Token 35: of → of\n",
      "1147 1150\n",
      "Token 36: the → the\n",
      "1151 1159\n",
      "Token 37: internet → Internet\n",
      "1160 1163\n",
      "Token 38: age → age\n",
      "1164 1173\n",
      "Token 39: according → according\n",
      "1174 1176\n",
      "Token 40: to → to\n",
      "1177 1180\n",
      "Token 41: the → the\n",
      "1181 1188\n",
      "Token 42: toronto → Toronto\n",
      "1189 1193\n",
      "Token 43: star → Star\n",
      "1193 1194\n",
      "Token 44: . → .\n",
      "1195 1198\n",
      "Token 45: the → The\n",
      "1199 1204\n",
      "Token 46: video → video\n",
      "1205 1208\n",
      "Token 47: has → has\n",
      "1209 1212\n",
      "Token 48: won → won\n",
      "1213 1220\n",
      "Token 49: several → several\n",
      "1221 1227\n",
      "Token 50: awards → awards\n",
      "1227 1228\n",
      "Token 51: , → ,\n",
      "1229 1238\n",
      "Token 52: including → including\n",
      "1239 1243\n",
      "Token 53: best → Best\n",
      "1244 1249\n",
      "Token 54: video → Video\n",
      "1250 1252\n",
      "Token 55: at → at\n",
      "1253 1256\n",
      "Token 56: the → the\n",
      "1257 1261\n",
      "Token 57: 2009 → 2009\n",
      "1262 1265\n",
      "Token 58: mtv → MTV\n",
      "1266 1272\n",
      "Token 59: europe → Europe\n",
      "1273 1278\n",
      "Token 60: music → Music\n",
      "1279 1285\n",
      "Token 61: awards → Awards\n",
      "1285 1286\n",
      "Token 62: , → ,\n",
      "1287 1290\n",
      "Token 63: the → the\n",
      "1291 1295\n",
      "Token 64: 2009 → 2009\n",
      "1296 1304\n",
      "Token 65: scottish → Scottish\n",
      "1305 1308\n",
      "Token 66: mob → MOB\n",
      "1308 1309\n",
      "Token 67: ##o → O\n",
      "1310 1316\n",
      "Token 68: awards → Awards\n",
      "1316 1317\n",
      "Token 69: , → ,\n",
      "1318 1321\n",
      "Token 70: and → and\n",
      "1322 1325\n",
      "Token 71: the → the\n",
      "1326 1330\n",
      "Token 72: 2009 → 2009\n",
      "1331 1334\n",
      "Token 73: bet → BET\n",
      "1335 1341\n",
      "Token 74: awards → Awards\n",
      "1341 1342\n",
      "Token 75: . → .\n",
      "1343 1345\n",
      "Token 76: at → At\n",
      "1346 1349\n",
      "Token 77: the → the\n",
      "1350 1354\n",
      "Token 78: 2009 → 2009\n",
      "1355 1358\n",
      "Token 79: mtv → MTV\n",
      "1359 1364\n",
      "Token 80: video → Video\n",
      "1365 1370\n",
      "Token 81: music → Music\n",
      "1371 1377\n",
      "Token 82: awards → Awards\n",
      "1377 1378\n",
      "Token 83: , → ,\n",
      "1379 1382\n",
      "Token 84: the → the\n",
      "1383 1388\n",
      "Token 85: video → video\n",
      "1389 1392\n",
      "Token 86: was → was\n",
      "1393 1402\n",
      "Token 87: nominated → nominated\n",
      "1403 1406\n",
      "Token 88: for → for\n",
      "1407 1411\n",
      "Token 89: nine → nine\n",
      "1412 1418\n",
      "Token 90: awards → awards\n",
      "1418 1419\n",
      "Token 91: , → ,\n",
      "1420 1430\n",
      "Token 92: ultimately → ultimately\n",
      "1431 1438\n",
      "Token 93: winning → winning\n",
      "1439 1444\n",
      "Token 94: three → three\n",
      "1445 1454\n",
      "Token 95: including → including\n",
      "1455 1460\n",
      "Token 96: video → Video\n",
      "1461 1463\n",
      "Token 97: of → of\n",
      "1464 1467\n",
      "Token 98: the → the\n",
      "1468 1472\n",
      "Token 99: year → Year\n",
      "1472 1473\n",
      "Token 100: . → .\n",
      "1474 1477\n",
      "Token 101: its → Its\n",
      "1478 1485\n",
      "Token 102: failure → failure\n",
      "1486 1488\n",
      "Token 103: to → to\n",
      "1489 1492\n",
      "Token 104: win → win\n",
      "1493 1496\n",
      "Token 105: the → the\n",
      "1497 1501\n",
      "Token 106: best → Best\n",
      "1502 1508\n",
      "Token 107: female → Female\n",
      "1509 1514\n",
      "Token 108: video → Video\n",
      "1515 1523\n",
      "Token 109: category → category\n",
      "1523 1524\n",
      "Token 110: , → ,\n",
      "1525 1530\n",
      "Token 111: which → which\n",
      "1531 1535\n",
      "Token 112: went → went\n",
      "1536 1538\n",
      "Token 113: to → to\n",
      "1539 1547\n",
      "Token 114: american → American\n",
      "1548 1555\n",
      "Token 115: country → country\n",
      "1556 1559\n",
      "Token 116: pop → pop\n",
      "1560 1566\n",
      "Token 117: singer → singer\n",
      "1567 1573\n",
      "Token 118: taylor → Taylor\n",
      "1574 1579\n",
      "Token 119: swift → Swift\n",
      "1579 1580\n",
      "Token 120: ' → '\n",
      "1580 1581\n",
      "Token 121: s → s\n",
      "1582 1583\n",
      "Token 122: \" → \"\n",
      "1583 1586\n",
      "Token 123: you → You\n",
      "1587 1593\n",
      "Token 124: belong → Belong\n",
      "1594 1598\n",
      "Token 125: with → with\n",
      "1599 1601\n",
      "Token 126: me → Me\n",
      "1601 1602\n",
      "Token 127: \" → \"\n",
      "1602 1603\n",
      "Token 128: , → ,\n",
      "1604 1607\n",
      "Token 129: led → led\n",
      "1608 1610\n",
      "Token 130: to → to\n",
      "1611 1616\n",
      "Token 131: kanye → Kanye\n",
      "1617 1621\n",
      "Token 132: west → West\n",
      "1622 1634\n",
      "Token 133: interrupting → interrupting\n",
      "1635 1638\n",
      "Token 134: the → the\n",
      "1639 1647\n",
      "Token 135: ceremony → ceremony\n",
      "1648 1651\n",
      "Token 136: and → and\n",
      "1652 1659\n",
      "Token 137: beyonce → Beyoncé\n",
      "1660 1663\n",
      "Token 138: imp → imp\n",
      "1663 1666\n",
      "Token 139: ##rov → rov\n",
      "1666 1671\n",
      "Token 140: ##ising → ising\n",
      "1672 1673\n",
      "Token 141: a → a\n",
      "1674 1676\n",
      "Token 142: re → re\n",
      "1676 1677\n",
      "Token 143: - → -\n",
      "1677 1689\n",
      "Token 144: presentation → presentation\n",
      "1690 1692\n",
      "Token 145: of → of\n",
      "1693 1698\n",
      "Token 146: swift → Swift\n",
      "1698 1699\n",
      "Token 147: ' → '\n",
      "1699 1700\n",
      "Token 148: s → s\n",
      "1701 1706\n",
      "Token 149: award → award\n",
      "1707 1713\n",
      "Token 150: during → during\n",
      "1714 1717\n",
      "Token 151: her → her\n",
      "1718 1721\n",
      "Token 152: own → own\n",
      "1722 1732\n",
      "Token 153: acceptance → acceptance\n",
      "1733 1739\n",
      "Token 154: speech → speech\n",
      "1739 1740\n",
      "Token 155: . → .\n",
      "1741 1743\n",
      "Token 156: in → In\n",
      "1744 1749\n",
      "Token 157: march → March\n",
      "1750 1754\n",
      "Token 158: 2009 → 2009\n",
      "1754 1755\n",
      "Token 159: , → ,\n",
      "1756 1763\n",
      "Token 160: beyonce → Beyoncé\n",
      "1764 1772\n",
      "Token 161: embarked → embarked\n",
      "1773 1775\n",
      "Token 162: on → on\n",
      "1776 1779\n",
      "Token 163: the → the\n",
      "1780 1781\n",
      "Token 164: i → I\n",
      "1782 1784\n",
      "Token 165: am → Am\n",
      "1784 1785\n",
      "Token 166: . → .\n",
      "1785 1786\n",
      "Token 167: . → .\n",
      "1786 1787\n",
      "Token 168: . → .\n",
      "1788 1793\n",
      "Token 169: world → World\n",
      "1794 1798\n",
      "Token 170: tour → Tour\n",
      "1798 1799\n",
      "Token 171: , → ,\n",
      "1800 1803\n",
      "Token 172: her → her\n",
      "1804 1810\n",
      "Token 173: second → second\n",
      "1811 1821\n",
      "Token 174: headlining → headlining\n",
      "1822 1831\n",
      "Token 175: worldwide → worldwide\n",
      "1832 1839\n",
      "Token 176: concert → concert\n",
      "1840 1844\n",
      "Token 177: tour → tour\n",
      "1844 1845\n",
      "Token 178: , → ,\n",
      "1846 1856\n",
      "Token 179: consisting → consisting\n",
      "1857 1859\n",
      "Token 180: of → of\n",
      "1860 1863\n",
      "Token 181: 108 → 108\n",
      "1864 1869\n",
      "Token 182: shows → shows\n",
      "1869 1870\n",
      "Token 183: , → ,\n",
      "1871 1879\n",
      "Token 184: grossing → grossing\n",
      "1880 1881\n",
      "Token 185: $ → $\n",
      "1881 1884\n",
      "Token 186: 119 → 119\n",
      "1884 1885\n",
      "Token 187: . → .\n",
      "1885 1886\n",
      "Token 188: 5 → 5\n",
      "1887 1894\n",
      "Token 189: million → million\n",
      "1894 1895\n",
      "Token 190: . → .\n",
      "0 0\n",
      "Token 191: [SEP] → \n"
     ]
    }
   ],
   "source": [
    "# 遍历每个分块\n",
    "for chunk_idx in range(len(tokenized_example[\"input_ids\"])):\n",
    "    print(f\"\\n=== 分块 {chunk_idx} ===\")\n",
    "    \n",
    "    # 获取当前分块的数据\n",
    "    input_ids = tokenized_example[\"input_ids\"][chunk_idx]\n",
    "    offset_mapping = tokenized_example[\"offset_mapping\"][chunk_idx]\n",
    "    token_type_ids = tokenized_example[\"token_type_ids\"][chunk_idx]\n",
    "\n",
    "    # 遍历分块内的每个 token\n",
    "    for token_idx, (token_id, offset, token_type) in enumerate(zip(input_ids, offset_mapping, token_type_ids)):\n",
    "        # 根据 token_type 选择来源文本\n",
    "        if token_type == 0:\n",
    "            source_text = example[\"question\"]\n",
    "        else:\n",
    "            source_text = example[\"context\"]\n",
    "\n",
    "        # 关键修复点：分解 offset 元组为 start 和 end\n",
    "        start = offset[0]  # 起始字符位置\n",
    "        end = offset[1]    # 结束字符位置\n",
    "        print(start, end)\n",
    "        original_text = source_text[start:end]\n",
    "        \n",
    "        # 转换 token_id 为可读文本\n",
    "        token_str = tokenizer.convert_ids_to_tokens([token_id])[0]  # 取列表第一个元素\n",
    "        \n",
    "        # 打印结果\n",
    "        print(f\"Token {token_idx}: {token_str} → {original_text}\")"
   ]
  },
  {
   "cell_type": "markdown",
   "metadata": {},
   "source": [
    "用最简单的比喻解释这段代码：\n",
    "\n",
    "**1. 分块（切书）**  \n",
    "- 就像一本厚书拆成几本小册子，每本最多512页（模型一次读不完长文本）\n",
    "\n",
    "**2. 文字变数字（加密）**  \n",
    "- 把每个字变成数字密码，比如 \"贝\"→100，\"爷\"→101  \n",
    "- `input_ids` 就是这些密码组成的列表：[100, 101, ...]\n",
    "\n",
    "**3. 记位置（书签）**  \n",
    "- `offset_mapping` 记录每个密码在原文的位置，比如 (0,2) 表示前两个字\n",
    "\n",
    "**4. 区分问题和答案（贴标签）**  \n",
    "- `token_type_ids=0` 表示文字来自问题（如 \"贝爷哪年结婚？\"）  \n",
    "- `token_type_ids=1` 表示文字来自答案（如 \"2000年...\"）\n",
    "\n",
    "**5. 找对应文字（解密）**  \n",
    "- 用密码本把数字转回文字  \n",
    "- 根据位置标签，从问题或答案文本截取对应文字\n",
    "\n",
    "**就像这样：**  \n",
    "密码 `100` → 查密码本 → 是\"贝\" → 在问题第0-2个位置 → 截取\"贝爷\"\n",
    "\n",
    "整个过程让计算机像人类一样：先看问题，再快速翻书找答案位置。"
   ]
  },
  {
   "cell_type": "code",
   "execution_count": 50,
   "metadata": {},
   "outputs": [
    {
     "data": {
      "text/plain": [
       "'Beyonce got married in 2008 to whom?'"
      ]
     },
     "execution_count": 50,
     "metadata": {},
     "output_type": "execute_result"
    }
   ],
   "source": [
    "example[\"question\"]"
   ]
  },
  {
   "cell_type": "code",
   "execution_count": 89,
   "metadata": {},
   "outputs": [
    {
     "data": {
      "text/plain": [
       "'On April 4, 2008, Beyoncé married Jay Z. She publicly revealed their marriage in a video montage at the listening party for her third studio album, I Am... Sasha Fierce, in Manhattan\\'s Sony Club on October 22, 2008. I Am... Sasha Fierce was released on November 18, 2008 in the United States. The album formally introduces Beyoncé\\'s alter ego Sasha Fierce, conceived during the making of her 2003 single \"Crazy in Love\", selling 482,000 copies in its first week, debuting atop the Billboard 200, and giving Beyoncé her third consecutive number-one album in the US. The album featured the number-one song \"Single Ladies (Put a Ring on It)\" and the top-five songs \"If I Were a Boy\" and \"Halo\". Achieving the accomplishment of becoming her longest-running Hot 100 single in her career, \"Halo\"\\'s success in the US helped Beyoncé attain more top-ten singles on the list than any other woman during the 2000s. It also included the successful \"Sweet Dreams\", and singles \"Diva\", \"Ego\", \"Broken-Hearted Girl\" and \"Video Phone\". The music video for \"Single Ladies\" has been parodied and imitated around the world, spawning the \"first major dance craze\" of the Internet age according to the Toronto Star. The video has won several awards, including Best Video at the 2009 MTV Europe Music Awards, the 2009 Scottish MOBO Awards, and the 2009 BET Awards. At the 2009 MTV Video Music Awards, the video was nominated for nine awards, ultimately winning three including Video of the Year. Its failure to win the Best Female Video category, which went to American country pop singer Taylor Swift\\'s \"You Belong with Me\", led to Kanye West interrupting the ceremony and Beyoncé improvising a re-presentation of Swift\\'s award during her own acceptance speech. In March 2009, Beyoncé embarked on the I Am... World Tour, her second headlining worldwide concert tour, consisting of 108 shows, grossing $119.5 million.'"
      ]
     },
     "execution_count": 89,
     "metadata": {},
     "output_type": "execute_result"
    }
   ],
   "source": [
    "example[\"context\"]"
   ]
  },
  {
   "cell_type": "markdown",
   "metadata": {},
   "source": [
    "借助`tokenized_example`的`sequence_ids`方法，我们可以方便的区分token的来源编号：\n",
    "\n",
    "- 对于特殊标记：返回None，\n",
    "- 对于正文Token：返回句子编号（从0开始编号）。\n",
    "\n",
    "综上，现在我们可以很方便的在一个输入特征中找到答案的起始和结束 Token。"
   ]
  },
  {
   "cell_type": "code",
   "execution_count": 90,
   "metadata": {},
   "outputs": [
    {
     "name": "stdout",
     "output_type": "stream",
     "text": [
      "[None, 0, 0, 0, 0, 0, 0, 0, 0, None, 1, 1, 1, 1, 1, 1, 1, 1, 1, 1, 1, 1, 1, 1, 1, 1, 1, 1, 1, 1, 1, 1, 1, 1, 1, 1, 1, 1, 1, 1, 1, 1, 1, 1, 1, 1, 1, 1, 1, 1, 1, 1, 1, 1, 1, 1, 1, 1, 1, 1, 1, 1, 1, 1, 1, 1, 1, 1, 1, 1, 1, 1, 1, 1, 1, 1, 1, 1, 1, 1, 1, 1, 1, 1, 1, 1, 1, 1, 1, 1, 1, 1, 1, 1, 1, 1, 1, 1, 1, 1, 1, 1, 1, 1, 1, 1, 1, 1, 1, 1, 1, 1, 1, 1, 1, 1, 1, 1, 1, 1, 1, 1, 1, 1, 1, 1, 1, 1, 1, 1, 1, 1, 1, 1, 1, 1, 1, 1, 1, 1, 1, 1, 1, 1, 1, 1, 1, 1, 1, 1, 1, 1, 1, 1, 1, 1, 1, 1, 1, 1, 1, 1, 1, 1, 1, 1, 1, 1, 1, 1, 1, 1, 1, 1, 1, 1, 1, 1, 1, 1, 1, 1, 1, 1, 1, 1, 1, 1, 1, 1, 1, 1, 1, 1, 1, 1, 1, 1, 1, 1, 1, 1, 1, 1, 1, 1, 1, 1, 1, 1, 1, 1, 1, 1, 1, 1, 1, 1, 1, 1, 1, 1, 1, 1, 1, 1, 1, 1, 1, 1, 1, 1, 1, 1, 1, 1, 1, 1, 1, 1, 1, 1, 1, 1, 1, 1, 1, 1, 1, 1, 1, 1, 1, 1, 1, 1, 1, 1, 1, 1, 1, 1, 1, 1, 1, 1, 1, 1, 1, 1, 1, 1, 1, 1, 1, 1, 1, 1, 1, 1, 1, 1, 1, 1, 1, 1, 1, 1, 1, 1, 1, 1, 1, 1, 1, 1, 1, 1, 1, 1, 1, 1, 1, 1, 1, 1, 1, 1, 1, 1, 1, 1, 1, 1, 1, 1, 1, 1, 1, 1, 1, 1, 1, 1, 1, 1, 1, 1, 1, 1, 1, 1, 1, 1, 1, 1, 1, 1, 1, 1, 1, 1, 1, 1, 1, 1, 1, 1, 1, 1, 1, 1, 1, 1, 1, 1, 1, 1, 1, 1, 1, 1, 1, 1, 1, 1, 1, 1, 1, 1, 1, 1, 1, 1, 1, 1, 1, 1, 1, 1, 1, 1, 1, None]\n"
     ]
    }
   ],
   "source": [
    "sequence_ids = tokenized_example.sequence_ids()\n",
    "print(sequence_ids)"
   ]
  },
  {
   "cell_type": "code",
   "execution_count": 92,
   "metadata": {},
   "outputs": [
    {
     "name": "stdout",
     "output_type": "stream",
     "text": [
      "18 19\n"
     ]
    }
   ],
   "source": [
    "answers = example[\"answers\"]\n",
    "start_char = answers[\"answer_start\"][0]\n",
    "end_char = start_char + len(answers[\"text\"][0])\n",
    "\n",
    "# 当前span在文本中的起始标记索引。\n",
    "token_start_index = 0\n",
    "while sequence_ids[token_start_index] != 1:\n",
    "    token_start_index += 1\n",
    "\n",
    "# 当前span在文本中的结束标记索引。\n",
    "token_end_index = len(tokenized_example[\"input_ids\"][0]) - 1\n",
    "while sequence_ids[token_end_index] != 1:\n",
    "    token_end_index -= 1\n",
    "\n",
    "# 检测答案是否超出span范围（如果超出范围，该特征将以CLS标记索引标记）。\n",
    "offsets = tokenized_example[\"offset_mapping\"][0]\n",
    "if (offsets[token_start_index][0] <= start_char and offsets[token_end_index][1] >= end_char):\n",
    "    # 将token_start_index和token_end_index移动到答案的两端。\n",
    "    # 注意：如果答案是最后一个单词，我们可以移到最后一个标记之后（边界情况）。\n",
    "    while token_start_index < len(offsets) and offsets[token_start_index][0] <= start_char:\n",
    "        token_start_index += 1\n",
    "    start_position = token_start_index - 1\n",
    "    while offsets[token_end_index][1] >= end_char:\n",
    "        token_end_index -= 1\n",
    "    end_position = token_end_index + 1\n",
    "    print(start_position, end_position)\n",
    "else:\n",
    "    print(\"答案不在此特征中。\")\n"
   ]
  },
  {
   "cell_type": "markdown",
   "metadata": {},
   "source": [
    "打印检查是否准确找到了起始位置："
   ]
  },
  {
   "cell_type": "code",
   "execution_count": 93,
   "metadata": {},
   "outputs": [
    {
     "name": "stdout",
     "output_type": "stream",
     "text": [
      "jay z\n",
      "Jay Z\n"
     ]
    }
   ],
   "source": [
    "# 通过查找 offset mapping 位置，解码 context 中的答案 \n",
    "print(tokenizer.decode(tokenized_example[\"input_ids\"][0][start_position: end_position+1]))\n",
    "# 直接打印 数据集中的标准答案（answer[\"text\"])\n",
    "print(answers[\"text\"][0])"
   ]
  },
  {
   "cell_type": "markdown",
   "metadata": {},
   "source": [
    "#### 关于填充的策略\n",
    "\n",
    "- 对于没有超过最大长度的文本，填充补齐长度。\n",
    "- 对于需要左侧填充的模型，交换 question 和 context 顺序"
   ]
  },
  {
   "cell_type": "code",
   "execution_count": 29,
   "metadata": {},
   "outputs": [],
   "source": [
    "pad_on_right = tokenizer.padding_side == \"right\""
   ]
  },
  {
   "cell_type": "markdown",
   "metadata": {},
   "source": [
    "### 整合以上所有预处理步骤\n",
    "\n",
    "让我们将所有内容整合到一个函数中，并将其应用到训练集。\n",
    "\n",
    "针对不可回答的情况（上下文过长，答案在另一个特征中），我们为开始和结束位置都设置了cls索引。\n",
    "\n",
    "如果allow_impossible_answers标志为False，我们还可以简单地从训练集中丢弃这些示例。"
   ]
  },
  {
   "cell_type": "code",
   "execution_count": 31,
   "metadata": {},
   "outputs": [],
   "source": [
    "def prepare_train_features(examples):\n",
    "    # 一些问题的左侧可能有很多空白字符，这对我们没有用，而且会导致上下文的截断失败\n",
    "    # （标记化的问题将占用大量空间）。因此，我们删除左侧的空白字符。\n",
    "    examples[\"question\"] = [q.lstrip() for q in examples[\"question\"]]\n",
    "\n",
    "    # 使用截断和填充对我们的示例进行标记化，但保留溢出部分，使用步幅（stride）。\n",
    "    # 当上下文很长时，这会导致一个示例可能提供多个特征，其中每个特征的上下文都与前一个特征的上下文有一些重叠。\n",
    "    tokenized_examples = tokenizer(\n",
    "        examples[\"question\" if pad_on_right else \"context\"],\n",
    "        examples[\"context\" if pad_on_right else \"question\"],\n",
    "        truncation=\"only_second\" if pad_on_right else \"only_first\",\n",
    "        max_length=max_length,\n",
    "        stride=doc_stride,\n",
    "        return_overflowing_tokens=True,\n",
    "        return_offsets_mapping=True,\n",
    "        padding=\"max_length\",\n",
    "    )\n",
    "\n",
    "    # 由于一个示例可能给我们提供多个特征（如果它具有很长的上下文），我们需要一个从特征到其对应示例的映射。这个键就提供了这个映射关系。\n",
    "    sample_mapping = tokenized_examples.pop(\"overflow_to_sample_mapping\")\n",
    "    # 偏移映射将为我们提供从令牌到原始上下文中的字符位置的映射。这将帮助我们计算开始位置和结束位置。\n",
    "    offset_mapping = tokenized_examples.pop(\"offset_mapping\")\n",
    "\n",
    "    # 让我们为这些示例进行标记！\n",
    "    tokenized_examples[\"start_positions\"] = []\n",
    "    tokenized_examples[\"end_positions\"] = []\n",
    "\n",
    "    for i, offsets in enumerate(offset_mapping):\n",
    "        # 我们将使用 CLS 特殊 token 的索引来标记不可能的答案。\n",
    "        input_ids = tokenized_examples[\"input_ids\"][i]\n",
    "        cls_index = input_ids.index(tokenizer.cls_token_id)\n",
    "\n",
    "        # 获取与该示例对应的序列（以了解上下文和问题是什么）。\n",
    "        sequence_ids = tokenized_examples.sequence_ids(i)\n",
    "\n",
    "        # 一个示例可以提供多个跨度，这是包含此文本跨度的示例的索引。\n",
    "        sample_index = sample_mapping[i]\n",
    "        answers = examples[\"answers\"][sample_index]\n",
    "        # 如果没有给出答案，则将cls_index设置为答案。\n",
    "        if len(answers[\"answer_start\"]) == 0:\n",
    "            tokenized_examples[\"start_positions\"].append(cls_index)\n",
    "            tokenized_examples[\"end_positions\"].append(cls_index)\n",
    "        else:\n",
    "            # 答案在文本中的开始和结束字符索引。\n",
    "            start_char = answers[\"answer_start\"][0]\n",
    "            end_char = start_char + len(answers[\"text\"][0])\n",
    "\n",
    "            # 当前跨度在文本中的开始令牌索引。\n",
    "            token_start_index = 0\n",
    "            while sequence_ids[token_start_index] != (1 if pad_on_right else 0):\n",
    "                token_start_index += 1\n",
    "\n",
    "            # 当前跨度在文本中的结束令牌索引。\n",
    "            token_end_index = len(input_ids) - 1\n",
    "            while sequence_ids[token_end_index] != (1 if pad_on_right else 0):\n",
    "                token_end_index -= 1\n",
    "\n",
    "            # 检测答案是否超出跨度（在这种情况下，该特征的标签将使用CLS索引）。\n",
    "            if not (offsets[token_start_index][0] <= start_char and offsets[token_end_index][1] >= end_char):\n",
    "                tokenized_examples[\"start_positions\"].append(cls_index)\n",
    "                tokenized_examples[\"end_positions\"].append(cls_index)\n",
    "            else:\n",
    "                # 否则，将token_start_index和token_end_index移到答案的两端。\n",
    "                # 注意：如果答案是最后一个单词（边缘情况），我们可以在最后一个偏移之后继续。\n",
    "                while token_start_index < len(offsets) and offsets[token_start_index][0] <= start_char:\n",
    "                    token_start_index += 1\n",
    "                tokenized_examples[\"start_positions\"].append(token_start_index - 1)\n",
    "                while offsets[token_end_index][1] >= end_char:\n",
    "                    token_end_index -= 1\n",
    "                tokenized_examples[\"end_positions\"].append(token_end_index + 1)\n",
    "\n",
    "    return tokenized_examples"
   ]
  },
  {
   "cell_type": "markdown",
   "metadata": {
    "id": "zS-6iXTkIrJT"
   },
   "source": [
    "#### datasets.map 的进阶使用\n",
    "\n",
    "使用 `datasets.map` 方法将 `prepare_train_features` 应用于所有训练、验证和测试数据：\n",
    "\n",
    "- batched: 批量处理数据。\n",
    "- remove_columns: 因为预处理更改了样本的数量，所以在应用它时需要删除旧列。\n",
    "- load_from_cache_file：是否使用datasets库的自动缓存\n",
    "\n",
    "datasets 库针对大规模数据，实现了高效缓存机制，能够自动检测传递给 map 的函数是否已更改（因此需要不使用缓存数据）。如果在调用 map 时设置 `load_from_cache_file=False`，可以强制重新应用预处理。"
   ]
  },
  {
   "cell_type": "code",
   "execution_count": 32,
   "metadata": {
    "id": "DDtsaJeVIrJT",
    "outputId": "aa4734bf-4ef5-4437-9948-2c16363da719"
   },
   "outputs": [
    {
     "data": {
      "application/vnd.jupyter.widget-view+json": {
       "model_id": "fa7014558b1240b3a16d6ea754784757",
       "version_major": 2,
       "version_minor": 0
      },
      "text/plain": [
       "Map:   0%|          | 0/87599 [00:00<?, ? examples/s]"
      ]
     },
     "metadata": {},
     "output_type": "display_data"
    },
    {
     "data": {
      "application/vnd.jupyter.widget-view+json": {
       "model_id": "11ba79be8af24e7fa52073b44a58b275",
       "version_major": 2,
       "version_minor": 0
      },
      "text/plain": [
       "Map:   0%|          | 0/10570 [00:00<?, ? examples/s]"
      ]
     },
     "metadata": {},
     "output_type": "display_data"
    }
   ],
   "source": [
    "tokenized_datasets = datasets.map(prepare_train_features,\n",
    "                                  batched=True,\n",
    "                                  remove_columns=datasets[\"train\"].column_names)"
   ]
  },
  {
   "cell_type": "markdown",
   "metadata": {
    "id": "545PP3o8IrJV"
   },
   "source": [
    "## 微调模型"
   ]
  },
  {
   "cell_type": "markdown",
   "metadata": {
    "id": "FBiW8UpKIrJW"
   },
   "source": [
    "现在我们的数据已经准备好用于训练，我们可以下载预训练模型并进行微调。\n",
    "\n",
    "由于我们的任务是问答，我们使用 `AutoModelForQuestionAnswering` 类。(对比 Yelp 评论打分使用的是 `AutoModelForSequenceClassification` 类）\n",
    "\n",
    "警告通知我们正在丢弃一些权重（`vocab_transform` 和 `vocab_layer_norm` 层），并随机初始化其他一些权重（`pre_classifier` 和 `classifier` 层）。在微调模型情况下是绝对正常的，因为我们正在删除用于预训练模型的掩码语言建模任务的头部，并用一个新的头部替换它，对于这个新头部，我们没有预训练的权重，所以库会警告我们在用它进行推理之前应该对这个模型进行微调，而这正是我们要做的事情。"
   ]
  },
  {
   "cell_type": "code",
   "execution_count": 33,
   "metadata": {
    "id": "TlqNaB8jIrJW",
    "outputId": "84916cf3-6e6c-47f3-d081-032ec30a4132"
   },
   "outputs": [
    {
     "name": "stderr",
     "output_type": "stream",
     "text": [
      "Some weights of DistilBertForQuestionAnswering were not initialized from the model checkpoint at distilbert-base-uncased and are newly initialized: ['qa_outputs.weight', 'qa_outputs.bias']\n",
      "You should probably TRAIN this model on a down-stream task to be able to use it for predictions and inference.\n"
     ]
    }
   ],
   "source": [
    "from transformers import AutoModelForQuestionAnswering, TrainingArguments, Trainer\n",
    "\n",
    "model = AutoModelForQuestionAnswering.from_pretrained(model_checkpoint)"
   ]
  },
  {
   "cell_type": "markdown",
   "metadata": {
    "id": "_N8urzhyIrJY"
   },
   "source": [
    "#### 训练超参数（TrainingArguments）"
   ]
  },
  {
   "cell_type": "code",
   "execution_count": 34,
   "metadata": {
    "id": "Bliy8zgjIrJY"
   },
   "outputs": [],
   "source": [
    "batch_size=64\n",
    "model_dir = f\"models/{model_checkpoint}-finetuned-squad\"\n",
    "\n",
    "args = TrainingArguments(\n",
    "    output_dir=model_dir,\n",
    "    evaluation_strategy = \"epoch\",\n",
    "    learning_rate=2e-5,\n",
    "    per_device_train_batch_size=batch_size,\n",
    "    per_device_eval_batch_size=batch_size,\n",
    "    num_train_epochs=3,\n",
    "    weight_decay=0.01,\n",
    ")"
   ]
  },
  {
   "cell_type": "markdown",
   "metadata": {},
   "source": [
    "#### Data Collator（数据整理器）\n",
    "\n",
    "数据整理器将训练数据整理为批次数据，用于模型训练时的批次处理。本教程使用默认的 `default_data_collator`。\n"
   ]
  },
  {
   "cell_type": "code",
   "execution_count": 35,
   "metadata": {},
   "outputs": [],
   "source": [
    "from transformers import default_data_collator\n",
    "\n",
    "data_collator = default_data_collator"
   ]
  },
  {
   "cell_type": "markdown",
   "metadata": {
    "id": "rXuFTAzDIrJe"
   },
   "source": [
    "### 实例化训练器（Trainer）\n",
    "\n",
    "为了减少训练时间（需要大量算力支持），我们不在本教程的训练模型过程中计算模型评估指标。\n",
    "\n",
    "而是训练完成后，再独立进行模型评估。"
   ]
  },
  {
   "cell_type": "code",
   "execution_count": 36,
   "metadata": {
    "id": "imY1oC3SIrJf"
   },
   "outputs": [
    {
     "name": "stderr",
     "output_type": "stream",
     "text": [
      "Detected kernel version 4.4.0, which is below the recommended minimum of 5.5.0; this can cause the process to hang. It is recommended to upgrade the kernel to the minimum version or higher.\n"
     ]
    }
   ],
   "source": [
    "trainer = Trainer(\n",
    "    model,\n",
    "    args,\n",
    "    train_dataset=tokenized_datasets[\"train\"],\n",
    "    eval_dataset=tokenized_datasets[\"validation\"],\n",
    "    data_collator=data_collator,\n",
    "    tokenizer=tokenizer,\n",
    ")"
   ]
  },
  {
   "cell_type": "markdown",
   "metadata": {},
   "source": [
    "#### GPU 使用情况\n",
    "\n",
    "训练数据与模型配置：\n",
    "\n",
    "- SQUAD v1.1\n",
    "- model_checkpoint = \"distilbert-base-uncased\"\n",
    "- batch_size = 64\n",
    "\n",
    "NVIDIA GPU 使用情况：\n",
    "\n",
    "```shell\n",
    "Every 1.0s: nvidia-smi                                                   Wed Dec 20 15:39:57 2023\n",
    "\n",
    "Wed Dec 20 15:39:57 2023\n",
    "+---------------------------------------------------------------------------------------+\n",
    "| NVIDIA-SMI 535.129.03             Driver Version: 535.129.03   CUDA Version: 12.2     |\n",
    "|-----------------------------------------+----------------------+----------------------+\n",
    "| GPU  Name                 Persistence-M | Bus-Id        Disp.A | Volatile Uncorr. ECC |\n",
    "| Fan  Temp   Perf          Pwr:Usage/Cap |         Memory-Usage | GPU-Util  Compute M. |\n",
    "|                                         |                      |               MIG M. |\n",
    "|=========================================+======================+======================|\n",
    "|   0  Tesla T4                       Off | 00000000:00:0D.0 Off |                    0 |\n",
    "| N/A   67C    P0              67W /  70W |  14617MiB / 15360MiB |    100%      Default |\n",
    "|                                         |                      |                  N/A |\n",
    "+-----------------------------------------+----------------------+----------------------+\n",
    "\n",
    "+---------------------------------------------------------------------------------------+\n",
    "| Processes:                                                                            |\n",
    "|  GPU   GI   CI        PID   Type   Process name                            GPU Memory |\n",
    "|        ID   ID                                                             Usage      |\n",
    "|=======================================================================================|\n",
    "|    0   N/A  N/A     16384      C   /root/miniconda3/bin/python               14612MiB |\n",
    "+---------------------------------------------------------------------------------------+\n",
    "```"
   ]
  },
  {
   "cell_type": "code",
   "execution_count": 37,
   "metadata": {
    "id": "uNx5pyRlIrJh",
    "outputId": "077e661e-d36c-469b-89b8-7ff7f73541ec"
   },
   "outputs": [
    {
     "data": {
      "text/html": [
       "\n",
       "    <div>\n",
       "      \n",
       "      <progress value='4152' max='4152' style='width:300px; height:20px; vertical-align: middle;'></progress>\n",
       "      [4152/4152 2:23:19, Epoch 3/3]\n",
       "    </div>\n",
       "    <table border=\"1\" class=\"dataframe\">\n",
       "  <thead>\n",
       " <tr style=\"text-align: left;\">\n",
       "      <th>Epoch</th>\n",
       "      <th>Training Loss</th>\n",
       "      <th>Validation Loss</th>\n",
       "    </tr>\n",
       "  </thead>\n",
       "  <tbody>\n",
       "    <tr>\n",
       "      <td>1</td>\n",
       "      <td>1.491100</td>\n",
       "      <td>1.249441</td>\n",
       "    </tr>\n",
       "    <tr>\n",
       "      <td>2</td>\n",
       "      <td>1.108800</td>\n",
       "      <td>1.161671</td>\n",
       "    </tr>\n",
       "    <tr>\n",
       "      <td>3</td>\n",
       "      <td>0.975700</td>\n",
       "      <td>1.158766</td>\n",
       "    </tr>\n",
       "  </tbody>\n",
       "</table><p>"
      ],
      "text/plain": [
       "<IPython.core.display.HTML object>"
      ]
     },
     "metadata": {},
     "output_type": "display_data"
    },
    {
     "name": "stderr",
     "output_type": "stream",
     "text": [
      "Checkpoint destination directory models/distilbert-base-uncased-finetuned-squad/checkpoint-500 already exists and is non-empty.Saving will proceed but saved results may be invalid.\n",
      "Checkpoint destination directory models/distilbert-base-uncased-finetuned-squad/checkpoint-1000 already exists and is non-empty.Saving will proceed but saved results may be invalid.\n",
      "Checkpoint destination directory models/distilbert-base-uncased-finetuned-squad/checkpoint-1500 already exists and is non-empty.Saving will proceed but saved results may be invalid.\n",
      "Checkpoint destination directory models/distilbert-base-uncased-finetuned-squad/checkpoint-2000 already exists and is non-empty.Saving will proceed but saved results may be invalid.\n",
      "Checkpoint destination directory models/distilbert-base-uncased-finetuned-squad/checkpoint-2500 already exists and is non-empty.Saving will proceed but saved results may be invalid.\n",
      "Checkpoint destination directory models/distilbert-base-uncased-finetuned-squad/checkpoint-3000 already exists and is non-empty.Saving will proceed but saved results may be invalid.\n",
      "Checkpoint destination directory models/distilbert-base-uncased-finetuned-squad/checkpoint-3500 already exists and is non-empty.Saving will proceed but saved results may be invalid.\n",
      "Checkpoint destination directory models/distilbert-base-uncased-finetuned-squad/checkpoint-4000 already exists and is non-empty.Saving will proceed but saved results may be invalid.\n"
     ]
    },
    {
     "data": {
      "text/plain": [
       "TrainOutput(global_step=4152, training_loss=1.3038662743246854, metrics={'train_runtime': 8602.4737, 'train_samples_per_second': 30.872, 'train_steps_per_second': 0.483, 'total_flos': 2.602335381127373e+16, 'train_loss': 1.3038662743246854, 'epoch': 3.0})"
      ]
     },
     "execution_count": 37,
     "metadata": {},
     "output_type": "execute_result"
    }
   ],
   "source": [
    "trainer.train()"
   ]
  },
  {
   "cell_type": "markdown",
   "metadata": {},
   "source": [
    "### 训练完成后，第一时间保存模型权重文件。"
   ]
  },
  {
   "cell_type": "code",
   "execution_count": 38,
   "metadata": {},
   "outputs": [],
   "source": [
    "model_to_save = trainer.save_model(model_dir)"
   ]
  },
  {
   "cell_type": "markdown",
   "metadata": {},
   "source": [
    "## 模型评估"
   ]
  },
  {
   "cell_type": "markdown",
   "metadata": {},
   "source": [
    "**评估模型输出需要一些额外的处理：将模型的预测映射回上下文的部分。**\n",
    "\n",
    "模型直接输出的是预测答案的`起始位置`和`结束位置`的**logits**"
   ]
  },
  {
   "cell_type": "code",
   "execution_count": 39,
   "metadata": {},
   "outputs": [
    {
     "data": {
      "text/plain": [
       "odict_keys(['loss', 'start_logits', 'end_logits'])"
      ]
     },
     "execution_count": 39,
     "metadata": {},
     "output_type": "execute_result"
    }
   ],
   "source": [
    "import torch\n",
    "\n",
    "for batch in trainer.get_eval_dataloader():\n",
    "    break\n",
    "batch = {k: v.to(trainer.args.device) for k, v in batch.items()}\n",
    "with torch.no_grad():\n",
    "    output = trainer.model(**batch)\n",
    "output.keys()"
   ]
  },
  {
   "cell_type": "markdown",
   "metadata": {},
   "source": [
    "模型的输出是一个类似字典的对象，其中包含损失（因为我们提供了标签），以及起始和结束logits。我们不需要损失来进行预测，让我们看一下logits："
   ]
  },
  {
   "cell_type": "code",
   "execution_count": 40,
   "metadata": {},
   "outputs": [
    {
     "data": {
      "text/plain": [
       "(torch.Size([64, 384]), torch.Size([64, 384]))"
      ]
     },
     "execution_count": 40,
     "metadata": {},
     "output_type": "execute_result"
    }
   ],
   "source": [
    "output.start_logits.shape, output.end_logits.shape"
   ]
  },
  {
   "cell_type": "code",
   "execution_count": 41,
   "metadata": {},
   "outputs": [
    {
     "data": {
      "text/plain": [
       "(tensor([ 46,  57,  78,  43, 118, 108,  72,  35, 108,  34,  73,  41,  80,  91,\n",
       "         156,  35,  83,  91,  80,  58,  77,  31,  42,  53,  41,  35,  42,  77,\n",
       "          11,  44,  27, 133,  66,  40,  87,  44,  43,  41, 127,  26,  28,  33,\n",
       "          87, 127,  95,  25,  43, 132,  42,  29,  44,  46,  24,  44,  65,  58,\n",
       "          81,  14,  59,  72,  25,  36,  57,  43], device='cuda:0'),\n",
       " tensor([ 47,  58,  81,  44, 118, 109,  75,  37, 109,  36,  76,  42,  83,  94,\n",
       "         158,  35,  83,  94,  83,  60,  80,  31,  43,  54,  42,  35,  43,  80,\n",
       "          13,  45,  28, 133,  66,  41,  89,  45,  44,  42, 127,  27,  30,  34,\n",
       "          32, 127,  97,  26,  44, 132,  43,  30,  45,  47,  25,  45,  65,  59,\n",
       "          81,  14,  60,  72,  25,  36,  58,  43], device='cuda:0'))"
      ]
     },
     "execution_count": 41,
     "metadata": {},
     "output_type": "execute_result"
    }
   ],
   "source": [
    "output.start_logits.argmax(dim=-1), output.end_logits.argmax(dim=-1)"
   ]
  },
  {
   "cell_type": "markdown",
   "metadata": {},
   "source": [
    "#### 如何从模型输出的位置 logit 组合成答案\n",
    "\n",
    "我们有每个特征和每个标记的logit。在每个特征中为每个标记预测答案最明显的方法是，将起始logits的最大索引作为起始位置，将结束logits的最大索引作为结束位置。\n",
    "\n",
    "在许多情况下这种方式效果很好，但是如果此预测给出了不可能的结果该怎么办？比如：起始位置可能大于结束位置，或者指向问题中的文本片段而不是答案。在这种情况下，我们可能希望查看第二好的预测，看它是否给出了一个可能的答案，并选择它。\n",
    "\n",
    "选择第二好的答案并不像选择最佳答案那么容易：\n",
    "- 它是起始logits中第二佳索引与结束logits中最佳索引吗？\n",
    "- 还是起始logits中最佳索引与结束logits中第二佳索引？\n",
    "- 如果第二好的答案也不可能，那么对于第三好的答案，情况会更加棘手。\n",
    "\n",
    "为了对答案进行分类，\n",
    "1. 将使用通过添加起始和结束logits获得的分数\n",
    "1. 设计一个名为`n_best_size`的超参数，限制不对所有可能的答案进行排序。\n",
    "1. 我们将选择起始和结束logits中的最佳索引，并收集这些预测的所有答案。\n",
    "1. 在检查每一个是否有效后，我们将按照其分数对它们进行排序，并保留最佳的答案。\n",
    "\n",
    "以下是我们如何在批次中的第一个特征上执行此操作的示例："
   ]
  },
  {
   "cell_type": "code",
   "execution_count": 42,
   "metadata": {},
   "outputs": [],
   "source": [
    "n_best_size = 20"
   ]
  },
  {
   "cell_type": "code",
   "execution_count": 43,
   "metadata": {},
   "outputs": [],
   "source": [
    "import numpy as np\n",
    "\n",
    "start_logits = output.start_logits[0].cpu().numpy()\n",
    "end_logits = output.end_logits[0].cpu().numpy()\n",
    "\n",
    "# 获取最佳的起始和结束位置的索引：\n",
    "start_indexes = np.argsort(start_logits)[-1 : -n_best_size - 1 : -1].tolist()\n",
    "end_indexes = np.argsort(end_logits)[-1 : -n_best_size - 1 : -1].tolist()\n",
    "\n",
    "valid_answers = []\n",
    "\n",
    "# 遍历起始位置和结束位置的索引组合\n",
    "for start_index in start_indexes:\n",
    "    for end_index in end_indexes:\n",
    "        if start_index <= end_index:  # 需要进一步测试以检查答案是否在上下文中\n",
    "            valid_answers.append(\n",
    "                {\n",
    "                    \"score\": start_logits[start_index] + end_logits[end_index],\n",
    "                    \"text\": \"\"  # 我们需要找到一种方法来获取与上下文中答案对应的原始子字符串\n",
    "                }\n",
    "            )\n"
   ]
  },
  {
   "cell_type": "markdown",
   "metadata": {},
   "source": [
    "\n",
    "然后，我们可以根据它们的得分对`valid_answers`进行排序，并仅保留最佳答案。唯一剩下的问题是如何检查给定的跨度是否在上下文中（而不是问题中），以及如何获取其中的文本。为此，我们需要向我们的验证特征添加两个内容：\n",
    "\n",
    "- 生成该特征的示例的ID（因为每个示例可以生成多个特征，如前所示）；\n",
    "- 偏移映射，它将为我们提供从标记索引到上下文中字符位置的映射。\n",
    "\n",
    "这就是为什么我们将使用以下函数稍微不同于`prepare_train_features`来重新处理验证集："
   ]
  },
  {
   "cell_type": "code",
   "execution_count": 44,
   "metadata": {},
   "outputs": [],
   "source": [
    "def prepare_validation_features(examples):\n",
    "    # 一些问题的左侧有很多空白，这些空白并不有用且会导致上下文截断失败（分词后的问题会占用很多空间）。\n",
    "    # 因此我们移除这些左侧空白\n",
    "    examples[\"question\"] = [q.lstrip() for q in examples[\"question\"]]\n",
    "\n",
    "    # 使用截断和可能的填充对我们的示例进行分词，但使用步长保留溢出的令牌。这导致一个长上下文的示例可能产生\n",
    "    # 几个特征，每个特征的上下文都会稍微与前一个特征的上下文重叠。\n",
    "    tokenized_examples = tokenizer(\n",
    "        examples[\"question\" if pad_on_right else \"context\"],\n",
    "        examples[\"context\" if pad_on_right else \"question\"],\n",
    "        truncation=\"only_second\" if pad_on_right else \"only_first\",\n",
    "        max_length=max_length,\n",
    "        stride=doc_stride,\n",
    "        return_overflowing_tokens=True,\n",
    "        return_offsets_mapping=True,\n",
    "        padding=\"max_length\",\n",
    "    )\n",
    "\n",
    "    # 由于一个示例在上下文很长时可能会产生几个特征，我们需要一个从特征映射到其对应示例的映射。这个键就是为了这个目的。\n",
    "    sample_mapping = tokenized_examples.pop(\"overflow_to_sample_mapping\")\n",
    "\n",
    "    # 我们保留产生这个特征的示例ID，并且会存储偏移映射。\n",
    "    tokenized_examples[\"example_id\"] = []\n",
    "\n",
    "    for i in range(len(tokenized_examples[\"input_ids\"])):\n",
    "        # 获取与该示例对应的序列（以了解哪些是上下文，哪些是问题）。\n",
    "        sequence_ids = tokenized_examples.sequence_ids(i)\n",
    "        context_index = 1 if pad_on_right else 0\n",
    "\n",
    "        # 一个示例可以产生几个文本段，这里是包含该文本段的示例的索引。\n",
    "        sample_index = sample_mapping[i]\n",
    "        tokenized_examples[\"example_id\"].append(examples[\"id\"][sample_index])\n",
    "\n",
    "        # 将不属于上下文的偏移映射设置为None，以便容易确定一个令牌位置是否属于上下文。\n",
    "        tokenized_examples[\"offset_mapping\"][i] = [\n",
    "            (o if sequence_ids[k] == context_index else None)\n",
    "            for k, o in enumerate(tokenized_examples[\"offset_mapping\"][i])\n",
    "        ]\n",
    "\n",
    "    return tokenized_examples\n"
   ]
  },
  {
   "cell_type": "markdown",
   "metadata": {},
   "source": [
    "将`prepare_validation_features`应用到整个验证集："
   ]
  },
  {
   "cell_type": "code",
   "execution_count": 45,
   "metadata": {},
   "outputs": [
    {
     "data": {
      "application/vnd.jupyter.widget-view+json": {
       "model_id": "9dbc85bdcee9457891a7cc94d54fcd8e",
       "version_major": 2,
       "version_minor": 0
      },
      "text/plain": [
       "Map:   0%|          | 0/10570 [00:00<?, ? examples/s]"
      ]
     },
     "metadata": {},
     "output_type": "display_data"
    }
   ],
   "source": [
    "validation_features = datasets[\"validation\"].map(\n",
    "    prepare_validation_features,\n",
    "    batched=True,\n",
    "    remove_columns=datasets[\"validation\"].column_names\n",
    ")"
   ]
  },
  {
   "cell_type": "markdown",
   "metadata": {},
   "source": [
    "Now we can grab the predictions for all features by using the `Trainer.predict` method:"
   ]
  },
  {
   "cell_type": "code",
   "execution_count": 46,
   "metadata": {},
   "outputs": [
    {
     "data": {
      "text/html": [],
      "text/plain": [
       "<IPython.core.display.HTML object>"
      ]
     },
     "metadata": {},
     "output_type": "display_data"
    }
   ],
   "source": [
    "raw_predictions = trainer.predict(validation_features)"
   ]
  },
  {
   "cell_type": "markdown",
   "metadata": {},
   "source": [
    "`Trainer`会隐藏模型不使用的列（在这里是`example_id`和`offset_mapping`，我们需要它们进行后处理），所以我们需要将它们重新设置回来："
   ]
  },
  {
   "cell_type": "code",
   "execution_count": 47,
   "metadata": {},
   "outputs": [],
   "source": [
    "validation_features.set_format(type=validation_features.format[\"type\"], columns=list(validation_features.features.keys()))"
   ]
  },
  {
   "cell_type": "markdown",
   "metadata": {},
   "source": [
    "现在，我们可以改进之前的测试：\n",
    "\n",
    "由于在偏移映射中，当它对应于问题的一部分时，我们将其设置为None，因此可以轻松检查答案是否完全在上下文中。我们还可以从考虑中排除非常长的答案（可以调整的超参数）。\n",
    "\n",
    "展开说下具体实现：\n",
    "- 首先从模型输出中获取起始和结束的逻辑值（logits），这些值表明答案在文本中可能开始和结束的位置。\n",
    "- 然后，它使用偏移映射（offset_mapping）来找到这些逻辑值在原始文本中的具体位置。\n",
    "- 接下来，代码遍历可能的开始和结束索引组合，排除那些不在上下文范围内或长度不合适的答案。\n",
    "- 对于有效的答案，它计算出一个分数（基于开始和结束逻辑值的和），并将答案及其分数存储起来。\n",
    "- 最后，它根据分数对答案进行排序，并返回得分最高的几个答案。"
   ]
  },
  {
   "cell_type": "code",
   "execution_count": 48,
   "metadata": {},
   "outputs": [],
   "source": [
    "max_answer_length = 30"
   ]
  },
  {
   "cell_type": "code",
   "execution_count": 49,
   "metadata": {},
   "outputs": [
    {
     "data": {
      "text/plain": [
       "[{'score': 15.986347, 'text': 'Denver Broncos'},\n",
       " {'score': 14.585561,\n",
       "  'text': 'Denver Broncos defeated the National Football Conference (NFC) champion Carolina Panthers'},\n",
       " {'score': 13.152991, 'text': 'Carolina Panthers'},\n",
       " {'score': 12.38233, 'text': 'Broncos'},\n",
       " {'score': 10.981544,\n",
       "  'text': 'Broncos defeated the National Football Conference (NFC) champion Carolina Panthers'},\n",
       " {'score': 10.852013,\n",
       "  'text': 'American Football Conference (AFC) champion Denver Broncos'},\n",
       " {'score': 10.635618,\n",
       "  'text': 'The American Football Conference (AFC) champion Denver Broncos'},\n",
       " {'score': 10.283654, 'text': 'Denver'},\n",
       " {'score': 9.451225,\n",
       "  'text': 'American Football Conference (AFC) champion Denver Broncos defeated the National Football Conference (NFC) champion Carolina Panthers'},\n",
       " {'score': 9.234833,\n",
       "  'text': 'The American Football Conference (AFC) champion Denver Broncos defeated the National Football Conference (NFC) champion Carolina Panthers'},\n",
       " {'score': 8.7582445,\n",
       "  'text': 'Denver Broncos defeated the National Football Conference'},\n",
       " {'score': 8.187819,\n",
       "  'text': 'Denver Broncos defeated the National Football Conference (NFC) champion Carolina'},\n",
       " {'score': 8.134832, 'text': 'Panthers'},\n",
       " {'score': 8.092252,\n",
       "  'text': 'Denver Broncos defeated the National Football Conference (NFC)'},\n",
       " {'score': 7.7162285,\n",
       "  'text': 'the National Football Conference (NFC) champion Carolina Panthers'},\n",
       " {'score': 7.595868,\n",
       "  'text': 'Denver Broncos defeated the National Football Conference (NFC) champion Carolina Panthers 24–10'},\n",
       " {'score': 7.382572,\n",
       "  'text': 'National Football Conference (NFC) champion Carolina Panthers'},\n",
       " {'score': 7.320059,\n",
       "  'text': 'Denver Broncos defeated the National Football Conference (NFC'},\n",
       " {'score': 6.755249, 'text': 'Carolina'},\n",
       " {'score': 6.728976, 'text': 'champion Denver Broncos'}]"
      ]
     },
     "execution_count": 49,
     "metadata": {},
     "output_type": "execute_result"
    }
   ],
   "source": [
    "start_logits = output.start_logits[0].cpu().numpy()\n",
    "end_logits = output.end_logits[0].cpu().numpy()\n",
    "offset_mapping = validation_features[0][\"offset_mapping\"]\n",
    "\n",
    "# 第一个特征来自第一个示例。对于更一般的情况，我们需要将example_id匹配到一个示例索引\n",
    "context = datasets[\"validation\"][0][\"context\"]\n",
    "\n",
    "# 收集最佳开始/结束逻辑的索引：\n",
    "start_indexes = np.argsort(start_logits)[-1 : -n_best_size - 1 : -1].tolist()\n",
    "end_indexes = np.argsort(end_logits)[-1 : -n_best_size - 1 : -1].tolist()\n",
    "valid_answers = []\n",
    "for start_index in start_indexes:\n",
    "    for end_index in end_indexes:\n",
    "        # 不考虑超出范围的答案，原因是索引超出范围或对应于输入ID的部分不在上下文中。\n",
    "        if (\n",
    "            start_index >= len(offset_mapping)\n",
    "            or end_index >= len(offset_mapping)\n",
    "            or offset_mapping[start_index] is None\n",
    "            or offset_mapping[end_index] is None\n",
    "        ):\n",
    "            continue\n",
    "        # 不考虑长度小于0或大于max_answer_length的答案。\n",
    "        if end_index < start_index or end_index - start_index + 1 > max_answer_length:\n",
    "            continue\n",
    "        if start_index <= end_index: # 我们需要细化这个测试，以检查答案是否在上下文中\n",
    "            start_char = offset_mapping[start_index][0]\n",
    "            end_char = offset_mapping[end_index][1]\n",
    "            valid_answers.append(\n",
    "                {\n",
    "                    \"score\": start_logits[start_index] + end_logits[end_index],\n",
    "                    \"text\": context[start_char: end_char]\n",
    "                }\n",
    "            )\n",
    "\n",
    "valid_answers = sorted(valid_answers, key=lambda x: x[\"score\"], reverse=True)[:n_best_size]\n",
    "valid_answers\n"
   ]
  },
  {
   "cell_type": "markdown",
   "metadata": {},
   "source": [
    "打印比较模型输出和标准答案（Ground-truth）是否一致:"
   ]
  },
  {
   "cell_type": "code",
   "execution_count": 50,
   "metadata": {},
   "outputs": [
    {
     "data": {
      "text/plain": [
       "{'text': ['Denver Broncos', 'Denver Broncos', 'Denver Broncos'],\n",
       " 'answer_start': [177, 177, 177]}"
      ]
     },
     "execution_count": 50,
     "metadata": {},
     "output_type": "execute_result"
    }
   ],
   "source": [
    "datasets[\"validation\"][0][\"answers\"]"
   ]
  },
  {
   "cell_type": "markdown",
   "metadata": {},
   "source": [
    "**模型最高概率的输出与标准答案一致**\n",
    "\n",
    "正如上面的代码所示，这在第一个特征上很容易，因为我们知道它来自第一个示例。\n",
    "\n",
    "对于其他特征，我们需要建立一个示例与其对应特征的映射关系。\n",
    "\n",
    "此外，由于一个示例可以生成多个特征，我们需要将由给定示例生成的所有特征中的所有答案汇集在一起，然后选择最佳答案。\n",
    "\n",
    "下面的代码构建了一个示例索引到其对应特征索引的映射关系："
   ]
  },
  {
   "cell_type": "code",
   "execution_count": 51,
   "metadata": {},
   "outputs": [],
   "source": [
    "import collections\n",
    "\n",
    "examples = datasets[\"validation\"]\n",
    "features = validation_features\n",
    "\n",
    "example_id_to_index = {k: i for i, k in enumerate(examples[\"id\"])}\n",
    "features_per_example = collections.defaultdict(list)\n",
    "for i, feature in enumerate(features):\n",
    "    features_per_example[example_id_to_index[feature[\"example_id\"]]].append(i)"
   ]
  },
  {
   "cell_type": "markdown",
   "metadata": {},
   "source": [
    "当`squad_v2 = True`时，有一定概率出现不可能的答案（impossible answer)。\n",
    "\n",
    "上面的代码仅保留在上下文中的答案，我们还需要获取不可能答案的分数（其起始和结束索引对应于CLS标记的索引）。\n",
    "\n",
    "当一个示例生成多个特征时，我们必须在所有特征中的不可能答案都预测出现不可能答案时（因为一个特征可能之所以能够预测出不可能答案，是因为答案不在它可以访问的上下文部分），这就是为什么一个示例中不可能答案的分数是该示例生成的每个特征中的不可能答案的分数的最小值。"
   ]
  },
  {
   "cell_type": "code",
   "execution_count": 52,
   "metadata": {},
   "outputs": [],
   "source": [
    "from tqdm.auto import tqdm\n",
    "\n",
    "def postprocess_qa_predictions(examples, features, raw_predictions, n_best_size = 20, max_answer_length = 30):\n",
    "    all_start_logits, all_end_logits = raw_predictions\n",
    "    # 构建一个从示例到其对应特征的映射。\n",
    "    example_id_to_index = {k: i for i, k in enumerate(examples[\"id\"])}\n",
    "    features_per_example = collections.defaultdict(list)\n",
    "    for i, feature in enumerate(features):\n",
    "        features_per_example[example_id_to_index[feature[\"example_id\"]]].append(i)\n",
    "\n",
    "    # 我们需要填充的字典。\n",
    "    predictions = collections.OrderedDict()\n",
    "\n",
    "    # 日志记录。\n",
    "    print(f\"正在后处理 {len(examples)} 个示例的预测，这些预测分散在 {len(features)} 个特征中。\")\n",
    "\n",
    "    # 遍历所有示例！\n",
    "    for example_index, example in enumerate(tqdm(examples)):\n",
    "        # 这些是与当前示例关联的特征的索引。\n",
    "        feature_indices = features_per_example[example_index]\n",
    "\n",
    "        min_null_score = None # 仅在squad_v2为True时使用。\n",
    "        valid_answers = []\n",
    "        \n",
    "        context = example[\"context\"]\n",
    "        # 遍历与当前示例关联的所有特征。\n",
    "        for feature_index in feature_indices:\n",
    "            # 我们获取模型对这个特征的预测。\n",
    "            start_logits = all_start_logits[feature_index]\n",
    "            end_logits = all_end_logits[feature_index]\n",
    "            # 这将允许我们将logits中的某些位置映射到原始上下文中的文本跨度。\n",
    "            offset_mapping = features[feature_index][\"offset_mapping\"]\n",
    "\n",
    "            # 更新最小空预测。\n",
    "            cls_index = features[feature_index][\"input_ids\"].index(tokenizer.cls_token_id)\n",
    "            feature_null_score = start_logits[cls_index] + end_logits[cls_index]\n",
    "            if min_null_score is None or min_null_score < feature_null_score:\n",
    "                min_null_score = feature_null_score\n",
    "\n",
    "            # 浏览所有的最佳开始和结束logits，为 `n_best_size` 个最佳选择。\n",
    "            start_indexes = np.argsort(start_logits)[-1 : -n_best_size - 1 : -1].tolist()\n",
    "            end_indexes = np.argsort(end_logits)[-1 : -n_best_size - 1 : -1].tolist()\n",
    "            for start_index in start_indexes:\n",
    "                for end_index in end_indexes:\n",
    "                    # 不考虑超出范围的答案，原因是索引超出范围或对应于输入ID的部分不在上下文中。\n",
    "                    if (\n",
    "                        start_index >= len(offset_mapping)\n",
    "                        or end_index >= len(offset_mapping)\n",
    "                        or offset_mapping[start_index] is None\n",
    "                        or offset_mapping[end_index] is None\n",
    "                    ):\n",
    "                        continue\n",
    "                    # 不考虑长度小于0或大于max_answer_length的答案。\n",
    "                    if end_index < start_index or end_index - start_index + 1 > max_answer_length:\n",
    "                        continue\n",
    "\n",
    "                    start_char = offset_mapping[start_index][0]\n",
    "                    end_char = offset_mapping[end_index][1]\n",
    "                    valid_answers.append(\n",
    "                        {\n",
    "                            \"score\": start_logits[start_index] + end_logits[end_index],\n",
    "                            \"text\": context[start_char: end_char]\n",
    "                        }\n",
    "                    )\n",
    "        \n",
    "        if len(valid_answers) > 0:\n",
    "            best_answer = sorted(valid_answers, key=lambda x: x[\"score\"], reverse=True)[0]\n",
    "        else:\n",
    "            # 在极少数情况下我们没有一个非空预测，我们创建一个假预测以避免失败。\n",
    "            best_answer = {\"text\": \"\", \"score\": 0.0}\n",
    "        \n",
    "        # 选择我们的最终答案：最佳答案或空答案（仅适用于squad_v2）\n",
    "        if not squad_v2:\n",
    "            predictions[example[\"id\"]] = best_answer[\"text\"]\n",
    "        else:\n",
    "            answer = best_answer[\"text\"] if best_answer[\"score\"] > min_null_score else \"\"\n",
    "            predictions[example[\"id\"]] = answer\n",
    "\n",
    "    return predictions\n"
   ]
  },
  {
   "cell_type": "markdown",
   "metadata": {},
   "source": [
    "在原始结果上应用后处理问答结果："
   ]
  },
  {
   "cell_type": "code",
   "execution_count": 53,
   "metadata": {},
   "outputs": [
    {
     "name": "stdout",
     "output_type": "stream",
     "text": [
      "正在后处理 10570 个示例的预测，这些预测分散在 10784 个特征中。\n"
     ]
    },
    {
     "data": {
      "application/vnd.jupyter.widget-view+json": {
       "model_id": "b9fcc5ebf7d246008c7ec68f5806182c",
       "version_major": 2,
       "version_minor": 0
      },
      "text/plain": [
       "  0%|          | 0/10570 [00:00<?, ?it/s]"
      ]
     },
     "metadata": {},
     "output_type": "display_data"
    }
   ],
   "source": [
    "final_predictions = postprocess_qa_predictions(datasets[\"validation\"], validation_features, raw_predictions.predictions)"
   ]
  },
  {
   "cell_type": "markdown",
   "metadata": {},
   "source": [
    "使用 `datasets.load_metric` 中加载 `SQuAD v2` 的评估指标"
   ]
  },
  {
   "cell_type": "code",
   "execution_count": 54,
   "metadata": {},
   "outputs": [
    {
     "name": "stderr",
     "output_type": "stream",
     "text": [
      "/tmp/ipykernel_20254/2330875496.py:3: FutureWarning: load_metric is deprecated and will be removed in the next major version of datasets. Use 'evaluate.load' instead, from the new library 🤗 Evaluate: https://huggingface.co/docs/evaluate\n",
      "  metric = load_metric(\"squad_v2\" if squad_v2 else \"squad\")\n",
      "/root/miniconda3/lib/python3.11/site-packages/datasets/load.py:752: FutureWarning: The repository for squad contains custom code which must be executed to correctly load the metric. You can inspect the repository content at https://raw.githubusercontent.com/huggingface/datasets/2.16.1/metrics/squad/squad.py\n",
      "You can avoid this message in future by passing the argument `trust_remote_code=True`.\n",
      "Passing `trust_remote_code=True` will be mandatory to load this metric from the next major release of `datasets`.\n",
      "  warnings.warn(\n"
     ]
    },
    {
     "data": {
      "application/vnd.jupyter.widget-view+json": {
       "model_id": "c528a0f9cb2c4787b5c6ee2342fa1519",
       "version_major": 2,
       "version_minor": 0
      },
      "text/plain": [
       "Downloading builder script:   0%|          | 0.00/1.72k [00:00<?, ?B/s]"
      ]
     },
     "metadata": {},
     "output_type": "display_data"
    },
    {
     "data": {
      "application/vnd.jupyter.widget-view+json": {
       "model_id": "5f681da0b712486fad8521f4a7d532a8",
       "version_major": 2,
       "version_minor": 0
      },
      "text/plain": [
       "Downloading extra modules:   0%|          | 0.00/1.11k [00:00<?, ?B/s]"
      ]
     },
     "metadata": {},
     "output_type": "display_data"
    }
   ],
   "source": [
    "from datasets import load_metric\n",
    "\n",
    "metric = load_metric(\"squad_v2\" if squad_v2 else \"squad\")"
   ]
  },
  {
   "cell_type": "markdown",
   "metadata": {},
   "source": [
    "接下来，我们可以调用上面定义的函数进行评估。\n",
    "\n",
    "只需稍微调整一下预测和标签的格式，因为它期望的是一系列字典而不是一个大字典。\n",
    "\n",
    "在使用`squad_v2`数据集时，我们还需要设置`no_answer_probability`参数（我们在这里将其设置为0.0，因为如果我们选择了答案，我们已经将答案设置为空）。"
   ]
  },
  {
   "cell_type": "code",
   "execution_count": 55,
   "metadata": {},
   "outputs": [
    {
     "data": {
      "text/plain": [
       "{'exact_match': 74.88174077578051, 'f1': 83.6359321422016}"
      ]
     },
     "execution_count": 55,
     "metadata": {},
     "output_type": "execute_result"
    }
   ],
   "source": [
    "if squad_v2:\n",
    "    formatted_predictions = [{\"id\": k, \"prediction_text\": v, \"no_answer_probability\": 0.0} for k, v in final_predictions.items()]\n",
    "else:\n",
    "    formatted_predictions = [{\"id\": k, \"prediction_text\": v} for k, v in final_predictions.items()]\n",
    "references = [{\"id\": ex[\"id\"], \"answers\": ex[\"answers\"]} for ex in datasets[\"validation\"]]\n",
    "metric.compute(predictions=formatted_predictions, references=references)"
   ]
  },
  {
   "cell_type": "code",
   "execution_count": null,
   "metadata": {},
   "outputs": [],
   "source": []
  },
  {
   "cell_type": "markdown",
   "metadata": {},
   "source": [
    "### Homework：加载本地保存的模型，进行评估和再训练更高的 F1 Score"
   ]
  },
  {
   "cell_type": "code",
   "execution_count": 50,
   "metadata": {},
   "outputs": [],
   "source": [
    "trained_model = AutoModelForQuestionAnswering.from_pretrained(model_dir)"
   ]
  },
  {
   "cell_type": "code",
   "execution_count": 51,
   "metadata": {},
   "outputs": [
    {
     "name": "stderr",
     "output_type": "stream",
     "text": [
      "Detected kernel version 4.4.0, which is below the recommended minimum of 5.5.0; this can cause the process to hang. It is recommended to upgrade the kernel to the minimum version or higher.\n"
     ]
    }
   ],
   "source": [
    "trained_trainer = Trainer(\n",
    "    trained_model,\n",
    "    args,\n",
    "    train_dataset=tokenized_datasets[\"train\"],\n",
    "    eval_dataset=tokenized_datasets[\"validation\"],\n",
    "    data_collator=data_collator,\n",
    "    tokenizer=tokenizer,\n",
    ")"
   ]
  },
  {
   "cell_type": "code",
   "execution_count": null,
   "metadata": {},
   "outputs": [],
   "source": []
  }
 ],
 "metadata": {
  "colab": {
   "name": "Question Answering on SQUAD",
   "provenance": []
  },
  "kernelspec": {
   "display_name": "Python 3 (ipykernel)",
   "language": "python",
   "name": "python3"
  },
  "language_info": {
   "codemirror_mode": {
    "name": "ipython",
    "version": 3
   },
   "file_extension": ".py",
   "mimetype": "text/x-python",
   "name": "python",
   "nbconvert_exporter": "python",
   "pygments_lexer": "ipython3",
   "version": "3.10.16"
  }
 },
 "nbformat": 4,
 "nbformat_minor": 4
}
