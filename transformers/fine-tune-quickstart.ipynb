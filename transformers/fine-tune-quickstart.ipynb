{
 "cells": [
  {
   "cell_type": "markdown",
   "id": "90c6730f-5d76-450b-9788-ec883d024f57",
   "metadata": {},
   "source": [
    "# Hugging Face Transformers 微调训练入门\n",
    "\n",
    "本示例将介绍基于 Transformers 实现模型微调训练的主要流程，包括：\n",
    "- 数据集下载\n",
    "- 数据预处理\n",
    "- 训练超参数配置\n",
    "- 训练评估指标设置\n",
    "- 训练器基本介绍\n",
    "- 实战训练\n",
    "- 模型保存"
   ]
  },
  {
   "cell_type": "markdown",
   "id": "aa0b1e12-1921-4438-8d5d-9760a629dcfe",
   "metadata": {},
   "source": [
    "## YelpReviewFull 数据集\n",
    "\n",
    "**Hugging Face 数据集：[ YelpReviewFull ](https://huggingface.co/datasets/yelp_review_full)**\n",
    "\n",
    "### 数据集摘要\n",
    "\n",
    "Yelp评论数据集包括来自Yelp的评论。它是从Yelp Dataset Challenge 2015数据中提取的。\n",
    "\n",
    "### 支持的任务和排行榜\n",
    "文本分类、情感分类：该数据集主要用于文本分类：给定文本，预测情感。\n",
    "\n",
    "### 语言\n",
    "这些评论主要以英语编写。\n",
    "\n",
    "### 数据集结构\n",
    "\n",
    "#### 数据实例\n",
    "一个典型的数据点包括文本和相应的标签。\n",
    "\n",
    "来自YelpReviewFull测试集的示例如下：\n",
    "\n",
    "```json\n",
    "{\n",
    "    'label': 0,\n",
    "    'text': 'I got \\'new\\' tires from them and within two weeks got a flat. I took my car to a local mechanic to see if i could get the hole patched, but they said the reason I had a flat was because the previous patch had blown - WAIT, WHAT? I just got the tire and never needed to have it patched? This was supposed to be a new tire. \\\\nI took the tire over to Flynn\\'s and they told me that someone punctured my tire, then tried to patch it. So there are resentful tire slashers? I find that very unlikely. After arguing with the guy and telling him that his logic was far fetched he said he\\'d give me a new tire \\\\\"this time\\\\\". \\\\nI will never go back to Flynn\\'s b/c of the way this guy treated me and the simple fact that they gave me a used tire!'\n",
    "}\n",
    "```\n",
    "\n",
    "#### 数据字段\n",
    "\n",
    "- 'text': 评论文本使用双引号（\"）转义，任何内部双引号都通过2个双引号（\"\"）转义。换行符使用反斜杠后跟一个 \"n\" 字符转义，即 \"\\n\"。\n",
    "- 'label': 对应于评论的分数（介于1和5之间）。\n",
    "\n",
    "#### 数据拆分\n",
    "\n",
    "Yelp评论完整星级数据集是通过随机选取每个1到5星评论的130,000个训练样本和10,000个测试样本构建的。总共有650,000个训练样本和50,000个测试样本。\n",
    "\n",
    "## 下载数据集"
   ]
  },
  {
   "cell_type": "code",
   "execution_count": 1,
   "id": "bbf72d6c-7ea5-4ee1-969a-c5060b9cb2d4",
   "metadata": {},
   "outputs": [
    {
     "data": {
      "application/vnd.jupyter.widget-view+json": {
       "model_id": "7875eeb989a44466b9e4892b55fd1707",
       "version_major": 2,
       "version_minor": 0
      },
      "text/plain": [
       "Downloading readme: 0.00B [00:00, ?B/s]"
      ]
     },
     "metadata": {},
     "output_type": "display_data"
    },
    {
     "data": {
      "application/vnd.jupyter.widget-view+json": {
       "model_id": "e4677109f39f446db324e85aacaaca33",
       "version_major": 2,
       "version_minor": 0
      },
      "text/plain": [
       "Downloading data:   0%|          | 0.00/299M [00:00<?, ?B/s]"
      ]
     },
     "metadata": {},
     "output_type": "display_data"
    },
    {
     "data": {
      "application/vnd.jupyter.widget-view+json": {
       "model_id": "3a36b52c306b47219edc1020e7200617",
       "version_major": 2,
       "version_minor": 0
      },
      "text/plain": [
       "Downloading data:   0%|          | 0.00/23.5M [00:00<?, ?B/s]"
      ]
     },
     "metadata": {},
     "output_type": "display_data"
    },
    {
     "data": {
      "application/vnd.jupyter.widget-view+json": {
       "model_id": "761ded8c205743f5981c252c70f3b3f6",
       "version_major": 2,
       "version_minor": 0
      },
      "text/plain": [
       "Generating train split:   0%|          | 0/650000 [00:00<?, ? examples/s]"
      ]
     },
     "metadata": {},
     "output_type": "display_data"
    },
    {
     "data": {
      "application/vnd.jupyter.widget-view+json": {
       "model_id": "cbfb934e88194116ac40c4d23ea50ffa",
       "version_major": 2,
       "version_minor": 0
      },
      "text/plain": [
       "Generating test split:   0%|          | 0/50000 [00:00<?, ? examples/s]"
      ]
     },
     "metadata": {},
     "output_type": "display_data"
    }
   ],
   "source": [
    "from datasets import load_dataset\n",
    "\n",
    "dataset = load_dataset(\"yelp_review_full\")"
   ]
  },
  {
   "cell_type": "code",
   "execution_count": 2,
   "id": "ec6fc806-1395-42dd-8121-a6e98a95cf01",
   "metadata": {},
   "outputs": [
    {
     "data": {
      "text/plain": [
       "DatasetDict({\n",
       "    train: Dataset({\n",
       "        features: ['label', 'text'],\n",
       "        num_rows: 650000\n",
       "    })\n",
       "    test: Dataset({\n",
       "        features: ['label', 'text'],\n",
       "        num_rows: 50000\n",
       "    })\n",
       "})"
      ]
     },
     "execution_count": 2,
     "metadata": {},
     "output_type": "execute_result"
    }
   ],
   "source": [
    "dataset"
   ]
  },
  {
   "cell_type": "code",
   "execution_count": 3,
   "id": "c94ad529-1604-48bd-8c8d-aa2f3bca6200",
   "metadata": {},
   "outputs": [
    {
     "data": {
      "text/plain": [
       "{'label': 3,\n",
       " 'text': \"All in favor of a deep dish pizza say I!.......IIIIIII,  ok now that i have that out of my system. This place is such a great hangout/eat-in spot. I hadn't been here and years and some friends invited us out for the evening. I was so glad they were paying cause  I was low on funds at the time.\\\\n\\\\nWe arrived on a friday night and of course it was busy there. We waited about 10 minutes to get a table which wasn't bad considering the crowd. We looked over the menu and they have so many great choices. Pizza, pasta, appetizers, seafood, burgers, salads and sandwiches. \\\\n\\\\nAfter ordering two mango lemonades that were wayyyyy over sweetened we ordered our food. We both are going gluten free which is tough but UNO's gave us a nice selection of dishes to choose from. Plus! They make a thin crust gluten free pizza which taste great. My hubby ordered the mediterrean thin crust because he loves kalamata olives and I ordered the Guac-alicious burger with a Caesar side salad. My salad came out pretty quick which was nice but it had a little too much dressing on it. I didn't complain, it still tasted great.\\\\n\\\\nI'm not into red meat so I tried to order a black bean burger or get chicken instead of beef, but the ran out of black bean and they couldn't get the chicken so i just ordered it anyway. The burger was piled really high with all the toppings including guacamole and it was very creamy but i couldn't get over the taste of the burger because it just didn't have any flavor. Very saddening. I ended up just eating the veggies and discarding the meat. I snacked on some of my hubbies pizza even though it was only a small amount. \\\\n\\\\nWe came here twice in one week. The second time we ordered the 9-grain deep dish with mushrooms, parmesan and a garlic white sauce. Was this pizza amazing or what?? I will probably always eat this pizza whenever I come. \\\\n\\\\nOnly down side is slow service. It took 20 minutes for our pizza to come out and my hubbies was a little over cooked. He got the numero uno which was ok but mine had way more flavor!!\"}"
      ]
     },
     "execution_count": 3,
     "metadata": {},
     "output_type": "execute_result"
    }
   ],
   "source": [
    "dataset[\"train\"][333]"
   ]
  },
  {
   "cell_type": "code",
   "execution_count": 4,
   "id": "ffe7f2a6-d64c-489e-af1d-d6aeaed6b87d",
   "metadata": {},
   "outputs": [
    {
     "data": {
      "text/plain": [
       "{'label': 2,\n",
       " 'text': 'Just ate there, right next to GameStop & Google, has 3 small booths, & ordered the pepper steak w/ onion ($10.95). Food is fast fresh & hot, but mine had too much onion & not enough steak. At the end of the meal I was just eating onions with rice, though I hear this is healthy for you. Counter lady was cordial, but didn\\'t reply when customers told her, \\\\\"Have a nice day\\\\\" #awkward. I know that English isn\\'t her first language but she needs to catch on that people are wishing her well. Wasn\\'t stuffed full either despite having eaten a large plate (I usually get this feeling eating Asian). This is basically a nice place to go for lunch that won\\'t ruin your appetite for dinner. (Side note: Food is very clean. Brushed my teeth an hour before w/ Tom\\'s of Maine fluoride-free peppermint & still had minty fresh breath an hour after eating)'}"
      ]
     },
     "execution_count": 4,
     "metadata": {},
     "output_type": "execute_result"
    }
   ],
   "source": [
    "dataset[\"train\"][666]"
   ]
  },
  {
   "cell_type": "code",
   "execution_count": 5,
   "id": "6dc45997-e391-456f-b0b9-d3193b0f6a9d",
   "metadata": {},
   "outputs": [],
   "source": [
    "import random\n",
    "import pandas as pd\n",
    "import datasets\n",
    "from IPython.display import display, HTML"
   ]
  },
  {
   "cell_type": "code",
   "execution_count": 8,
   "id": "9e2ecebb-d5d1-456d-967c-842a79fdd622",
   "metadata": {},
   "outputs": [],
   "source": [
    "def show_random_elements(dataset, num_examples=15):\n",
    "    assert num_examples <= len(dataset), \"Can't pick more elements than there are in the dataset.\"\n",
    "    picks = []\n",
    "    for _ in range(num_examples):\n",
    "        pick = random.randint(0, len(dataset)-1)\n",
    "        while pick in picks:\n",
    "            pick = random.randint(0, len(dataset)-1)\n",
    "        picks.append(pick)\n",
    "    \n",
    "    df = pd.DataFrame(dataset[picks])\n",
    "    for column, typ in dataset.features.items():\n",
    "        if isinstance(typ, datasets.ClassLabel):\n",
    "            df[column] = df[column].transform(lambda i: typ.names[i])\n",
    "    display(HTML(df.to_html()))"
   ]
  },
  {
   "cell_type": "code",
   "execution_count": 9,
   "id": "1af560b6-7d21-499e-9b82-114be371a98a",
   "metadata": {},
   "outputs": [
    {
     "data": {
      "text/html": [
       "<table border=\"1\" class=\"dataframe\">\n",
       "  <thead>\n",
       "    <tr style=\"text-align: right;\">\n",
       "      <th></th>\n",
       "      <th>label</th>\n",
       "      <th>text</th>\n",
       "    </tr>\n",
       "  </thead>\n",
       "  <tbody>\n",
       "    <tr>\n",
       "      <th>0</th>\n",
       "      <td>1 star</td>\n",
       "      <td>We've been coming here for 15+ yrs and we USED to love this place. The owners were great and all the servers were nice. Well we went back today, a Saturday afternoon and we were the only people in there, it was dead. We thought that was pretty rare and odd, well we ended up figuring out it's because of their new servers. From the moment we got there the lady was a total witch. Every single thing she did was done with attitude, not once did I see her even try and put on a fake smile at least. We received our food and it was eh, nothing great at all. Not what it used to be or compared to their other locations.  We were so fed up with her that when we were leaving we decided to ask her if she knew what guest/customer service is and she rolled her eyes and just sipped on her drink the whole time. Her name is V or B, so if you get her, I guarantee you will not be satisfied by her service. We're never coming back here.</td>\n",
       "    </tr>\n",
       "    <tr>\n",
       "      <th>1</th>\n",
       "      <td>5 stars</td>\n",
       "      <td>I have eaten at several TdB's and the service and food is always amazing and the the one in LV definitely surpassed my expectations. Although we did have reservations, they over shot our reservations by 20-25 minutes. Order the pitcher of Sangria nad set back and enjoy!!</td>\n",
       "    </tr>\n",
       "    <tr>\n",
       "      <th>2</th>\n",
       "      <td>4 stars</td>\n",
       "      <td>**UPDATE**\\n\\nOkay, after staying at the Alladin/ Planet Hollywood I am going to beg Ballys to take us back!!!  I went back there my last day and everything was sunshine compared to the OTHER hotel. I will just have to be super sweet and bat my eyelashes and wink at the receptionist (whether guy or girl) and beg for the newer cleaner rooms next time we are there. My guy and I figured that the people at the OTHER HOTEL are so rude and arent ready to jump to keep you happy because they arent UNIONIZED. I am giving this hotel an upgrade to 4 stars. LUV YA BALLYS!!!! PS... They do have comfortable beds &amp; room service is also good. \\n\\n\\nThis is one of the worst hotels. If you are the new side the rooms are a bit better. But still not up to par. We go there at least 3 times a year because of business and it sucks that the organization can only use this place. Most of the time the check in people are rude.</td>\n",
       "    </tr>\n",
       "    <tr>\n",
       "      <th>3</th>\n",
       "      <td>5 stars</td>\n",
       "      <td>joe the server was amazing we had a blast he was soo funny and the food was so tasty its a great place for a birthday  we r visiting from california and best service ever he was hilarious and I would go everyday if I could lol</td>\n",
       "    </tr>\n",
       "    <tr>\n",
       "      <th>4</th>\n",
       "      <td>1 star</td>\n",
       "      <td>Worst experience ever. They messed up my order twice. Tacos were soggy and hardly had anyway meat. Customer service was horrible to. They were rude and had no customer service skills.</td>\n",
       "    </tr>\n",
       "    <tr>\n",
       "      <th>5</th>\n",
       "      <td>5 stars</td>\n",
       "      <td>I love Pin Kaow it's hands down the best Thai place for locals off the strip. The staff is always friendly and seems to be a very clean place. I originally went to the location on Eastern for years. Both places are the same, both great. I'm a huge curry fan so I order basically the same thing every visit.</td>\n",
       "    </tr>\n",
       "    <tr>\n",
       "      <th>6</th>\n",
       "      <td>1 star</td>\n",
       "      <td>Whole Paycheck prices!  What more is there to say!  A small cart will be over $400!\\nWayne Gorsek</td>\n",
       "    </tr>\n",
       "    <tr>\n",
       "      <th>7</th>\n",
       "      <td>2 star</td>\n",
       "      <td>My friend and I decided to get a Pedicure and came upon this salon.  When we arrived, there weren't any other customers there. They do have a very large selection of different color nail polish to choose from.  We found it a little odd that one of the techs was wearing gloves, and the other was not.  They do spend a lot of time, and do have good attention to detail. My tech accidently cut me a little bit, which he was apologetic for. Before he started the nail polish, he squirted something over my toes (rubbing alcohol perhaps?) which just about made me scream when it hit my cut. When it came to the foot massage/leg rub, it was not pleasant at all. The tech put an exfoliating scrub on my legs, and rubbed my legs for what seemed like forever.  It wasn't really a massage, it felt like they were trying to rub multiple layers of skin off my legs! \\nWhen it was all done, I was pleased with the way that my feet looked, but it was not a relaxing experience. I will likely not go there again.</td>\n",
       "    </tr>\n",
       "    <tr>\n",
       "      <th>8</th>\n",
       "      <td>2 star</td>\n",
       "      <td>Looks very impressive from the outside, but I was disappointed on the interior of the main part. Very blah. Go down to look at the heart of the guy that started it. Creepy!\\n\\nAlso, we were approached by people outside asking for money. One guy had a whole story about his wife having cancer and how he needed help. I wanted to tell him to go to the church and ask for help. I think he was just looking to scam tourists.\\n\\nThere are much better churches to visit in the area including Christ Church Cathedral.</td>\n",
       "    </tr>\n",
       "    <tr>\n",
       "      <th>9</th>\n",
       "      <td>5 stars</td>\n",
       "      <td>Our favorite neighborhood breakfast place.  Chicken on the Coup - is amazing.  Love the stuffing and gravy - and then mix in the eggs - fantastic.</td>\n",
       "    </tr>\n",
       "    <tr>\n",
       "      <th>10</th>\n",
       "      <td>3 stars</td>\n",
       "      <td>The YardHouse chain of restaurants are generally consistent in terms of food and service. This location is a little unique in that it's located in a very high end mall. The location isn't as large as the Costa Mesa location, but seems larger than many. Service is pretty good if they are busy. If the are not busy, they somehow have really slow, inattentive service. \\n\\nNot bad, but there's fierce competition for $$ in this area and this is an average experience.</td>\n",
       "    </tr>\n",
       "    <tr>\n",
       "      <th>11</th>\n",
       "      <td>5 stars</td>\n",
       "      <td>The 5 stars is for a must-do Wednesday 1/2 price martini night.  The lengthy menu will keep you coming back for more.  I didn't catch the pour, I'm sure it is bottom shelf but when you mix it you don't lose.  The servings are generous and not watered down like you get at a lot of places when they have martini specials.\\n\\nMy husband and I simply sat at the bar.  When the weather cools will certainly opt for outdoor seating.  The staff and other patrons were friendly and quite happy to get their weekly Therapy!</td>\n",
       "    </tr>\n",
       "    <tr>\n",
       "      <th>12</th>\n",
       "      <td>4 stars</td>\n",
       "      <td>I'm a big fan of local pizza joints.  I've gotten pizza, wings, fish &amp; chips, olive lover's salad, and bread sticks from this place twice.  \\n\\nThe pizza is very good,  wings are good, but they were premature baby chick wings.\\n\\nSalad was good, fish &amp; chips were okay.  \\n\\nBread sticks were good too.  \\n\\nFirst time the woman on the phone was pleasant and delivery was awesome!\\n\\nSecond time, woman on the phone was helpful, but pick - up was interestingly rude.  Don't know what was going on, but that's about it.</td>\n",
       "    </tr>\n",
       "    <tr>\n",
       "      <th>13</th>\n",
       "      <td>4 stars</td>\n",
       "      <td>We have gone to this Friday's several times. It's adequate. The food is decent. The atmosphere is fun. The Irish Car Bombs are excellent. :) The service can be hit or miss, but apparently the managers are reading these Yelps cuz the service has gotten considerably better. \\n\\nWhat makes this restaurant stand out for us is Kara. The last couple times we've come to Fridays, we were served by Kara. She is a FANTASTIC server. She is friendly, professional, and gets our orders right no matter how many in our party. She doesn't forget things or make you feel like you are bothering her. She is GLAD to have you as a guest. I realize that might be what a server is SUPPOSED to do, but you guys know as well as I do that's not always the case, especially with chains. \\n\\nJust like with any chain, your service can be hit or miss, but give this Friday's a chance and you might just be surprised at the improvement.</td>\n",
       "    </tr>\n",
       "    <tr>\n",
       "      <th>14</th>\n",
       "      <td>2 star</td>\n",
       "      <td>I've never had banh mi that I thought would break my teeth while eating it.  Not to mention this particular lee's was very frugal of the meat toppings.</td>\n",
       "    </tr>\n",
       "  </tbody>\n",
       "</table>"
      ],
      "text/plain": [
       "<IPython.core.display.HTML object>"
      ]
     },
     "metadata": {},
     "output_type": "display_data"
    }
   ],
   "source": [
    "show_random_elements(dataset[\"train\"])"
   ]
  },
  {
   "cell_type": "markdown",
   "id": "c9df7cd0-23cd-458f-b2b5-f025c3b9fe62",
   "metadata": {},
   "source": [
    "## 预处理数据\n",
    "\n",
    "下载数据集到本地后，使用 Tokenizer 来处理文本，对于长度不等的输入数据，可以使用填充（padding）和截断（truncation）策略来处理。\n",
    "\n",
    "Datasets 的 `map` 方法，支持一次性在整个数据集上应用预处理函数。\n",
    "\n",
    "下面使用填充到最大长度的策略，处理整个数据集："
   ]
  },
  {
   "cell_type": "markdown",
   "id": "14c04545-352f-4ae0-8f4c-1e6f753d3685",
   "metadata": {},
   "source": [
    "1. **为什么要处理文本长度？**  \n",
    "   就像衣服有尺码，神经网络模型也有固定的\"输入尺寸\"。比如BERT模型最多\"吃\"512个单词片段。太长的文本会被截断（切掉尾巴），太短的会补零（相当于给衣服加填充物）。\n",
    "\n",
    "2. **分词器在做什么？**  \n",
    "   把文字转换成数字密码（如\"你好\"→[101, 2345])，同时：\n",
    "   • 自动加特殊符号：比如[CLS]开头、[SEP]分隔\n",
    "   • 记录哪些是真实内容（attention_mask里1表示真实，0是填充的）\n",
    "\n",
    "3. **map方法的神奇之处**  \n",
    "   这个操作就像流水线作业，把整个数据集批量送进处理函数。假设数据集有1万条文本，用`batched=True`参数，可能分100批次处理（每批100条），效率比逐条处理高得多。\n",
    "\n",
    "4. **处理后的数据结构**  \n",
    "   每个样本会变成包含多个数组的字典：\n",
    "   ```python\n",
    "   {\n",
    "     'input_ids': [101, 2345, 1032, 0, 0],  # 数字化的文本\n",
    "     'token_type_ids': [0,0,..],            # 区分句子（用于问答任务）\n",
    "     'attention_mask': [1,1,..0,0]          # 标记有效内容位置\n",
    "   }\n",
    "   ```\n",
    "\n",
    "举个生活化的例子：\n",
    "原始句子：\"我爱吃披萨\" → 处理后会变成类似：\n",
    "```\n",
    "[CLS] 我 爱 吃 披萨 [PAD] [PAD] [PAD]...\n",
    "对应的数字：[101, 2769, 3342, 1563, 5643, 0, 0, 0...]\n",
    "注意力的遮罩：[1,1,1,1,1,0,0,0...]\n",
    "```\n",
    "其中：\n",
    "• [CLS]是BERT要求的起始符号\n",
    "• [PAD]是填充的占位符（实际用0表示）\n",
    "• 注意力遮罩告诉模型哪些位置需要关注"
   ]
  },
  {
   "cell_type": "code",
   "execution_count": 10,
   "id": "8bf2b342-e1dd-4ab6-ad57-28eb2513ae38",
   "metadata": {},
   "outputs": [
    {
     "name": "stderr",
     "output_type": "stream",
     "text": [
      "/root/miniconda3/envs/peft/lib/python3.10/site-packages/huggingface_hub/file_download.py:795: FutureWarning: `resume_download` is deprecated and will be removed in version 1.0.0. Downloads always resume when possible. If you want to force a new download, use `force_download=True`.\n",
      "  warnings.warn(\n"
     ]
    },
    {
     "data": {
      "application/vnd.jupyter.widget-view+json": {
       "model_id": "a04fb64920354d26b946821c0269bffb",
       "version_major": 2,
       "version_minor": 0
      },
      "text/plain": [
       "tokenizer_config.json:   0%|          | 0.00/49.0 [00:00<?, ?B/s]"
      ]
     },
     "metadata": {},
     "output_type": "display_data"
    },
    {
     "data": {
      "application/vnd.jupyter.widget-view+json": {
       "model_id": "94d720a290ed4cce91d8f121b3a20855",
       "version_major": 2,
       "version_minor": 0
      },
      "text/plain": [
       "config.json:   0%|          | 0.00/339 [00:00<?, ?B/s]"
      ]
     },
     "metadata": {},
     "output_type": "display_data"
    },
    {
     "data": {
      "application/vnd.jupyter.widget-view+json": {
       "model_id": "9912da81e1d048bca3c52d8cb94f71c9",
       "version_major": 2,
       "version_minor": 0
      },
      "text/plain": [
       "vocab.txt: 0.00B [00:00, ?B/s]"
      ]
     },
     "metadata": {},
     "output_type": "display_data"
    },
    {
     "data": {
      "application/vnd.jupyter.widget-view+json": {
       "model_id": "1cb2f24df8e143b999a18e49056894b5",
       "version_major": 2,
       "version_minor": 0
      },
      "text/plain": [
       "tokenizer.json: 0.00B [00:00, ?B/s]"
      ]
     },
     "metadata": {},
     "output_type": "display_data"
    },
    {
     "data": {
      "application/vnd.jupyter.widget-view+json": {
       "model_id": "8669f2fa59b4456b99bb675ef0e3f58b",
       "version_major": 2,
       "version_minor": 0
      },
      "text/plain": [
       "Map:   0%|          | 0/650000 [00:00<?, ? examples/s]"
      ]
     },
     "metadata": {},
     "output_type": "display_data"
    },
    {
     "data": {
      "application/vnd.jupyter.widget-view+json": {
       "model_id": "340afc0340c246709273a3936321c7d0",
       "version_major": 2,
       "version_minor": 0
      },
      "text/plain": [
       "Map:   0%|          | 0/50000 [00:00<?, ? examples/s]"
      ]
     },
     "metadata": {},
     "output_type": "display_data"
    }
   ],
   "source": [
    "# 从transformers库导入自动分词器\n",
    "from transformers import AutoTokenizer\n",
    "\n",
    "# 加载预训练的分词器（这里用的是BERT的区分大小写版本）\n",
    "# [2,4](@ref)：Hugging Face的Tokenizer支持填充和截断策略\n",
    "tokenizer = AutoTokenizer.from_pretrained(\"bert-base-cased\")\n",
    "\n",
    "# 定义一个处理数据集的函数\n",
    "def tokenize_function(examples):\n",
    "    # 对文本进行分词，并应用两个重要策略：\n",
    "    # 1. padding=\"max_length\"：将所有文本填充到模型允许的最大长度（如512）\n",
    "    # 2. truncation=True：超过最大长度的部分会被截断\n",
    "    # [2,4](@ref)：这是Hugging Face推荐的标准化处理方式\n",
    "    return tokenizer(examples[\"text\"], padding=\"max_length\", truncation=True)\n",
    "\n",
    "# 将处理函数应用到整个数据集（支持批量处理加速）\n",
    "# batched=True表示一次性处理多个样本，比逐条处理快10倍以上\n",
    "tokenized_datasets = dataset.map(tokenize_function, batched=True)"
   ]
  },
  {
   "cell_type": "code",
   "execution_count": 13,
   "id": "d100a866-b92e-44c2-aab7-8ad078a6e449",
   "metadata": {},
   "outputs": [
    {
     "name": "stdout",
     "output_type": "stream",
     "text": [
      "{'train': [{'filename': '/root/.cache/huggingface/datasets/yelp_review_full/yelp_review_full/0.0.0/c1f9ee939b7d05667af864ee1cb066393154bf85/cache-42c6b839c042ef53.arrow'}], 'test': [{'filename': '/root/.cache/huggingface/datasets/yelp_review_full/yelp_review_full/0.0.0/c1f9ee939b7d05667af864ee1cb066393154bf85/cache-b616e165245db566.arrow'}]}\n"
     ]
    }
   ],
   "source": [
    "print(tokenized_datasets.cache_files)"
   ]
  },
  {
   "cell_type": "code",
   "execution_count": 12,
   "id": "47a415a8-cd15-4a8c-851b-9b4740ef8271",
   "metadata": {},
   "outputs": [
    {
     "data": {
      "text/html": [
       "<table border=\"1\" class=\"dataframe\">\n",
       "  <thead>\n",
       "    <tr style=\"text-align: right;\">\n",
       "      <th></th>\n",
       "      <th>label</th>\n",
       "      <th>text</th>\n",
       "      <th>input_ids</th>\n",
       "      <th>token_type_ids</th>\n",
       "      <th>attention_mask</th>\n",
       "    </tr>\n",
       "  </thead>\n",
       "  <tbody>\n",
       "    <tr>\n",
       "      <th>0</th>\n",
       "      <td>1 star</td>\n",
       "      <td>Went there to celebrate with some friends and I was excited to try some Mexican food - something I'd been missing since I moved from San Diego to Pittsburgh.  Since there was a long wait we got margaritas and waited for the tables.  I got a strawberry margarita, but the flavor was unnecessary as all I could taste was cheap, nasty tequila.  Gross.  To mitigate the taste and try not to be sloshed before dinner we asked for some chips and salsa while we waited.  When we finally got some (15 minutes later) I was buzzed and disappointed.  The chips and salsa were worse than even the store brand from the supermarket.  My opinion, if a \\\"Mexican food\\\" restaurant can't do the good chips and salsa and margaritas, I don't even want to try anything else.  We paid our tab and left before our table was even ready.  No thank you.</td>\n",
       "      <td>[101, 23158, 1204, 1175, 1106, 8294, 1114, 1199, 2053, 1105, 146, 1108, 7215, 1106, 2222, 1199, 4112, 2094, 118, 1380, 146, 112, 173, 1151, 3764, 1290, 146, 1427, 1121, 1727, 4494, 1106, 5610, 119, 1967, 1175, 1108, 170, 1263, 3074, 1195, 1400, 12477, 18971, 15662, 1116, 1105, 3932, 1111, 1103, 7072, 119, 146, 1400, 170, 15235, 6614, 12477, 18971, 15662, 117, 1133, 1103, 16852, 1108, 14924, 1112, 1155, 146, 1180, 5080, 1108, 10928, 117, 13392, 21359, 21005, 119, 15161, 119, 1706, 26410, 25342, 1103, 5080, 1105, 2222, 1136, 1106, 1129, 188, 8867, 8961, 1196, 4014, 1195, 1455, 1111, 1199, 13228, ...]</td>\n",
       "      <td>[0, 0, 0, 0, 0, 0, 0, 0, 0, 0, 0, 0, 0, 0, 0, 0, 0, 0, 0, 0, 0, 0, 0, 0, 0, 0, 0, 0, 0, 0, 0, 0, 0, 0, 0, 0, 0, 0, 0, 0, 0, 0, 0, 0, 0, 0, 0, 0, 0, 0, 0, 0, 0, 0, 0, 0, 0, 0, 0, 0, 0, 0, 0, 0, 0, 0, 0, 0, 0, 0, 0, 0, 0, 0, 0, 0, 0, 0, 0, 0, 0, 0, 0, 0, 0, 0, 0, 0, 0, 0, 0, 0, 0, 0, 0, 0, 0, 0, 0, 0, ...]</td>\n",
       "      <td>[1, 1, 1, 1, 1, 1, 1, 1, 1, 1, 1, 1, 1, 1, 1, 1, 1, 1, 1, 1, 1, 1, 1, 1, 1, 1, 1, 1, 1, 1, 1, 1, 1, 1, 1, 1, 1, 1, 1, 1, 1, 1, 1, 1, 1, 1, 1, 1, 1, 1, 1, 1, 1, 1, 1, 1, 1, 1, 1, 1, 1, 1, 1, 1, 1, 1, 1, 1, 1, 1, 1, 1, 1, 1, 1, 1, 1, 1, 1, 1, 1, 1, 1, 1, 1, 1, 1, 1, 1, 1, 1, 1, 1, 1, 1, 1, 1, 1, 1, 1, ...]</td>\n",
       "    </tr>\n",
       "  </tbody>\n",
       "</table>"
      ],
      "text/plain": [
       "<IPython.core.display.HTML object>"
      ]
     },
     "metadata": {},
     "output_type": "display_data"
    }
   ],
   "source": [
    "# 随机展示处理后的样本（假设show_random_elements是自定义的检查函数）\n",
    "# 通过这个可以查看处理后的数据结构，例如：\n",
    "# {\n",
    "#   'input_ids': [101, 2345, 1032, ..., 0, 0], \n",
    "#   'attention_mask': [1,1,..1,0,0]\n",
    "# }\n",
    "show_random_elements(tokenized_datasets[\"train\"], num_examples=1)"
   ]
  },
  {
   "cell_type": "markdown",
   "id": "9a7a3f21-9fb6-40d9-a760-85962cc76ef8",
   "metadata": {},
   "source": [
    "以下是该表格中各个字段的详细解释，按NLP处理流程分阶段说明：\n",
    "\n",
    "---\n",
    "\n",
    "### ▋ 字段结构解析 (针对BERT类模型)\n",
    "\n",
    "| 字段名称          | 示例值片段                     | 作用层级      | 技术细节                                                                 |\n",
    "|-------------------|------------------------------|--------------|--------------------------------------------------------------------------|\n",
    "| **label**         | \"1 star\"                     | 业务标签层    | 原始业务标签（此处展示为可读形式，实际训练需转换为数值如0-4对应1-5星）    |\n",
    "| **text**          | 用户评论原文                 | 原始数据层    | 未处理的原始文本输入                                                     |\n",
    "| **input_ids**     | [101, 23158, 1204,...]       | Token编码层   | 将文本转换为模型可识别的数字ID序列                                        |\n",
    "| **token_type_ids**| [0, 0, 0,...]                | 句子分段层     | 标识token属于哪个句子（单句子任务全为0）                                  |\n",
    "| **attention_mask**| [1, 1, 1,...]                | 注意力机制层   | 控制模型关注有效内容（1=有效token，0=填充位）                             |\n",
    "\n",
    "---\n",
    "\n",
    "### ▋ 关键技术点详解\n",
    "\n",
    "#### 1. **label字段的特殊处理**\n",
    "```python\n",
    "# 实际训练时应转换为数值标签\n",
    "label_mapping = {\"1 star\": 0, \"2 stars\": 1, ..., \"5 stars\": 4}\n",
    "dataset = dataset.map(lambda x: {\"label\": label_mapping[x[\"label\"]]})\n",
    "```\n",
    "\n",
    "#### 2. **input_ids的构造过程**\n",
    "- **特殊标记说明**：\n",
    "  - `101`: [CLS] 分类标记（BERT等模型的起始符）\n",
    "  - `102`: [SEP] 分隔标记（此例未出现，因单句输入）\n",
    "  - `0`: [PAD] 填充标记（此例未出现，因已用max_length填充）\n",
    "\n",
    "#### 3. **token_type_ids的扩展应用**\n",
    "```python\n",
    "# 双句子任务时的典型结构（如QA）\n",
    "tokenizer(\"How are you?\", \"I'm fine\", return_token_type_ids=True)\n",
    "# 输出：\n",
    "# token_type_ids = [0,0,0,0,0, 1,1,1,1]\n",
    "```\n",
    "\n",
    "#### 4. **attention_mask的动态性**\n",
    "```python\n",
    "# 实际处理变长文本时的mask示例：\n",
    "原始文本: \"Hello world\"\n",
    "填充后: \"Hello world [PAD] [PAD]\"\n",
    "attention_mask: [1,1,0,0]\n",
    "```\n",
    "\n",
    "---\n",
    "\n",
    "### ▋ 数据处理流程可视化\n",
    "```\n",
    "原始文本\n",
    "   ↓ (分词器处理)\n",
    "[CLS] Went there to... [SEP] → 分词结果\n",
    "   ↓ (词汇表映射)\n",
    "101 23158 1204 ... 102 → input_ids\n",
    "   ↓ (句子标识)\n",
    "0   0     0    ... 0   → token_type_ids\n",
    "   ↓ (有效标识)\n",
    "1   1     1    ... 1   → attention_mask\n",
    "```\n",
    "\n",
    "---\n",
    "\n",
    "### ▋ 最佳实践建议\n",
    "1. **动态填充策略**：\n",
    "```python\n",
    "# 替代固定长度填充，提升效率\n",
    "from transformers import DataCollatorWithPadding\n",
    "data_collator = DataCollatorWithPadding(tokenizer)\n",
    "```\n",
    "\n",
    "2. **验证字段一致性**：\n",
    "```python\n",
    "# 检查各字段长度是否匹配\n",
    "assert len(input_ids) == len(token_type_ids) == len(attention_mask)\n",
    "```\n",
    "\n",
    "3. **解码验证**：\n",
    "```python\n",
    "# 反向验证编码正确性\n",
    "decoded_text = tokenizer.decode(input_ids, skip_special_tokens=True)\n",
    "assert decoded_text == original_text\n",
    "```\n",
    "\n",
    "---\n",
    "\n",
    "是否需要进一步了解如何将这些预处理后的数据输入模型进行训练？"
   ]
  },
  {
   "cell_type": "markdown",
   "id": "66db1f32-6210-41eb-a296-f435f5d66917",
   "metadata": {},
   "source": [
    "Wed Mar  5 15:34:53 2025       \n",
    "+---------------------------------------------------------------------------------------+\n",
    "| NVIDIA-SMI 535.216.03             Driver Version: 535.216.03   CUDA Version: 12.2     |\n",
    "|-----------------------------------------+----------------------+----------------------+\n",
    "| GPU  Name                 Persistence-M | Bus-Id        Disp.A | Volatile Uncorr. ECC |\n",
    "| Fan  Temp   Perf          Pwr:Usage/Cap |         Memory-Usage | GPU-Util  Compute M. |\n",
    "|                                         |                      |               MIG M. |\n",
    "|=========================================+======================+======================|\n",
    "|   0  Tesla T4                       On  | 00000000:00:07.0 Off |                    0 |\n",
    "| N/A   38C    P0              26W /  70W |    985MiB / 15360MiB |      0%      Default |\n",
    "|                                         |                      |                  N/A |\n",
    "+-----------------------------------------+----------------------+----------------------+\n",
    "                                                                                         \n",
    "+---------------------------------------------------------------------------------------+\n",
    "| Processes:                                                                            |\n",
    "|  GPU   GI   CI        PID   Type   Process name                            GPU Memory |\n",
    "|        ID   ID                                                             Usage      |\n",
    "|=======================================================================================|\n",
    "|    0   N/A  N/A    103559      C   /root/miniconda3/envs/peft/bin/python       982MiB |\n",
    "+---------------------------------------------------------------------------------------+"
   ]
  },
  {
   "cell_type": "markdown",
   "id": "fc801faf-adec-4571-aee1-0c5d432febb1",
   "metadata": {},
   "source": [
    "根据提供的日志和硬件监控信息，当前系统状态可从以下角度分析：\n",
    "\n",
    "---\n",
    "\n",
    "### **一、文件下载与模型加载**\n",
    "1. **Tokenizer 相关文件处理**  \n",
    "   • `tokenizer_config.json`（已完成100%下载）：该文件定义了分词器的配置参数（如是否区分大小写、特殊标记映射路径等）。例如，`do_lower_case=True` 表示输入文本会被统一转为小写。\n",
    "   • `vocab.txt`（下载中）：词汇表文件，包含所有标记及其唯一索引，用于将文本转化为模型可识别的数字序列。例如，`[CLS]`可能对应索引0，`[SEP]`对应索引1。\n",
    "   • `tokenizer.json`（下载中）：包含分词器的完整配置和模型类型（如BPE、WordPiece），是分词器的核心文件。\n",
    "\n",
    "2. **模型配置文件加载**  \n",
    "   • `config.json`（下载中）：定义模型架构参数，如隐藏层维度（`hidden_size`）、注意力头数（`num_attention_heads`）、层数（`num_hidden_layers`）等。例如，`hidden_size=768`表示每层有768个神经元。\n",
    "\n",
    "3. **进度解读**  \n",
    "   • `Map: 35%` 可能表示模型权重正在从文件映射到内存，或分词器初始化完成35%。\n",
    "\n",
    "---\n",
    "\n",
    "### **二、GPU资源占用**\n",
    "• **Tesla T4使用情况**  \n",
    "  • **显存占用**：985MiB/15360MiB，占比约6.4%，显示当前任务对GPU压力较低。\n",
    "  • **进程信息**：Python进程（PID 103559）正在运行，可能与模型推理或训练相关。例如，加载模型权重（如`model.safetensors`）或执行前向计算。\n",
    "  • **计算模式**：`Compute M.`显示为`Default`，表明未启用特定计算模式（如MIG多实例GPU）。\n",
    "\n",
    "---\n",
    "\n",
    "### **三、综合行为推断**\n",
    "当前系统可能正在执行以下操作之一：\n",
    "1. **模型初始化**  \n",
    "   • 通过Hugging Face的`from_pretrained()`方法加载预训练模型，自动下载配置文件（如`config.json`）和分词器文件。\n",
    "   • 示例代码类似：\n",
    "     ```python\n",
    "     from transformers import AutoTokenizer, AutoModel\n",
    "     tokenizer = AutoTokenizer.from_pretrained(\"bert-base-uncased\")\n",
    "     model = AutoModel.from_pretrained(\"bert-base-uncased\").cuda()\n",
    "     ```\n",
    "\n",
    "2. **文本预处理**  \n",
    "   • 使用分词器将输入文本（如用户提问）转换为Token ID序列，需依赖`vocab.txt`和`tokenizer.json`。\n",
    "\n",
    "3. **轻量级推理任务**  \n",
    "   • 显存占用较低可能表明任务规模较小（如短文本分类或问答），未涉及全量训练。\n",
    "\n",
    "---\n",
    "\n",
    "### **四、潜在风险与优化建议**\n",
    "• **显存利用率低**：Tesla T4的显存使用率不足10%，可考虑批量处理任务或启用混合精度训练（`fp16`/`bf16`）以提升吞吐量。\n",
    "• **下载速度限制**：`5.64kB/s`的下载速率可能受网络带宽影响，建议检查代理设置或切换至本地缓存模型。\n",
    "\n",
    "---\n",
    "\n",
    "**总结**：系统正在加载一个基于Transformer架构的预训练模型（如BERT或GPT），完成分词器和模型配置的初始化，并利用GPU执行轻量级计算任务。"
   ]
  },
  {
   "cell_type": "markdown",
   "id": "1c33d153-f729-4f04-972c-a764c1cbbb8b",
   "metadata": {},
   "source": [
    "### 数据抽样\n",
    "\n",
    "使用 1000 个数据样本，在 BERT 上演示小规模训练（基于 Pytorch Trainer）\n",
    "\n",
    "`shuffle()`函数会随机重新排列列的值。如果您希望对用于洗牌数据集的算法有更多控制，可以在此函数中指定generator参数来使用不同的numpy.random.Generator。"
   ]
  },
  {
   "cell_type": "code",
   "execution_count": 16,
   "id": "a17317d8-3c6a-467f-843d-87491f600db1",
   "metadata": {},
   "outputs": [
    {
     "name": "stdout",
     "output_type": "stream",
     "text": [
      "Dataset({\n",
      "    features: ['label', 'text', 'input_ids', 'token_type_ids', 'attention_mask'],\n",
      "    num_rows: 1000\n",
      "})\n",
      "Dataset({\n",
      "    features: ['label', 'text', 'input_ids', 'token_type_ids', 'attention_mask'],\n",
      "    num_rows: 1000\n",
      "})\n"
     ]
    }
   ],
   "source": [
    "# 从完整训练集中创建小型训练子集（1000条样本）\n",
    "small_train_dataset = tokenized_datasets[\"train\"].shuffle(seed=42).select(range(1000))\n",
    "\"\"\"\n",
    "执行步骤：\n",
    "1. shuffle(seed=42): 先对训练集进行随机打乱（设置随机种子保证可复现性）\n",
    "2. select(range(1000)): 选取前1000条打乱后的样本\n",
    "作用：\n",
    "- 创建小规模训练集，加速实验迭代\n",
    "- 保持数据分布的随机性\n",
    "- 固定随机种子保证每次运行结果一致\n",
    "\"\"\"\n",
    "\n",
    "# 从完整测试集中创建小型验证子集（1000条样本） \n",
    "small_eval_dataset = tokenized_datasets[\"test\"].shuffle(seed=42).select(range(1000))\n",
    "\"\"\"\n",
    "典型应用场景：\n",
    "1. 快速验证模型是否能过拟合（用少量数据测试学习能力）\n",
    "2. 资源有限时进行超参数调试\n",
    "3. 原型开发阶段的快速实验\n",
    "4. 教学演示场景（缩短训练时间）\n",
    "\n",
    "注意事项（使用时需知）：\n",
    "- 小样本可能无法代表完整数据分布\n",
    "- 评估指标会有较大方差\n",
    "- 正式训练时建议使用完整数据集\n",
    "- 生产环境需要更严谨的验证集划分\n",
    "\"\"\"\n",
    "\n",
    "# 扩展：查看数据集结构示例\n",
    "print(small_train_dataset)\n",
    "# 输出示例：Dataset(features: ['input_ids', 'token_type_ids', 'attention_mask', 'label'], num_rows: 1000)\n",
    "\n",
    "print(small_eval_dataset)"
   ]
  },
  {
   "cell_type": "markdown",
   "id": "d3b65d63-2d3a-4a56-bc31-6e88a29e9dec",
   "metadata": {},
   "source": [
    "## 微调训练配置\n",
    "\n",
    "### 加载 BERT 模型\n",
    "\n",
    "警告通知我们正在丢弃一些权重（`vocab_transform` 和 `vocab_layer_norm` 层），并随机初始化其他一些权重（`pre_classifier` 和 `classifier` 层）。在微调模型情况下是绝对正常的，因为我们正在删除用于预训练模型的掩码语言建模任务的头部，并用一个新的头部替换它，对于这个新头部，我们没有预训练的权重，所以库会警告我们在用它进行推理之前应该对这个模型进行微调，而这正是我们要做的事情。"
   ]
  },
  {
   "cell_type": "code",
   "execution_count": 17,
   "id": "4d2af4df-abd4-4a4b-94b6-b0e7375304ed",
   "metadata": {},
   "outputs": [
    {
     "name": "stderr",
     "output_type": "stream",
     "text": [
      "/root/miniconda3/envs/peft/lib/python3.10/site-packages/huggingface_hub/file_download.py:795: FutureWarning: `resume_download` is deprecated and will be removed in version 1.0.0. Downloads always resume when possible. If you want to force a new download, use `force_download=True`.\n",
      "  warnings.warn(\n"
     ]
    },
    {
     "data": {
      "application/vnd.jupyter.widget-view+json": {
       "model_id": "417f6e3a97254dabbe78e06ae76e6503",
       "version_major": 2,
       "version_minor": 0
      },
      "text/plain": [
       "model.safetensors:   0%|          | 0.00/436M [00:00<?, ?B/s]"
      ]
     },
     "metadata": {},
     "output_type": "display_data"
    },
    {
     "name": "stderr",
     "output_type": "stream",
     "text": [
      "Some weights of BertForSequenceClassification were not initialized from the model checkpoint at bert-base-cased and are newly initialized: ['classifier.bias', 'classifier.weight']\n",
      "You should probably TRAIN this model on a down-stream task to be able to use it for predictions and inference.\n"
     ]
    }
   ],
   "source": [
    "from transformers import AutoModelForSequenceClassification\n",
    "\n",
    "# 关键参数解析：\n",
    "# \"bert-base-cased\" - 使用区分大小写的BERT基础版\n",
    "# num_labels=5       - 五分类任务（对应Yelp的1-5星评分）\n",
    "model = AutoModelForSequenceClassification.from_pretrained(\n",
    "    \"bert-base-cased\", \n",
    "    num_labels=5\n",
    ")"
   ]
  },
  {
   "cell_type": "markdown",
   "id": "b44014df-b52c-4c72-9e9f-54424725a473",
   "metadata": {},
   "source": [
    "### 训练超参数（TrainingArguments）\n",
    "\n",
    "完整配置参数与默认值：https://huggingface.co/docs/transformers/v4.36.1/en/main_classes/trainer#transformers.TrainingArguments\n",
    "\n",
    "源代码定义：https://github.com/huggingface/transformers/blob/v4.36.1/src/transformers/training_args.py#L161\n",
    "\n",
    "**最重要配置：模型权重保存路径(output_dir)**"
   ]
  },
  {
   "cell_type": "code",
   "execution_count": 20,
   "id": "98c01d5c-de72-4ff0-b11d-e07ac5346888",
   "metadata": {},
   "outputs": [],
   "source": [
    "from transformers import TrainingArguments\n",
    "\n",
    "model_dir = \"models/bert-base-cased-finetune-yelp\"\n",
    "\n",
    "# logging_steps 默认值为500，根据我们的训练数据和步长，将其设置为100\n",
    "training_args = TrainingArguments(output_dir=model_dir,\n",
    "                                  per_device_train_batch_size=16,\n",
    "                                  num_train_epochs=5,\n",
    "                                  logging_steps=100)"
   ]
  },
  {
   "cell_type": "code",
   "execution_count": 21,
   "id": "0ce03480-3aaa-48ea-a0c6-a177b8d8e34f",
   "metadata": {},
   "outputs": [
    {
     "name": "stdout",
     "output_type": "stream",
     "text": [
      "TrainingArguments(\n",
      "_n_gpu=1,\n",
      "adafactor=False,\n",
      "adam_beta1=0.9,\n",
      "adam_beta2=0.999,\n",
      "adam_epsilon=1e-08,\n",
      "auto_find_batch_size=False,\n",
      "bf16=False,\n",
      "bf16_full_eval=False,\n",
      "data_seed=None,\n",
      "dataloader_drop_last=False,\n",
      "dataloader_num_workers=0,\n",
      "dataloader_persistent_workers=False,\n",
      "dataloader_pin_memory=True,\n",
      "ddp_backend=None,\n",
      "ddp_broadcast_buffers=None,\n",
      "ddp_bucket_cap_mb=None,\n",
      "ddp_find_unused_parameters=None,\n",
      "ddp_timeout=1800,\n",
      "debug=[],\n",
      "deepspeed=None,\n",
      "disable_tqdm=False,\n",
      "dispatch_batches=None,\n",
      "do_eval=False,\n",
      "do_predict=False,\n",
      "do_train=False,\n",
      "eval_accumulation_steps=None,\n",
      "eval_delay=0,\n",
      "eval_steps=None,\n",
      "evaluation_strategy=no,\n",
      "fp16=False,\n",
      "fp16_backend=auto,\n",
      "fp16_full_eval=False,\n",
      "fp16_opt_level=O1,\n",
      "fsdp=[],\n",
      "fsdp_config={'min_num_params': 0, 'xla': False, 'xla_fsdp_grad_ckpt': False},\n",
      "fsdp_min_num_params=0,\n",
      "fsdp_transformer_layer_cls_to_wrap=None,\n",
      "full_determinism=False,\n",
      "gradient_accumulation_steps=1,\n",
      "gradient_checkpointing=False,\n",
      "gradient_checkpointing_kwargs=None,\n",
      "greater_is_better=None,\n",
      "group_by_length=False,\n",
      "half_precision_backend=auto,\n",
      "hub_always_push=False,\n",
      "hub_model_id=None,\n",
      "hub_private_repo=False,\n",
      "hub_strategy=every_save,\n",
      "hub_token=<HUB_TOKEN>,\n",
      "ignore_data_skip=False,\n",
      "include_inputs_for_metrics=False,\n",
      "include_num_input_tokens_seen=False,\n",
      "include_tokens_per_second=False,\n",
      "jit_mode_eval=False,\n",
      "label_names=None,\n",
      "label_smoothing_factor=0.0,\n",
      "learning_rate=5e-05,\n",
      "length_column_name=length,\n",
      "load_best_model_at_end=False,\n",
      "local_rank=0,\n",
      "log_level=passive,\n",
      "log_level_replica=warning,\n",
      "log_on_each_node=True,\n",
      "logging_dir=models/bert-base-cased-finetune-yelp/runs/Mar05_17-09-31_deepseek-r1-t4-test,\n",
      "logging_first_step=False,\n",
      "logging_nan_inf_filter=True,\n",
      "logging_steps=100,\n",
      "logging_strategy=steps,\n",
      "lr_scheduler_kwargs={},\n",
      "lr_scheduler_type=linear,\n",
      "max_grad_norm=1.0,\n",
      "max_steps=-1,\n",
      "metric_for_best_model=None,\n",
      "mp_parameters=,\n",
      "neftune_noise_alpha=None,\n",
      "no_cuda=False,\n",
      "num_train_epochs=5,\n",
      "optim=adamw_torch,\n",
      "optim_args=None,\n",
      "output_dir=models/bert-base-cased-finetune-yelp,\n",
      "overwrite_output_dir=False,\n",
      "past_index=-1,\n",
      "per_device_eval_batch_size=8,\n",
      "per_device_train_batch_size=16,\n",
      "prediction_loss_only=False,\n",
      "push_to_hub=False,\n",
      "push_to_hub_model_id=None,\n",
      "push_to_hub_organization=None,\n",
      "push_to_hub_token=<PUSH_TO_HUB_TOKEN>,\n",
      "ray_scope=last,\n",
      "remove_unused_columns=True,\n",
      "report_to=[],\n",
      "resume_from_checkpoint=None,\n",
      "run_name=models/bert-base-cased-finetune-yelp,\n",
      "save_on_each_node=False,\n",
      "save_only_model=False,\n",
      "save_safetensors=True,\n",
      "save_steps=500,\n",
      "save_strategy=steps,\n",
      "save_total_limit=None,\n",
      "seed=42,\n",
      "skip_memory_metrics=True,\n",
      "split_batches=False,\n",
      "tf32=None,\n",
      "torch_compile=False,\n",
      "torch_compile_backend=None,\n",
      "torch_compile_mode=None,\n",
      "torchdynamo=None,\n",
      "tpu_metrics_debug=False,\n",
      "tpu_num_cores=None,\n",
      "use_cpu=False,\n",
      "use_ipex=False,\n",
      "use_legacy_prediction_loop=False,\n",
      "use_mps_device=False,\n",
      "warmup_ratio=0.0,\n",
      "warmup_steps=0,\n",
      "weight_decay=0.0,\n",
      ")\n"
     ]
    }
   ],
   "source": [
    "# 完整的超参数配置\n",
    "print(training_args)"
   ]
  },
  {
   "cell_type": "markdown",
   "id": "092ff8f4-ba7a-4617-860c-0fa37a40eb27",
   "metadata": {},
   "source": [
    "以下是对 `TrainingArguments` 配置的通俗解释，按功能分类并添加注释：\n",
    "\n",
    "---\n",
    "\n",
    "### 🌟 **核心训练参数**\n",
    "```python\n",
    "output_dir=\"models/bert-base-cased-finetune-yelp\"  # 模型保存路径（最重要！训练结果全存在这）\n",
    "per_device_train_batch_size=16   # 每个GPU的批次大小（显存不足时调小此值）\n",
    "num_train_epochs=5               # 训练总轮次（通常3-5轮足够微调）\n",
    "learning_rate=5e-05              # 学习率（BERT常用5e-5, 太大容易震荡，太小收敛慢）\n",
    "```\n",
    "\n",
    "---\n",
    "\n",
    "### 💻 **资源相关参数**\n",
    "```python\n",
    "fp16=False                       # 是否启用混合精度训练（True可省显存，需GPU支持）\n",
    "gradient_accumulation_steps=1    # 梯度累积步数（模拟更大批次，显存不足时使用）\n",
    "optim=\"adamw_torch\"              # 优化器类型（Adam的改进版，适合深度学习）\n",
    "```\n",
    "\n",
    "---\n",
    "\n",
    "### ⏱️ **训练过程控制**\n",
    "```python\n",
    "logging_steps=100                # 每100步打印一次日志（默认500，调小可更频繁监控）\n",
    "save_steps=500                   # 每500步保存一次模型（频繁保存会占用磁盘）\n",
    "evaluation_strategy=\"no\"         # 评估策略（\"no\"不评估，\"steps\"按步评估，\"epoch\"每轮评估）\n",
    "```\n",
    "\n",
    "---\n",
    "\n",
    "### 🛠️ **优化相关参数**\n",
    "```python\n",
    "weight_decay=0.0                 # 权重衰减系数（防过拟合，常用0.01）\n",
    "warmup_steps=0                   # 预热步数（初始阶段用小学习率）\n",
    "max_grad_norm=1.0                # 梯度裁剪阈值（防梯度爆炸）\n",
    "```\n",
    "\n",
    "---\n",
    "\n",
    "### 📊 **日志与保存**\n",
    "```python\n",
    "logging_dir=\"models/.../runs/...\" # TensorBoard日志路径\n",
    "report_to=[]                     # 上报平台（例如[\"wandb\"]接入可视化）\n",
    "save_total_limit=None            # 最大保存检查点数（设为3只保留最新3个模型）\n",
    "```\n",
    "\n",
    "---\n",
    "\n",
    "### 🔧 **其他实用参数**\n",
    "```python\n",
    "seed=42                          # 随机种子（固定后结果可复现）\n",
    "disable_tqdm=False               # 是否禁用进度条（True时更简洁）\n",
    "remove_unused_columns=True       # 自动删除模型不需要的列（节省内存）\n",
    "```\n",
    "\n",
    "---\n",
    "\n",
    "### 🚀 **参数选择建议**\n",
    "1. **学习率**：从 `5e-5` 开始尝试，观察损失变化\n",
    "2. **批次大小**：在显存允许范围内尽量调大（如16→32）\n",
    "3. **训练轮次**：用早停法（`EarlyStoppingCallback`）防过拟合\n",
    "4. **混合精度**：设置 `fp16=True` 可减少30%显存占用\n",
    "5. **多GPU支持**：无需修改代码，启动时加 `--nproc_per_node=GPU数量`\n",
    "\n",
    "---\n",
    "\n",
    "### ⚠️ **特别注意项**\n",
    "```python\n",
    "do_train=False  # 当前配置未启用训练！（需设为True才会开始训练）\n",
    "do_eval=False   # 当前未启用验证！（需配合eval_dataset使用）\n",
    "```\n",
    "\n",
    "---\n",
    "\n",
    "### 🔄 **完整训练启动示例**\n",
    "```python\n",
    "from transformers import Trainer\n",
    "\n",
    "trainer = Trainer(\n",
    "    model=model,\n",
    "    args=training_args,\n",
    "    train_dataset=train_data,\n",
    "    eval_dataset=val_data,       # 需要评估时添加\n",
    "    compute_metrics=compute_metrics  # 自定义评估函数\n",
    ")\n",
    "\n",
    "# 开始训练（do_train=True时才生效）\n",
    "trainer.train() \n",
    "```\n",
    "\n",
    "---\n",
    "\n",
    "通过合理配置这些参数，可以平衡训练速度、资源消耗和模型性能。建议先用小数据子集调试参数，再全量训练。"
   ]
  },
  {
   "cell_type": "markdown",
   "id": "c281ed96-969c-490b-a0b4-a3cd1f14e05e",
   "metadata": {},
   "source": [
    "## 什么是学习率，什么是震荡？\n",
    "\n",
    "### 📚 学习率（Learning Rate）通俗解释\n",
    "\n",
    "**学习率就像「下山的步长」**  \n",
    "想象你蒙着眼从山顶往下走，要找到最低点（模型的最优参数）。学习率就是你每步迈的幅度：\n",
    "- **太大步（高学习率）**：容易一步跨过山谷，在对面的山坡来回跳（震荡）\n",
    "- **太小步（低学习率）**：要走很久才能到底，甚至卡在半山腰（收敛慢）\n",
    "\n",
    "![](https://miro.medium.com/v2/resize:fit:720/format:webp/1*kA38KJq9aeZkBW-0rH2yCg.gif)\n",
    "\n",
    "---\n",
    "\n",
    "### 💥 什么是震荡（Oscillation）？\n",
    "\n",
    "**震荡就像「在山谷两边反复横跳」**  \n",
    "当学习率太大时，参数更新会像这样：\n",
    "1. 当前点：A（损失较高）\n",
    "2. 计算梯度：指向谷底方向\n",
    "3. 大步更新：直接跳到对面的B点\n",
    "4. 再计算梯度：又指向另一个方向\n",
    "5. 结果：在谷底两侧反复跳动，无法稳定到最低点\n",
    "\n",
    "![](https://developers.google.com/static/machine-learning/crash-course/images/LearningRateTooLarge.svg)\n",
    "\n",
    "---\n",
    "\n",
    "### 🌰 具体案例对比\n",
    "| 学习率 | 训练表现 | 损失曲线 | 适用场景 |\n",
    "|-------|---------|---------|---------|\n",
    "| 0.1   | 剧烈震荡 | 锯齿状波动 | ❌ 几乎不用 |\n",
    "| 1e-3  | 偶尔震荡 | 波动下降 | 简单任务 |\n",
    "| 5e-5  | 平稳下降 | 平滑收敛 | ✅ BERT微调 |\n",
    "| 1e-6  | 缓慢下降 | 近乎水平 | 精细调优 |\n",
    "\n",
    "---\n",
    "\n",
    "### 🔧 如何避免震荡？\n",
    "1. **学习率预热**：前1000步从小学习率逐步增大\n",
    "2. **梯度裁剪**：限制单步更新幅度（`max_grad_norm=1.0`）\n",
    "3. **自适应优化器**：使用AdamW而不是SGD\n",
    "4. **监控损失曲线**：出现震荡时立即降低学习率\n",
    "\n",
    "---\n",
    "\n",
    "### 🛠️ BERT的实践经验\n",
    "```python\n",
    "# 安全的学习率范围建议\n",
    "learning_rate = 5e-5  # 默认安全值（适合大部分情况）\n",
    "learning_rate = 3e-5  # 更保守的选择（数据量小时）\n",
    "learning_rate = 1e-4  # 高风险！需配合梯度裁剪使用\n",
    "```\n",
    "\n",
    "通过合理控制学习率，可以让模型既快速收敛，又不会「跑过头」。就像开车时找到合适的油门力度，既不会急刹急停，也不会龟速前进。"
   ]
  },
  {
   "cell_type": "markdown",
   "id": "7ebd3365-d359-4ab4-a300-4717590cc240",
   "metadata": {},
   "source": [
    "### 训练过程中的指标评估（Evaluate)\n",
    "\n",
    "**[Hugging Face Evaluate 库](https://huggingface.co/docs/evaluate/index)** 支持使用一行代码，获得数十种不同领域（自然语言处理、计算机视觉、强化学习等）的评估方法。 当前支持 **完整评估指标：https://huggingface.co/evaluate-metric**\n",
    "\n",
    "训练器（Trainer）在训练过程中不会自动评估模型性能。因此，我们需要向训练器传递一个函数来计算和报告指标。 \n",
    "\n",
    "Evaluate库提供了一个简单的准确率函数，您可以使用`evaluate.load`函数加载"
   ]
  },
  {
   "cell_type": "code",
   "execution_count": 31,
   "id": "2a8ef138-5bf2-41e5-8c68-df8e11f4e98f",
   "metadata": {},
   "outputs": [
    {
     "name": "stdout",
     "output_type": "stream",
     "text": [
      "当前HF端点: https://hf-mirror.com\n"
     ]
    }
   ],
   "source": [
    "import numpy as np\n",
    "import evaluate\n",
    "import os\n",
    "\n",
    "# 确认环境变量设置\n",
    "print(\"当前HF端点:\", os.getenv('HF_ENDPOINT', '默认（未设置）'))  # 应该显示 https://hf-mirror.com\n",
    "\n",
    "metric = evaluate.load(\"./accuracy.py\")"
   ]
  },
  {
   "cell_type": "markdown",
   "id": "70d406c0-56d0-4a54-9c6c-e126ab7f5254",
   "metadata": {},
   "source": [
    "\n",
    "接着，调用 `compute` 函数来计算预测的准确率。\n",
    "\n",
    "在将预测传递给 compute 函数之前，我们需要将 logits 转换为预测值（**所有Transformers 模型都返回 logits**）。"
   ]
  },
  {
   "cell_type": "code",
   "execution_count": 32,
   "id": "f46d2e59-1ebf-43d2-bc86-6b57a4d24d19",
   "metadata": {},
   "outputs": [],
   "source": [
    "def compute_metrics(eval_pred):\n",
    "    logits, labels = eval_pred\n",
    "    predictions = np.argmax(logits, axis=-1)\n",
    "    return metric.compute(predictions=predictions, references=labels)"
   ]
  },
  {
   "cell_type": "markdown",
   "id": "e2feba67-9ca9-4793-9a15-3eaa426df2a1",
   "metadata": {},
   "source": [
    "#### 训练过程指标监控\n",
    "\n",
    "通常，为了监控训练过程中的评估指标变化，我们可以在`TrainingArguments`指定`evaluation_strategy`参数，以便在 epoch 结束时报告评估指标。"
   ]
  },
  {
   "cell_type": "code",
   "execution_count": 33,
   "id": "afaaee18-4986-4e39-8ad9-b8d413ab4cd1",
   "metadata": {},
   "outputs": [],
   "source": [
    "from transformers import TrainingArguments, Trainer\n",
    "\n",
    "training_args = TrainingArguments(output_dir=model_dir,\n",
    "                                  evaluation_strategy=\"epoch\", \n",
    "                                  per_device_train_batch_size=16,\n",
    "                                  num_train_epochs=3,\n",
    "                                  logging_steps=30)"
   ]
  },
  {
   "cell_type": "markdown",
   "id": "d47d6981-e444-4c0f-a7cb-dd7f2ba8df12",
   "metadata": {},
   "source": [
    "## 开始训练\n",
    "\n",
    "### 实例化训练器（Trainer）\n",
    "\n",
    "`kernel version` 版本问题：暂不影响本示例代码运行"
   ]
  },
  {
   "cell_type": "code",
   "execution_count": 16,
   "id": "ca1d12ac-89dc-4c30-8282-f859724c0062",
   "metadata": {},
   "outputs": [
    {
     "name": "stderr",
     "output_type": "stream",
     "text": [
      "Detected kernel version 4.4.0, which is below the recommended minimum of 5.5.0; this can cause the process to hang. It is recommended to upgrade the kernel to the minimum version or higher.\n"
     ]
    }
   ],
   "source": [
    "trainer = Trainer(\n",
    "    model=model,\n",
    "    args=training_args,\n",
    "    train_dataset=small_train_dataset,\n",
    "    eval_dataset=small_eval_dataset,\n",
    "    compute_metrics=compute_metrics,\n",
    ")"
   ]
  },
  {
   "cell_type": "markdown",
   "id": "a833e0db-1168-4a3c-8b75-bfdcef8c5157",
   "metadata": {},
   "source": [
    "## 使用 nvidia-smi 查看 GPU 使用\n",
    "\n",
    "为了实时查看GPU使用情况，可以使用 `watch` 指令实现轮询：`watch -n 1 nvidia-smi`:\n",
    "\n",
    "```shell\n",
    "Every 1.0s: nvidia-smi                                                   Wed Dec 20 14:37:41 2023\n",
    "\n",
    "Wed Dec 20 14:37:41 2023\n",
    "+---------------------------------------------------------------------------------------+\n",
    "| NVIDIA-SMI 535.129.03             Driver Version: 535.129.03   CUDA Version: 12.2     |\n",
    "|-----------------------------------------+----------------------+----------------------+\n",
    "| GPU  Name                 Persistence-M | Bus-Id        Disp.A | Volatile Uncorr. ECC |\n",
    "| Fan  Temp   Perf          Pwr:Usage/Cap |         Memory-Usage | GPU-Util  Compute M. |\n",
    "|                                         |                      |               MIG M. |\n",
    "|=========================================+======================+======================|\n",
    "|   0  Tesla T4                       Off | 00000000:00:0D.0 Off |                    0 |\n",
    "| N/A   64C    P0              69W /  70W |   6665MiB / 15360MiB |     98%      Default |\n",
    "|                                         |                      |                  N/A |\n",
    "+-----------------------------------------+----------------------+----------------------+\n",
    "\n",
    "+---------------------------------------------------------------------------------------+\n",
    "| Processes:                                                                            |\n",
    "|  GPU   GI   CI        PID   Type   Process name                            GPU Memory |\n",
    "|        ID   ID                                                             Usage      |\n",
    "|=======================================================================================|\n",
    "|    0   N/A  N/A     18395      C   /root/miniconda3/bin/python                6660MiB |\n",
    "+---------------------------------------------------------------------------------------+\n",
    "```"
   ]
  },
  {
   "cell_type": "code",
   "execution_count": 17,
   "id": "accfe921-471d-481a-96da-c491cdebad0c",
   "metadata": {},
   "outputs": [
    {
     "data": {
      "text/html": [
       "\n",
       "    <div>\n",
       "      \n",
       "      <progress value='189' max='189' style='width:300px; height:20px; vertical-align: middle;'></progress>\n",
       "      [189/189 05:39, Epoch 3/3]\n",
       "    </div>\n",
       "    <table border=\"1\" class=\"dataframe\">\n",
       "  <thead>\n",
       " <tr style=\"text-align: left;\">\n",
       "      <th>Epoch</th>\n",
       "      <th>Training Loss</th>\n",
       "      <th>Validation Loss</th>\n",
       "      <th>Accuracy</th>\n",
       "    </tr>\n",
       "  </thead>\n",
       "  <tbody>\n",
       "    <tr>\n",
       "      <td>1</td>\n",
       "      <td>1.242100</td>\n",
       "      <td>1.090886</td>\n",
       "      <td>0.526000</td>\n",
       "    </tr>\n",
       "    <tr>\n",
       "      <td>2</td>\n",
       "      <td>0.901400</td>\n",
       "      <td>0.960115</td>\n",
       "      <td>0.591000</td>\n",
       "    </tr>\n",
       "    <tr>\n",
       "      <td>3</td>\n",
       "      <td>0.638200</td>\n",
       "      <td>0.978361</td>\n",
       "      <td>0.592000</td>\n",
       "    </tr>\n",
       "  </tbody>\n",
       "</table><p>"
      ],
      "text/plain": [
       "<IPython.core.display.HTML object>"
      ]
     },
     "metadata": {},
     "output_type": "display_data"
    },
    {
     "data": {
      "text/plain": [
       "TrainOutput(global_step=189, training_loss=0.9693943861300353, metrics={'train_runtime': 341.7098, 'train_samples_per_second': 8.779, 'train_steps_per_second': 0.553, 'total_flos': 789354427392000.0, 'train_loss': 0.9693943861300353, 'epoch': 3.0})"
      ]
     },
     "execution_count": 17,
     "metadata": {},
     "output_type": "execute_result"
    }
   ],
   "source": [
    "trainer.train()"
   ]
  },
  {
   "cell_type": "code",
   "execution_count": 18,
   "id": "6d581099-37a4-4470-b051-1ada38554089",
   "metadata": {},
   "outputs": [],
   "source": [
    "small_test_dataset = tokenized_datasets[\"test\"].shuffle(seed=64).select(range(100))"
   ]
  },
  {
   "cell_type": "code",
   "execution_count": 19,
   "id": "ffb47eab-1370-491e-8a84-6d5347a350b2",
   "metadata": {},
   "outputs": [
    {
     "data": {
      "text/html": [
       "\n",
       "    <div>\n",
       "      \n",
       "      <progress value='13' max='13' style='width:300px; height:20px; vertical-align: middle;'></progress>\n",
       "      [13/13 00:02]\n",
       "    </div>\n",
       "    "
      ],
      "text/plain": [
       "<IPython.core.display.HTML object>"
      ]
     },
     "metadata": {},
     "output_type": "display_data"
    },
    {
     "data": {
      "text/plain": [
       "{'eval_loss': 1.0753791332244873,\n",
       " 'eval_accuracy': 0.52,\n",
       " 'eval_runtime': 2.9889,\n",
       " 'eval_samples_per_second': 33.457,\n",
       " 'eval_steps_per_second': 4.349,\n",
       " 'epoch': 3.0}"
      ]
     },
     "execution_count": 19,
     "metadata": {},
     "output_type": "execute_result"
    }
   ],
   "source": [
    "trainer.evaluate(small_test_dataset)"
   ]
  },
  {
   "cell_type": "markdown",
   "id": "27a55686-7c43-4ab8-a5cd-0e77f14c7c52",
   "metadata": {},
   "source": [
    "### 保存模型和训练状态\n",
    "\n",
    "- 使用 `trainer.save_model` 方法保存模型，后续可以通过 from_pretrained() 方法重新加载\n",
    "- 使用 `trainer.save_state` 方法保存训练状态"
   ]
  },
  {
   "cell_type": "code",
   "execution_count": 20,
   "id": "ad0cbc14-9ef7-450f-a1a3-4f92b6486f41",
   "metadata": {},
   "outputs": [],
   "source": [
    "trainer.save_model(model_dir)"
   ]
  },
  {
   "cell_type": "code",
   "execution_count": 22,
   "id": "f6e30510-0536-49d4-8e1b-43fc25272bde",
   "metadata": {},
   "outputs": [],
   "source": []
  },
  {
   "cell_type": "code",
   "execution_count": 21,
   "id": "badf5868-2847-439d-a73e-42d1cca67b5e",
   "metadata": {},
   "outputs": [],
   "source": [
    "trainer.save_state()"
   ]
  },
  {
   "cell_type": "code",
   "execution_count": null,
   "id": "8c9441ad-f65a-42b7-9016-4809c78285e9",
   "metadata": {},
   "outputs": [],
   "source": []
  },
  {
   "cell_type": "code",
   "execution_count": 23,
   "id": "fd92e35d-fed7-4ff2-aa84-27b5e29b917a",
   "metadata": {},
   "outputs": [],
   "source": [
    "# trainer.model.save_pretrained(\"./\")"
   ]
  },
  {
   "cell_type": "markdown",
   "id": "61828934-01da-4fc3-9e75-8d754c25dfbc",
   "metadata": {},
   "source": [
    "## Homework: 使用完整的 YelpReviewFull 数据集训练，看 Acc 最高能到多少"
   ]
  },
  {
   "cell_type": "code",
   "execution_count": null,
   "id": "6ee2580a-7a5a-46ae-a28b-b41e9e838eb1",
   "metadata": {},
   "outputs": [],
   "source": []
  }
 ],
 "metadata": {
  "kernelspec": {
   "display_name": "Python 3 (ipykernel)",
   "language": "python",
   "name": "python3"
  },
  "language_info": {
   "codemirror_mode": {
    "name": "ipython",
    "version": 3
   },
   "file_extension": ".py",
   "mimetype": "text/x-python",
   "name": "python",
   "nbconvert_exporter": "python",
   "pygments_lexer": "ipython3",
   "version": "3.10.16"
  }
 },
 "nbformat": 4,
 "nbformat_minor": 5
}
